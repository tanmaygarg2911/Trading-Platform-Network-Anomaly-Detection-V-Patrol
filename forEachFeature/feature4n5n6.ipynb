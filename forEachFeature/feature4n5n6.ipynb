{
 "cells": [
  {
   "cell_type": "markdown",
   "metadata": {},
   "source": [
    "# IP Address Anomaly Detection & Carrier Data Cleaning  \n",
    "\n",
    "## 1. Data Loading and Initial Inspection  \n",
    "- Loaded the primary dataset from an Excel file containing normalized network data.  \n",
    "- Checked for missing values in the dataset.  \n",
    "\n",
    "## 2. Missing Carrier Information Detection  \n",
    "- Created a flag `missing_carrier` to identify rows where the `carrier` field is missing.  \n",
    "- Stored the flagged data in a new DataFrame (`dfMissingFlags`).  \n",
    "\n",
    "## 3. Identifying Impossible IP Addresses  \n",
    "- Loaded a separate dataset containing IP addresses and their validity status.  \n",
    "- Dropped unnecessary columns (`message`) from the IP dataset.  \n",
    "- Identified fake or impossible IP addresses where `status == 'fail'`.  \n",
    "- Mapped these IPs and flagged their presence in the main dataset using the `impossible_ips` column.  \n",
    "\n",
    "## 4. Merging IP Metadata and Geolocation Data  \n",
    "- Renamed IP dataset columns for clarity (`country → ip_country`, `lat → ip_lat`, `lon → ip_lon`, `query → ipAddress`).  \n",
    "- Filled missing values in the IP dataset with default values (`0` or `\"Unknown\"` for failed IP lookups).  \n",
    "- Merged the enriched IP metadata with the main dataset using `ipAddress`.  \n",
    "\n",
    "## 5. Country Code Mismatch Detection  \n",
    "- Created a mapping for country names to standardized country codes (`pak` for Pakistan, `hkg` for Hong Kong, etc.).  \n",
    "- Derived a new column `country_code_ip` using this mapping on the `ip_country` field.  \n",
    "- Compared `country_code_ip` with `device_country_code` to flag mismatches (`country_code_mismatch`).  \n",
    "\n",
    "## 6. Summary Statistics and Export  \n",
    "- Counted and printed the number of flagged records for:  \n",
    "  - Missing carrier data  \n",
    "  - Impossible IP addresses  \n",
    "  - Country code mismatches  \n",
    "- Exported the flagged records (`missing_carrier`, `impossible_ips`, `country_code_mismatch`) to a CSV file for further analysis.  \n",
    "\n",
    "---\n",
    "\n",
    "### Key Insights  \n",
    "- Detecting missing carrier data helps in assessing data completeness and potential errors in the dataset.  \n",
    "- Identifying impossible IPs ensures that fake or spoofed addresses do not impact network security analysis.  \n",
    "- Flagging country mismatches between IP-based geolocation and device settings can help detect VPN/proxy usage or fraud attempts.  \n",
    "- Further analysis could involve anomaly detection techniques or integrating external threat intelligence sources for enhanced accuracy.  \n"
   ]
  },
  {
   "cell_type": "code",
   "execution_count": 3,
   "metadata": {},
   "outputs": [],
   "source": [
    "import pandas as pd"
   ]
  },
  {
   "cell_type": "code",
   "execution_count": 4,
   "metadata": {},
   "outputs": [],
   "source": [
    "df = pd.read_excel(r\"C:\\Users\\Tanmay\\V-Patrol\\work\\CombinedCountryData_2.0-IPv4_Cleaned.xlsx\",sheet_name=\"normalized_file123\")"
   ]
  },
  {
   "cell_type": "code",
   "execution_count": 5,
   "metadata": {},
   "outputs": [
    {
     "data": {
      "text/plain": [
       "reqTimeConverted          0\n",
       "deviceIfa                 0\n",
       "os                        0\n",
       "osv                       0\n",
       "normalized_osv            0\n",
       "ipAddress                 0\n",
       "carrier                4039\n",
       "connectionType            0\n",
       "device_vendor           216\n",
       "device_model              0\n",
       "device_height             0\n",
       "device_width              0\n",
       "deviceType                0\n",
       "location_type             0\n",
       "latitude                  0\n",
       "longitude                 0\n",
       "appBundle                 0\n",
       "device_country_code       0\n",
       "ua                        0\n",
       "dtype: int64"
      ]
     },
     "execution_count": 5,
     "metadata": {},
     "output_type": "execute_result"
    }
   ],
   "source": [
    "df.isna().sum()"
   ]
  },
  {
   "cell_type": "code",
   "execution_count": 6,
   "metadata": {},
   "outputs": [
    {
     "data": {
      "text/plain": [
       "(121585, 1)"
      ]
     },
     "execution_count": 6,
     "metadata": {},
     "output_type": "execute_result"
    }
   ],
   "source": [
    "dfMissingFlags = pd.DataFrame()\n",
    "dfMissingFlags[\"missing_carrier\"] = df[\"carrier\"].isna()\n",
    "dfMissingFlags.shape"
   ]
  },
  {
   "cell_type": "code",
   "execution_count": 8,
   "metadata": {},
   "outputs": [
    {
     "data": {
      "text/plain": [
       "(121585, 3)"
      ]
     },
     "execution_count": 8,
     "metadata": {},
     "output_type": "execute_result"
    }
   ],
   "source": [
    "# Load IP data from a CSV file created using https://ip-api.com/\n",
    "ipData = pd.read_csv(r\"C:\\Users\\Tanmay\\V-Patrol\\work\\uniqueIPs.csv\")\n",
    "\n",
    "# Drop the unnecessary 'message' column\n",
    "ipData.drop(columns=[\"message\"], inplace=True)\n",
    "\n",
    "# Identify fake or impossible IP addresses where status is 'fail'\n",
    "fakeIps = ipData[ipData[\"status\"] == 'fail']\n",
    "\n",
    "# Convert the list of fake IP addresses to a list\n",
    "ipsToRemove = fakeIps['query'].to_list()\n",
    "\n",
    "# Add the 'ipAddress' column to dfMissingFlags from the main dataframe\n",
    "dfMissingFlags[\"ipAddress\"] = df[\"ipAddress\"]\n",
    "\n",
    "# Flag the presence of impossible IPs in the main dataset\n",
    "dfMissingFlags[\"impossible_ips\"] = dfMissingFlags[\"ipAddress\"].isin(ipsToRemove)\n",
    "\n",
    "# Output the shape of the dfMissingFlags DataFrame\n",
    "dfMissingFlags.shape"
   ]
  },
  {
   "cell_type": "code",
   "execution_count": 9,
   "metadata": {},
   "outputs": [
    {
     "name": "stdout",
     "output_type": "stream",
     "text": [
      "(4039, 3)\n",
      "(4, 3)\n"
     ]
    }
   ],
   "source": [
    "print(dfMissingFlags[dfMissingFlags[\"missing_carrier\"]==True].shape)\n",
    "print(dfMissingFlags[dfMissingFlags[\"impossible_ips\"]==True].shape)"
   ]
  },
  {
   "cell_type": "code",
   "execution_count": 10,
   "metadata": {},
   "outputs": [],
   "source": [
    "IPsData = ipData.rename(columns={\"country\": \"ip_country\", \"lat\": \"ip_lat\", \"lon\": \"ip_lon\", \"query\": \"ipAddress\"})\n",
    "IPsData.fillna(0,inplace=True)"
   ]
  },
  {
   "cell_type": "code",
   "execution_count": 11,
   "metadata": {},
   "outputs": [],
   "source": [
    "IPsData.iloc[IPsData[\"status\"]==\"fail\",1] = \"Unknown\""
   ]
  },
  {
   "cell_type": "code",
   "execution_count": 12,
   "metadata": {},
   "outputs": [],
   "source": [
    "IPsData.drop(\"status\",axis=1,inplace=True)"
   ]
  },
  {
   "cell_type": "code",
   "execution_count": 13,
   "metadata": {},
   "outputs": [],
   "source": [
    "df1_updated = df.merge(IPsData, on=\"ipAddress\", how=\"left\")\n",
    "country_mapping = {\n",
    "    \"Pakistan\":\"pak\",\n",
    "    \"Hong Kong\":\"hkg\",\n",
    "    \"India\":\"ind\",\n",
    "    \"Bangladesh\":\"bgd\",\n",
    "    \"Nepal\":\"npl\"\n",
    "}\n",
    "\n",
    "df1_updated[\"country_code_ip\"] = df1_updated[\"ip_country\"].apply(lambda x: country_mapping.get(x, \"Unknown\"))"
   ]
  },
  {
   "cell_type": "code",
   "execution_count": 24,
   "metadata": {},
   "outputs": [],
   "source": [
    "df1_updated[\"country_code_misatch\"] = df1_updated[\"country_code_ip\"] != df1_updated[\"device_country_code\"]"
   ]
  },
  {
   "cell_type": "code",
   "execution_count": 14,
   "metadata": {},
   "outputs": [],
   "source": [
    "dfMissingFlags[\"country_code_misatch\"] = df1_updated[\"country_code_ip\"] != df1_updated[\"device_country_code\"]"
   ]
  },
  {
   "cell_type": "code",
   "execution_count": 15,
   "metadata": {},
   "outputs": [],
   "source": [
    "dfTocsv = dfMissingFlags[[\"missing_carrier\",\"impossible_ips\",\"country_code_misatch\"]]"
   ]
  },
  {
   "cell_type": "code",
   "execution_count": 16,
   "metadata": {},
   "outputs": [],
   "source": [
    "# dfTocsv.to_csv(r\"C:\\Users\\tanmay\\V-Patrol\\featureEngineering\\feature_4_5_6.csv\")"
   ]
  },
  {
   "cell_type": "markdown",
   "metadata": {},
   "source": [
    "# Visualization and Insights"
   ]
  },
  {
   "cell_type": "code",
   "execution_count": null,
   "metadata": {},
   "outputs": [],
   "source": [
    "import matplotlib.pyplot as plt\n",
    "import matplotlib.pyplot as plt\n",
    "import geopandas as gpd\n",
    "import folium\n",
    "from IPython.display import display"
   ]
  },
  {
   "cell_type": "code",
   "execution_count": 17,
   "metadata": {},
   "outputs": [
    {
     "data": {
      "image/png": "[encoded data removed]",
      "text/plain": [
       "<Figure size 800x600 with 1 Axes>"
      ]
     },
     "metadata": {},
     "output_type": "display_data"
    }
   ],
   "source": [
    "# Count the missing and non-missing carrier data\n",
    "missing_carrier_counts = dfMissingFlags[\"missing_carrier\"].value_counts()\n",
    "\n",
    "# Plot the pie chart\n",
    "plt.figure(figsize=(8, 6))\n",
    "plt.pie(missing_carrier_counts, labels=missing_carrier_counts.index, autopct='%1.1f%%', startangle=90, colors=['lightcoral', 'lightskyblue'])\n",
    "plt.title('Missing Carrier Data Distribution')\n",
    "plt.axis('equal')  # Equal aspect ratio ensures that pie is drawn as a circle.\n",
    "plt.show()"
   ]
  },
  {
   "cell_type": "markdown",
   "metadata": {},
   "source": [
    "### **Insights from the Pie Chart on Missing Carrier Information**  \n",
    "\n",
    "**Very Few Devices Have Missing Carrier Information**  \n",
    "   - **Only 3.3% of devices lack carrier details.**  \n",
    "   - This could be due to:  \n",
    "     - **Anonymized or spoofed devices** (e.g., bots, VPN users, or modified firmware).  "
   ]
  },
  {
   "cell_type": "code",
   "execution_count": 21,
   "metadata": {},
   "outputs": [
    {
     "data": {
      "image/png": "[encoded data removed]",
      "text/plain": [
       "<Figure size 600x400 with 1 Axes>"
      ]
     },
     "metadata": {},
     "output_type": "display_data"
    }
   ],
   "source": [
    "# Count values\n",
    "impossible_ips_counts = dfMissingFlags[\"impossible_ips\"].value_counts()\n",
    "\n",
    "# Convert index to string labels\n",
    "labels = ['False', 'True']\n",
    "\n",
    "# Plot bar chart\n",
    "plt.figure(figsize=(6, 4))\n",
    "plt.bar(labels, impossible_ips_counts, color=['lightcoral', 'lightskyblue'])\n",
    "plt.ylabel(\"Count\")\n",
    "plt.title(\"Impossible IPs Distribution\")\n",
    "\n",
    "# Annotate values\n",
    "for i, v in enumerate(impossible_ips_counts):\n",
    "    plt.text(i, v + 100, str(v), ha='center', fontsize=12)\n",
    "\n",
    "plt.show()\n"
   ]
  },
  {
   "cell_type": "markdown",
   "metadata": {},
   "source": [
    "## Analysis of impossible IPs:\n",
    "\n",
    "### **Impossible IP Addresses**    \n",
    "  - **Technical Context**:  \n",
    "    - `0.0.0.0` is a non-routable placeholder IP (often used for misconfigured systems or DHCP failures).  \n",
    "    - `253.190.255.137` and `233.139.4.167` fall outside the valid public IPv4 range (`1.0.0.0` to `223.255.255.255`). These are **reserved/multicast IPs** (e.g., `233.x.x.x` is part of the multicast range `224.0.0.0/4`).  \n",
    "- **Abnormality Insight**:  \n",
    "  - These IPs **cannot originate from legitimate internet traffic** and suggest:  \n",
    "    - **Spoofed packets** (e.g., DDoS reflection attacks).    \n",
    "    - Scanning/probing activity from compromised systems. "
   ]
  },
  {
   "cell_type": "code",
   "execution_count": 27,
   "metadata": {},
   "outputs": [
    {
     "data": {
      "text/html": [
       "\n",
       "        <iframe\n",
       "            width=\"800\"\n",
       "            height=\"600\"\n",
       "            src=\"anomaly_map.html\"\n",
       "            frameborder=\"0\"\n",
       "            allowfullscreen\n",
       "            \n",
       "        ></iframe>\n",
       "        "
      ],
      "text/plain": [
       "<IPython.lib.display.IFrame at 0x2129d1e4ec0>"
      ]
     },
     "execution_count": 27,
     "metadata": {},
     "output_type": "execute_result"
    }
   ],
   "source": [
    "# Create a GeoDataFrame\n",
    "gdf = gpd.GeoDataFrame(df1_updated, geometry=gpd.points_from_xy(df1_updated.ip_lon, df1_updated.ip_lat))\n",
    "\n",
    "# Create a base map\n",
    "m = folium.Map(location=[20, 0], zoom_start=2)\n",
    "\n",
    "# Add points to the map\n",
    "for idx, row in gdf[gdf[\"country_code_misatch\"]].iterrows():\n",
    "    folium.CircleMarker([row['ip_lat'], row['ip_lon']],\n",
    "                        radius=5,\n",
    "                        color='red',\n",
    "                        fill=True,\n",
    "                        fill_color='red').add_to(m)\n",
    "\n",
    "# Save the map to an HTML file\n",
    "map_path = r\"anomaly_map.html\"\n",
    "m.save(map_path)\n",
    "display(m)  # This should render the map inside the notebook."
   ]
  },
  {
   "cell_type": "markdown",
   "metadata": {},
   "source": [
    "## Analysis of the **country code mismatches** and **unknown IP geolocations** in dataset:\n",
    "\n",
    "### **1. Suspicious Geographic Mismatches**  \n",
    "#### **Observations**:  \n",
    "- **Device Country Code ≠ IP Country**:  \n",
    "  - **Example**: `device_country_code=bgd` (Bangladesh) with `ip_country=Colombia/Myanmar/Philippines` (e.g., rows 96359, 95774, 97035).  \n",
    "  - **Abnormality Insight**:  \n",
    "    - Legitimate traffic from Bangladesh should not route through Colombia/Myanmar unless:  \n",
    "      - **VPN/Proxy Abuse**: Attackers masking origins to bypass geo-restrictions.  \n",
    "      - **Botnet Activity**: Compromised devices in Bangladesh being used as proxies for attacks in other regions.  \n",
    "      - **Data Exfiltration**: Traffic rerouted to obscure destinations to evade detection.  \n",
    "\n",
    "- **Device Country Code ≠ Country Code IP**:  \n",
    "  - **Example**: `country_code_ip=ind` (India) vs. `device_country_code=bgd` (Bangladesh) (rows 111214, 116699, 117821).  \n",
    "  - **Abnormality Insight**:  \n",
    "    - Likely **DNS spoofing** or **IP hijacking**, where Indian IPs are spoofed to target Bangladeshi devices.  \n",
    "\n",
    "### **2. Clustering of Unknown IP Geolocations**  \n",
    "#### **Observations**:  \n",
    "- **`country_code_ip=Unknown`** dominates the dataset (e.g., rows 137, 9113, 96375).  \n",
    "- **`ip_country=Unknown`** (e.g., rows 24357, 96375, 117931) aligns with reserved/non-routable IPs (e.g., `0.0.0.0`).  \n",
    "- **Abnormality Insight**:  \n",
    "  - **Spoofed IPs**: Attackers using invalid IP ranges to evade blacklists or geolocation rules.  \n",
    "  - **Internal Threats**: Misconfigured internal devices (e.g., IoT sensors) generating traffic with invalid IPs.  \n",
    "  - **DDoS Amplification**: Attackers forging source IPs (e.g., `233.x.x.x` multicast IPs) to overwhelm targets.  \n",
    "\n",
    "### **3. Repetitive Patterns**  \n",
    "#### **Observations**:  \n",
    "- **Repeated `ip_country` Values**:  \n",
    "  - **Colombia**: 15+ entries (e.g., rows 96359, 99281, 104505).  \n",
    "  - **Indonesia/Myanmar**: 10+ entries (e.g., rows 95875, 99904, 103606).  \n",
    "- **Abnormality Insight**:  \n",
    "  - **Botnet Coordination**: Automated attacks (e.g., credential stuffing, port scanning) from clusters of IPs in specific countries.  \n",
    "  - **Phishing/Scam Campaigns**: Attack infrastructure hosted in high-risk regions (e.g., Myanmar, Colombia).  \n",
    "\n",
    "### **4. Inconsistent Geolocation Metadata**  \n",
    "#### **Observations**:  \n",
    "- **Example**: `device_country_code=hkg` (Hong Kong) with `ip_country=Germany` (row 13402).  \n",
    "- **Abnormality Insight**:  \n",
    "    - **Malware Command Servers:** Hackers send hidden commands to infected computers by secretly routing their traffic through European servers. This makes it harder to track where the real control system is.  \n",
    "    - **Data Theft:** Stolen sensitive data is secretly sent through Germany to avoid detection by security systems in Asia."
   ]
  }
 ],
 "metadata": {
  "kernelspec": {
   "display_name": ".venv",
   "language": "python",
   "name": "python3"
  },
  "language_info": {
   "codemirror_mode": {
    "name": "ipython",
    "version": 3
   },
   "file_extension": ".py",
   "mimetype": "text/x-python",
   "name": "python",
   "nbconvert_exporter": "python",
   "pygments_lexer": "ipython3",
   "version": "3.13.1"
  }
 },
 "nbformat": 4,
 "nbformat_minor": 2
}
