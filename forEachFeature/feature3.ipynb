{
 "cells": [
  {
   "cell_type": "markdown",
   "metadata": {},
   "source": [
    "# Network Device Data Cleaning & Anomaly Detection  \n",
    "\n",
    "## 1. Data Loading and Preprocessing  \n",
    "- Loaded the dataset from an Excel file containing normalized device data.  \n",
    "- Created a mapping of `deviceType` values with their corresponding descriptions.  \n",
    "- Selected relevant columns such as `os`, `osv`, `normalized_osv`, `device_vendor`, `device_model`, `device_height`, `device_width`, and `deviceType`.  \n",
    "- Replaced numeric OS values with meaningful string labels (`4 → Android`, `5 → iOS`).  \n",
    "- Merged the dataset with the `deviceType` mapping to replace numeric device type codes with descriptive labels.  \n",
    "\n",
    "## 2. Handling Missing Vendor Information  \n",
    "- Flagged rows where `device_vendor` is missing as abnormal using a `missing_vendor` column.  \n",
    "- Filled missing `device_vendor` values with `\"Unknown\"` to avoid issues in further grouping.  \n",
    "\n",
    "## 3. Device Consistency Check (Grouping and Anomaly Detection)  \n",
    "- Grouped data by `device_vendor` and `device_model` to analyze consistency in hardware and software attributes.  \n",
    "- Identified inconsistencies in:  \n",
    "  - `os` (operating system mismatch)  \n",
    "  - `osv` (operating system version mismatch)  \n",
    "  - `device_height` (height mismatch)  \n",
    "  - `device_width` (width mismatch)  \n",
    "- Applied a function to flag records where these attributes differ from the most common value in the group.  \n",
    "\n",
    "## 4. OS Version Normalization and Mismatch Detection  \n",
    "- Extracted the major OS version from `osv` (before the first dot).  \n",
    "- Compared the extracted major version with `normalized_osv` and flagged mismatches.  \n",
    "\n",
    "## 5. Summary Statistics and Export  \n",
    "- Printed the count of records for each type of anomaly:  \n",
    "  - Missing vendor  \n",
    "  - OS mismatch  \n",
    "  - OS version mismatch  \n",
    "  - Height mismatch  \n",
    "  - Width mismatch  \n",
    "- Exported a subset of anomaly flags (`missing_vendor`, `osv_mismatch`, `height_mismatch`, `width_mismatch`) to a CSV file for further analysis. \n"
   ]
  },
  {
   "cell_type": "code",
   "execution_count": 2,
   "metadata": {},
   "outputs": [],
   "source": [
    "import pandas as pd\n",
    "from io import StringIO"
   ]
  },
  {
   "cell_type": "code",
   "execution_count": 3,
   "metadata": {},
   "outputs": [],
   "source": [
    "df = pd.read_excel(r\"C:\\Users\\Tanmay\\V-Patrol\\work\\CombinedCountryData_2.0-IPv4_Cleaned.xlsx\",sheet_name=\"normalized_file123\")"
   ]
  },
  {
   "cell_type": "code",
   "execution_count": 4,
   "metadata": {},
   "outputs": [],
   "source": [
    "data = \"\"\"deviceType,Value\n",
    "1,Mobile/Tablet Version 2.0\n",
    "2,Personal Computer Version 2.0\n",
    "3,Connected TV Version 2.0\n",
    "4,Phone New for Version 2.2\n",
    "5,Tablet New for Version 2.2\n",
    "6,Connected Device New for Version 2.2\n",
    "7,Set Top Box New for Version 2.2\"\"\"\n",
    "\n",
    "df_deviceType = pd.read_csv(StringIO(data))"
   ]
  },
  {
   "cell_type": "code",
   "execution_count": 5,
   "metadata": {},
   "outputs": [
    {
     "name": "stderr",
     "output_type": "stream",
     "text": [
      "C:\\Users\\Tanmay\\AppData\\Local\\Temp\\ipykernel_12348\\1059937635.py:5: FutureWarning: Setting an item of incompatible dtype is deprecated and will raise an error in a future version of pandas. Value 'Android' has dtype incompatible with int64, please explicitly cast to a compatible dtype first.\n",
      "  df_device.loc[df_device[\"os\"] == 4, \"os\"] = \"Android\"\n"
     ]
    }
   ],
   "source": [
    "# Select relevant columns from the dataframe\n",
    "df_device = df[['os','osv','normalized_osv','device_vendor','device_model', 'device_height', 'device_width', 'deviceType']]\n",
    "\n",
    "# Replace numeric OS values with string equivalents\n",
    "df_device.loc[df_device[\"os\"] == 4, \"os\"] = \"Android\"\n",
    "df_device.loc[df_device[\"os\"] == 5, \"os\"] = \"IOS\"\n",
    "\n",
    "# Merge with deviceType dataframe to get device type descriptions\n",
    "df_device = df_device.merge(df_deviceType, on=\"deviceType\", how=\"left\")\n",
    "\n",
    "# Drop the old deviceType column if needed\n",
    "df_device.drop(columns=[\"deviceType\"], inplace=True)\n",
    "\n",
    "# Rename the merged column to deviceType\n",
    "df_device.rename(columns={\"Value\": \"deviceType\"}, inplace=True)"
   ]
  },
  {
   "cell_type": "code",
   "execution_count": 6,
   "metadata": {},
   "outputs": [
    {
     "name": "stderr",
     "output_type": "stream",
     "text": [
      "C:\\Users\\Tanmay\\AppData\\Local\\Temp\\ipykernel_12348\\2514670770.py:29: DeprecationWarning: DataFrameGroupBy.apply operated on the grouping columns. This behavior is deprecated, and in a future version of pandas the grouping columns will be excluded from the operation. Either pass `include_groups=False` to exclude the groupings or explicitly select the grouping columns after groupby to silence this warning.\n",
      "  mismatch_flags = grouped.apply(flag_unusual).reset_index(drop=True)\n"
     ]
    },
    {
     "data": {
      "text/plain": [
       "(121585, 16)"
      ]
     },
     "execution_count": 6,
     "metadata": {},
     "output_type": "execute_result"
    }
   ],
   "source": [
    "# Load data\n",
    "deviceDF = df_device\n",
    "\n",
    "# Step 1: Explicitly flag rows with missing vendor as abnormal\n",
    "deviceDF['missing_vendor'] = deviceDF['device_vendor'].isna()\n",
    "\n",
    "# Step 2: Fill NaN temporarily for grouping (use \"Unknown\" to avoid grouping issues)\n",
    "deviceDF['device_vendor_filled'] = deviceDF['device_vendor'].fillna(\"Unknown\")\n",
    "\n",
    "# Step 3: Group by vendor and model (including \"Unknown\" vendor)\n",
    "grouped = deviceDF.groupby(['device_vendor_filled', 'device_model'])\n",
    "\n",
    "def flag_unusual(group):\n",
    "    # Get mode values for each column within the group\n",
    "    mode_os = group['os'].mode().iloc[0] if not group['os'].mode().empty else None\n",
    "    mode_osv = group['osv'].mode().iloc[0] if not group['osv'].mode().empty else None\n",
    "    mode_height = group['device_height'].mode().iloc[0] if not group['device_height'].mode().empty else None\n",
    "    mode_width = group['device_width'].mode().iloc[0] if not group['device_width'].mode().empty else None\n",
    "\n",
    "    # Create separate columns for each mismatch\n",
    "    group['os_mismatch'] = group['os'] != mode_os\n",
    "    group['osv_mismatch'] = group['osv'] != mode_osv\n",
    "    group['height_mismatch'] = group['device_height'] != mode_height\n",
    "    group['width_mismatch'] = group['device_width'] != mode_width\n",
    "\n",
    "    return group[['os_mismatch', 'osv_mismatch', 'height_mismatch', 'width_mismatch']]\n",
    "\n",
    "# Apply the function group-wise\n",
    "mismatch_flags = grouped.apply(flag_unusual).reset_index(drop=True)\n",
    "\n",
    "# Merge the new columns back into the original dataset\n",
    "deviceDF = deviceDF.join(mismatch_flags)\n",
    "\n",
    "# Step 5: Extract the major OS version from 'osv' (before the first dot)\n",
    "deviceDF['osv_major'] = deviceDF['osv'].astype(str).str.split('.').str[0]\n",
    "\n",
    "# Step 6: Flag mismatches between 'osv_major' and 'normalized_osv'\n",
    "deviceDF['os_norm_mismatch'] = deviceDF['osv_major'] != deviceDF['normalized_osv'].astype(str)\n",
    "\n",
    "deviceDF.shape"
   ]
  },
  {
   "cell_type": "code",
   "execution_count": 7,
   "metadata": {},
   "outputs": [
    {
     "data": {
      "text/plain": [
       "Index(['os', 'osv', 'normalized_osv', 'device_vendor', 'device_model',\n",
       "       'device_height', 'device_width', 'deviceType', 'missing_vendor',\n",
       "       'device_vendor_filled', 'os_mismatch', 'osv_mismatch',\n",
       "       'height_mismatch', 'width_mismatch', 'osv_major', 'os_norm_mismatch'],\n",
       "      dtype='object')"
      ]
     },
     "execution_count": 7,
     "metadata": {},
     "output_type": "execute_result"
    }
   ],
   "source": [
    "deviceDF.columns"
   ]
  },
  {
   "cell_type": "code",
   "execution_count": 8,
   "metadata": {},
   "outputs": [
    {
     "name": "stdout",
     "output_type": "stream",
     "text": [
      "(216, 16)\n",
      "(0, 16)\n",
      "(15576, 16)\n",
      "(655, 16)\n",
      "(471, 16)\n",
      "(0, 16)\n"
     ]
    }
   ],
   "source": [
    "print(deviceDF[deviceDF[\"missing_vendor\"]==True].shape)\n",
    "print(deviceDF[deviceDF[\"os_mismatch\"]==True].shape)\n",
    "print(deviceDF[deviceDF[\"osv_mismatch\"]==True].shape)\n",
    "print(deviceDF[deviceDF[\"height_mismatch\"]==True].shape)\n",
    "print(deviceDF[deviceDF[\"width_mismatch\"]==True].shape)\n",
    "print(deviceDF[deviceDF[\"os_norm_mismatch\"]==True].shape)"
   ]
  },
  {
   "cell_type": "code",
   "execution_count": 9,
   "metadata": {},
   "outputs": [],
   "source": [
    "dfTocsv = deviceDF[[\"missing_vendor\",\"osv_mismatch\",\"height_mismatch\",\"width_mismatch\"]]"
   ]
  },
  {
   "cell_type": "code",
   "execution_count": 10,
   "metadata": {},
   "outputs": [],
   "source": [
    "# dfTocsv.to_csv(r\"C:\\Users\\tanmay\\V-Patrol\\featureEngineering\\feature_3.csv\")"
   ]
  },
  {
   "cell_type": "markdown",
   "metadata": {},
   "source": [
    "# Visualization and Insights"
   ]
  },
  {
   "cell_type": "code",
   "execution_count": 11,
   "metadata": {},
   "outputs": [],
   "source": [
    "import matplotlib.pyplot as plt\n",
    "import dash\n",
    "from dash import dcc, html, Input, Output\n",
    "import plotly.express as px\n",
    "import numpy as np\n",
    "from mpl_toolkits.mplot3d import Axes3D\n",
    "import plotly.graph_objects as go\n",
    "import pandas as pd"
   ]
  },
  {
   "cell_type": "code",
   "execution_count": 12,
   "metadata": {},
   "outputs": [
    {
     "data": {
      "application/vnd.plotly.v1+json": {
       "config": {
        "plotlyServerURL": "https://plot.ly"
       },
       "data": [
        {
         "hole": 0.3,
         "labels": [
          "10.0.0",
          "11.0.0",
          "12.0.0",
          "13.0.0",
          "14.0.0",
          "15.0.0",
          "7.1.1",
          "8.0.0",
          "8.1.0",
          "9.0.0",
          "Others"
         ],
         "marker": {
          "line": {
           "color": "black",
           "width": 2
          }
         },
         "rotation": 140,
         "textinfo": "label+percent",
         "type": "pie",
         "values": {
          "bdata": "jgTVB2oH9QxrFUABKABNAFAByQLdAA==",
          "dtype": "i2"
         }
        }
       ],
       "layout": {
        "showlegend": true,
        "template": {
         "data": {
          "bar": [
           {
            "error_x": {
             "color": "#2a3f5f"
            },
            "error_y": {
             "color": "#2a3f5f"
            },
            "marker": {
             "line": {
              "color": "#E5ECF6",
              "width": 0.5
             },
             "pattern": {
              "fillmode": "overlay",
              "size": 10,
              "solidity": 0.2
             }
            },
            "type": "bar"
           }
          ],
          "barpolar": [
           {
            "marker": {
             "line": {
              "color": "#E5ECF6",
              "width": 0.5
             },
             "pattern": {
              "fillmode": "overlay",
              "size": 10,
              "solidity": 0.2
             }
            },
            "type": "barpolar"
           }
          ],
          "carpet": [
           {
            "aaxis": {
             "endlinecolor": "#2a3f5f",
             "gridcolor": "white",
             "linecolor": "white",
             "minorgridcolor": "white",
             "startlinecolor": "#2a3f5f"
            },
            "baxis": {
             "endlinecolor": "#2a3f5f",
             "gridcolor": "white",
             "linecolor": "white",
             "minorgridcolor": "white",
             "startlinecolor": "#2a3f5f"
            },
            "type": "carpet"
           }
          ],
          "choropleth": [
           {
            "colorbar": {
             "outlinewidth": 0,
             "ticks": ""
            },
            "type": "choropleth"
           }
          ],
          "contour": [
           {
            "colorbar": {
             "outlinewidth": 0,
             "ticks": ""
            },
            "colorscale": [
             [
              0,
              "#0d0887"
             ],
             [
              0.1111111111111111,
              "#46039f"
             ],
             [
              0.2222222222222222,
              "#7201a8"
             ],
             [
              0.3333333333333333,
              "#9c179e"
             ],
             [
              0.4444444444444444,
              "#bd3786"
             ],
             [
              0.5555555555555556,
              "#d8576b"
             ],
             [
              0.6666666666666666,
              "#ed7953"
             ],
             [
              0.7777777777777778,
              "#fb9f3a"
             ],
             [
              0.8888888888888888,
              "#fdca26"
             ],
             [
              1,
              "#f0f921"
             ]
            ],
            "type": "contour"
           }
          ],
          "contourcarpet": [
           {
            "colorbar": {
             "outlinewidth": 0,
             "ticks": ""
            },
            "type": "contourcarpet"
           }
          ],
          "heatmap": [
           {
            "colorbar": {
             "outlinewidth": 0,
             "ticks": ""
            },
            "colorscale": [
             [
              0,
              "#0d0887"
             ],
             [
              0.1111111111111111,
              "#46039f"
             ],
             [
              0.2222222222222222,
              "#7201a8"
             ],
             [
              0.3333333333333333,
              "#9c179e"
             ],
             [
              0.4444444444444444,
              "#bd3786"
             ],
             [
              0.5555555555555556,
              "#d8576b"
             ],
             [
              0.6666666666666666,
              "#ed7953"
             ],
             [
              0.7777777777777778,
              "#fb9f3a"
             ],
             [
              0.8888888888888888,
              "#fdca26"
             ],
             [
              1,
              "#f0f921"
             ]
            ],
            "type": "heatmap"
           }
          ],
          "histogram": [
           {
            "marker": {
             "pattern": {
              "fillmode": "overlay",
              "size": 10,
              "solidity": 0.2
             }
            },
            "type": "histogram"
           }
          ],
          "histogram2d": [
           {
            "colorbar": {
             "outlinewidth": 0,
             "ticks": ""
            },
            "colorscale": [
             [
              0,
              "#0d0887"
             ],
             [
              0.1111111111111111,
              "#46039f"
             ],
             [
              0.2222222222222222,
              "#7201a8"
             ],
             [
              0.3333333333333333,
              "#9c179e"
             ],
             [
              0.4444444444444444,
              "#bd3786"
             ],
             [
              0.5555555555555556,
              "#d8576b"
             ],
             [
              0.6666666666666666,
              "#ed7953"
             ],
             [
              0.7777777777777778,
              "#fb9f3a"
             ],
             [
              0.8888888888888888,
              "#fdca26"
             ],
             [
              1,
              "#f0f921"
             ]
            ],
            "type": "histogram2d"
           }
          ],
          "histogram2dcontour": [
           {
            "colorbar": {
             "outlinewidth": 0,
             "ticks": ""
            },
            "colorscale": [
             [
              0,
              "#0d0887"
             ],
             [
              0.1111111111111111,
              "#46039f"
             ],
             [
              0.2222222222222222,
              "#7201a8"
             ],
             [
              0.3333333333333333,
              "#9c179e"
             ],
             [
              0.4444444444444444,
              "#bd3786"
             ],
             [
              0.5555555555555556,
              "#d8576b"
             ],
             [
              0.6666666666666666,
              "#ed7953"
             ],
             [
              0.7777777777777778,
              "#fb9f3a"
             ],
             [
              0.8888888888888888,
              "#fdca26"
             ],
             [
              1,
              "#f0f921"
             ]
            ],
            "type": "histogram2dcontour"
           }
          ],
          "mesh3d": [
           {
            "colorbar": {
             "outlinewidth": 0,
             "ticks": ""
            },
            "type": "mesh3d"
           }
          ],
          "parcoords": [
           {
            "line": {
             "colorbar": {
              "outlinewidth": 0,
              "ticks": ""
             }
            },
            "type": "parcoords"
           }
          ],
          "pie": [
           {
            "automargin": true,
            "type": "pie"
           }
          ],
          "scatter": [
           {
            "fillpattern": {
             "fillmode": "overlay",
             "size": 10,
             "solidity": 0.2
            },
            "type": "scatter"
           }
          ],
          "scatter3d": [
           {
            "line": {
             "colorbar": {
              "outlinewidth": 0,
              "ticks": ""
             }
            },
            "marker": {
             "colorbar": {
              "outlinewidth": 0,
              "ticks": ""
             }
            },
            "type": "scatter3d"
           }
          ],
          "scattercarpet": [
           {
            "marker": {
             "colorbar": {
              "outlinewidth": 0,
              "ticks": ""
             }
            },
            "type": "scattercarpet"
           }
          ],
          "scattergeo": [
           {
            "marker": {
             "colorbar": {
              "outlinewidth": 0,
              "ticks": ""
             }
            },
            "type": "scattergeo"
           }
          ],
          "scattergl": [
           {
            "marker": {
             "colorbar": {
              "outlinewidth": 0,
              "ticks": ""
             }
            },
            "type": "scattergl"
           }
          ],
          "scattermap": [
           {
            "marker": {
             "colorbar": {
              "outlinewidth": 0,
              "ticks": ""
             }
            },
            "type": "scattermap"
           }
          ],
          "scattermapbox": [
           {
            "marker": {
             "colorbar": {
              "outlinewidth": 0,
              "ticks": ""
             }
            },
            "type": "scattermapbox"
           }
          ],
          "scatterpolar": [
           {
            "marker": {
             "colorbar": {
              "outlinewidth": 0,
              "ticks": ""
             }
            },
            "type": "scatterpolar"
           }
          ],
          "scatterpolargl": [
           {
            "marker": {
             "colorbar": {
              "outlinewidth": 0,
              "ticks": ""
             }
            },
            "type": "scatterpolargl"
           }
          ],
          "scatterternary": [
           {
            "marker": {
             "colorbar": {
              "outlinewidth": 0,
              "ticks": ""
             }
            },
            "type": "scatterternary"
           }
          ],
          "surface": [
           {
            "colorbar": {
             "outlinewidth": 0,
             "ticks": ""
            },
            "colorscale": [
             [
              0,
              "#0d0887"
             ],
             [
              0.1111111111111111,
              "#46039f"
             ],
             [
              0.2222222222222222,
              "#7201a8"
             ],
             [
              0.3333333333333333,
              "#9c179e"
             ],
             [
              0.4444444444444444,
              "#bd3786"
             ],
             [
              0.5555555555555556,
              "#d8576b"
             ],
             [
              0.6666666666666666,
              "#ed7953"
             ],
             [
              0.7777777777777778,
              "#fb9f3a"
             ],
             [
              0.8888888888888888,
              "#fdca26"
             ],
             [
              1,
              "#f0f921"
             ]
            ],
            "type": "surface"
           }
          ],
          "table": [
           {
            "cells": {
             "fill": {
              "color": "#EBF0F8"
             },
             "line": {
              "color": "white"
             }
            },
            "header": {
             "fill": {
              "color": "#C8D4E3"
             },
             "line": {
              "color": "white"
             }
            },
            "type": "table"
           }
          ]
         },
         "layout": {
          "annotationdefaults": {
           "arrowcolor": "#2a3f5f",
           "arrowhead": 0,
           "arrowwidth": 1
          },
          "autotypenumbers": "strict",
          "coloraxis": {
           "colorbar": {
            "outlinewidth": 0,
            "ticks": ""
           }
          },
          "colorscale": {
           "diverging": [
            [
             0,
             "#8e0152"
            ],
            [
             0.1,
             "#c51b7d"
            ],
            [
             0.2,
             "#de77ae"
            ],
            [
             0.3,
             "#f1b6da"
            ],
            [
             0.4,
             "#fde0ef"
            ],
            [
             0.5,
             "#f7f7f7"
            ],
            [
             0.6,
             "#e6f5d0"
            ],
            [
             0.7,
             "#b8e186"
            ],
            [
             0.8,
             "#7fbc41"
            ],
            [
             0.9,
             "#4d9221"
            ],
            [
             1,
             "#276419"
            ]
           ],
           "sequential": [
            [
             0,
             "#0d0887"
            ],
            [
             0.1111111111111111,
             "#46039f"
            ],
            [
             0.2222222222222222,
             "#7201a8"
            ],
            [
             0.3333333333333333,
             "#9c179e"
            ],
            [
             0.4444444444444444,
             "#bd3786"
            ],
            [
             0.5555555555555556,
             "#d8576b"
            ],
            [
             0.6666666666666666,
             "#ed7953"
            ],
            [
             0.7777777777777778,
             "#fb9f3a"
            ],
            [
             0.8888888888888888,
             "#fdca26"
            ],
            [
             1,
             "#f0f921"
            ]
           ],
           "sequentialminus": [
            [
             0,
             "#0d0887"
            ],
            [
             0.1111111111111111,
             "#46039f"
            ],
            [
             0.2222222222222222,
             "#7201a8"
            ],
            [
             0.3333333333333333,
             "#9c179e"
            ],
            [
             0.4444444444444444,
             "#bd3786"
            ],
            [
             0.5555555555555556,
             "#d8576b"
            ],
            [
             0.6666666666666666,
             "#ed7953"
            ],
            [
             0.7777777777777778,
             "#fb9f3a"
            ],
            [
             0.8888888888888888,
             "#fdca26"
            ],
            [
             1,
             "#f0f921"
            ]
           ]
          },
          "colorway": [
           "#636efa",
           "#EF553B",
           "#00cc96",
           "#ab63fa",
           "#FFA15A",
           "#19d3f3",
           "#FF6692",
           "#B6E880",
           "#FF97FF",
           "#FECB52"
          ],
          "font": {
           "color": "#2a3f5f"
          },
          "geo": {
           "bgcolor": "white",
           "lakecolor": "white",
           "landcolor": "#E5ECF6",
           "showlakes": true,
           "showland": true,
           "subunitcolor": "white"
          },
          "hoverlabel": {
           "align": "left"
          },
          "hovermode": "closest",
          "mapbox": {
           "style": "light"
          },
          "paper_bgcolor": "white",
          "plot_bgcolor": "#E5ECF6",
          "polar": {
           "angularaxis": {
            "gridcolor": "white",
            "linecolor": "white",
            "ticks": ""
           },
           "bgcolor": "#E5ECF6",
           "radialaxis": {
            "gridcolor": "white",
            "linecolor": "white",
            "ticks": ""
           }
          },
          "scene": {
           "xaxis": {
            "backgroundcolor": "#E5ECF6",
            "gridcolor": "white",
            "gridwidth": 2,
            "linecolor": "white",
            "showbackground": true,
            "ticks": "",
            "zerolinecolor": "white"
           },
           "yaxis": {
            "backgroundcolor": "#E5ECF6",
            "gridcolor": "white",
            "gridwidth": 2,
            "linecolor": "white",
            "showbackground": true,
            "ticks": "",
            "zerolinecolor": "white"
           },
           "zaxis": {
            "backgroundcolor": "#E5ECF6",
            "gridcolor": "white",
            "gridwidth": 2,
            "linecolor": "white",
            "showbackground": true,
            "ticks": "",
            "zerolinecolor": "white"
           }
          },
          "shapedefaults": {
           "line": {
            "color": "#2a3f5f"
           }
          },
          "ternary": {
           "aaxis": {
            "gridcolor": "white",
            "linecolor": "white",
            "ticks": ""
           },
           "baxis": {
            "gridcolor": "white",
            "linecolor": "white",
            "ticks": ""
           },
           "bgcolor": "#E5ECF6",
           "caxis": {
            "gridcolor": "white",
            "linecolor": "white",
            "ticks": ""
           }
          },
          "title": {
           "x": 0.05
          },
          "xaxis": {
           "automargin": true,
           "gridcolor": "white",
           "linecolor": "white",
           "ticks": "",
           "title": {
            "standoff": 15
           },
           "zerolinecolor": "white",
           "zerolinewidth": 2
          },
          "yaxis": {
           "automargin": true,
           "gridcolor": "white",
           "linecolor": "white",
           "ticks": "",
           "title": {
            "standoff": 15
           },
           "zerolinecolor": "white",
           "zerolinewidth": 2
          }
         }
        },
        "title": {
         "text": "Proportion of OS Mismatches for Each OS Version (3D Pie Chart)"
        }
       }
      }
     },
     "metadata": {},
     "output_type": "display_data"
    }
   ],
   "source": [
    "# Group by 'osv' and count the number of True values for 'osv_mismatch'\n",
    "osv_mismatch_counts = deviceDF.groupby('osv')['osv_mismatch'].sum()\n",
    "\n",
    "# Group all 0 percentages to 'Others'\n",
    "osv_mismatch_counts = osv_mismatch_counts[osv_mismatch_counts > 20]\n",
    "osv_mismatch_counts['Others'] = deviceDF['osv_mismatch'].sum() - osv_mismatch_counts.sum()\n",
    "\n",
    "# Group by 'osv' and count the number of True values for 'osv_mismatch'\n",
    "osv_mismatch_counts = deviceDF.groupby('osv')['osv_mismatch'].sum()\n",
    "\n",
    "# Group all small counts into 'Others'\n",
    "osv_mismatch_counts = osv_mismatch_counts[osv_mismatch_counts > 20]\n",
    "osv_mismatch_counts.loc['Others'] = deviceDF['osv_mismatch'].sum() - osv_mismatch_counts.sum()\n",
    "\n",
    "# Create a 3D Pie Chart without pull effect\n",
    "fig = go.Figure(data=[go.Pie(\n",
    "    labels=osv_mismatch_counts.index,\n",
    "    values=osv_mismatch_counts.values,\n",
    "    hole=0.3,  # Creates a donut-like effect\n",
    "    marker=dict(line=dict(color='black', width=2)),\n",
    "    textinfo='label+percent',\n",
    "    rotation=140\n",
    ")])\n",
    "\n",
    "fig.update_layout(\n",
    "    title_text=\"Proportion of OS Mismatches for Each OS Version (3D Pie Chart)\",\n",
    "    showlegend=True\n",
    ")\n",
    "\n",
    "fig.show()"
   ]
  },
  {
   "cell_type": "markdown",
   "metadata": {},
   "source": [
    "### **Insights from OS Version Mismatch Counts**  \n",
    "\n",
    "1. **Newer OS Versions Have More Mismatches**  \n",
    "   - **OS 14.0.0 (5483 mismatches)** and **OS 13.0.0 (3317 mismatches)** have the highest mismatches.\n",
    "\n",
    "2. **Steady Decline in Mismatches for Older Versions**  \n",
    "   - **OS 12.0.0 (1898)** → **OS 11.0.0 (2005)** → **OS 10.0.0 (1166)**  \n",
    "   - This pattern shows that as OS versions get older, mismatch occurrences decrease.  "
   ]
  },
  {
   "cell_type": "code",
   "execution_count": 13,
   "metadata": {},
   "outputs": [
    {
     "data": {
      "image/png": "[encoded data removed]",
      "text/plain": [
       "<Figure size 800x800 with 1 Axes>"
      ]
     },
     "metadata": {},
     "output_type": "display_data"
    }
   ],
   "source": [
    "# Pie Chart for Missing Vendor Information\n",
    "missing_vendor_counts = deviceDF['missing_vendor'].value_counts()\n",
    "plt.figure(figsize=(8, 8))\n",
    "plt.pie(missing_vendor_counts, labels=['Present', 'Missing'], autopct='%1.1f%%', startangle=140, colors=['lightgreen', 'salmon'])\n",
    "plt.title('Proportion of Devices with Missing Vendor Information')\n",
    "plt.show()"
   ]
  },
  {
   "cell_type": "markdown",
   "metadata": {},
   "source": [
    "### **Insights from the Pie Chart on Missing Vendor Information**  \n",
    "\n",
    "**Very Few Devices Have Missing Vendor Information**  \n",
    "   - **Only 0.2% of devices lack vendor details.**  \n",
    "   - This could be due to:  \n",
    "     - **Anonymized or spoofed devices** (e.g., bots, VPN users, or modified firmware).  \n",
    "\n",
    "**Potential Implications**  \n",
    "   - The **low percentage of missing vendor information** suggests it may not be a critical issue.  \n",
    "   - However, the small subset of missing vendor data **could still indicate suspicious activity** (e.g., bots, rogue devices).  "
   ]
  },
  {
   "cell_type": "code",
   "execution_count": 14,
   "metadata": {},
   "outputs": [],
   "source": [
    "deviceDF = deviceDF.fillna(\"Unknown\")"
   ]
  },
  {
   "cell_type": "code",
   "execution_count": 15,
   "metadata": {},
   "outputs": [],
   "source": [
    "# Group by device_vendor and sum the number of True values in height_mismatch and width_mismatch\n",
    "mismatch_summary = deviceDF.groupby('device_vendor')[['height_mismatch', 'width_mismatch']].sum()"
   ]
  },
  {
   "cell_type": "code",
   "execution_count": 17,
   "metadata": {},
   "outputs": [
    {
     "data": {
      "text/html": [
       "\n",
       "        <iframe\n",
       "            width=\"100%\"\n",
       "            height=\"650\"\n",
       "            src=\"http://127.0.0.1:8051/\"\n",
       "            frameborder=\"0\"\n",
       "            allowfullscreen\n",
       "            \n",
       "        ></iframe>\n",
       "        "
      ],
      "text/plain": [
       "<IPython.lib.display.IFrame at 0x19b83288ad0>"
      ]
     },
     "metadata": {},
     "output_type": "display_data"
    }
   ],
   "source": [
    "# Assume deviceDF is already loaded with possible duplicate entries\n",
    "app = dash.Dash(__name__)\n",
    "\n",
    "app.layout = html.Div([\n",
    "    # Dropdown (appears once)\n",
    "    dcc.Dropdown(\n",
    "        id='vendor_dropdown',\n",
    "        options=[{'label': vendor, 'value': vendor} for vendor in deviceDF['device_vendor'].unique()],\n",
    "        value=deviceDF['device_vendor'].unique()[0],  # Default value\n",
    "        clearable=False\n",
    "    ),\n",
    "\n",
    "    # Bar Chart for Mismatches\n",
    "    dcc.Graph(id='mismatch_graph'),\n",
    "\n",
    "    # Graph information\n",
    "    html.Div(id='graph_info')\n",
    "])\n",
    "\n",
    "@app.callback(\n",
    "    [Output('mismatch_graph', 'figure'),\n",
    "     Output('graph_info', 'children')],\n",
    "    [Input('vendor_dropdown', 'value')]\n",
    ")\n",
    "def update_graph(vendor):\n",
    "    # Filter the dataframe based on the selected vendor\n",
    "    filtered_df = deviceDF[deviceDF['device_vendor'] == vendor]\n",
    "\n",
    "    # Count the number of True values for height_mismatch and width_mismatch\n",
    "    mismatch_counts = {\n",
    "        'Height Mismatch': filtered_df['height_mismatch'].sum(),\n",
    "        'Width Mismatch': filtered_df['width_mismatch'].sum()\n",
    "    }\n",
    "\n",
    "    # Create a bar chart\n",
    "    mismatch_fig = px.bar(\n",
    "        x=list(mismatch_counts.keys()),\n",
    "        y=list(mismatch_counts.values()),\n",
    "        labels={'x': 'Mismatch Type', 'y': 'Count'},\n",
    "        title=f'Mismatch Counts for {vendor}'\n",
    "    )\n",
    "\n",
    "    # Display the counts and mode values as text\n",
    "    mode_height = filtered_df['device_height'].mode().iloc[0] if not filtered_df['device_height'].mode().empty else 'N/A'\n",
    "    mode_width = filtered_df['device_width'].mode().iloc[0] if not filtered_df['device_width'].mode().empty else 'N/A'\n",
    "    \n",
    "    graph_info = html.Div([\n",
    "        html.P(f\"Mode of Device Height for {vendor}: {mode_height}\"),\n",
    "        html.P(f\"Mode of Device Width for {vendor}: {mode_width}\")\n",
    "    ], style={'backgroundColor': 'white'})\n",
    "\n",
    "    return mismatch_fig, graph_info\n",
    "\n",
    "if __name__ == '__main__':\n",
    "    app.run_server(debug=True, port=8051)\n"
   ]
  },
  {
   "cell_type": "markdown",
   "metadata": {},
   "source": [
    "### **Insights from the Height and Width Mismatch Data**  \n",
    "**Trend Observation:**  \n",
    "   - **More well-known smartphone brands (Samsung, Xiaomi, Oppo, Realme, Vivo) tend to have the highest mismatches.**  \n",
    "   - This could be due to **a large variety of models**, inconsistencies in reported dimensions, or **regional variations in device manufacturing**.  \n",
    "   - **Lesser-known brands and some niche manufacturers show no mismatches at all,** possibly due to a smaller dataset size or more consistent device specifications.\n",
    "   - **Unknown** vendor names are one which are missing, though these devices show **no mismatch in height and width**, they are critical from the point of view of the rarity of their occurrence."
   ]
  }
 ],
 "metadata": {
  "kernelspec": {
   "display_name": ".venv",
   "language": "python",
   "name": "python3"
  },
  "language_info": {
   "codemirror_mode": {
    "name": "ipython",
    "version": 3
   },
   "file_extension": ".py",
   "mimetype": "text/x-python",
   "name": "python",
   "nbconvert_exporter": "python",
   "pygments_lexer": "ipython3",
   "version": "3.13.1"
  }
 },
 "nbformat": 4,
 "nbformat_minor": 2
}
