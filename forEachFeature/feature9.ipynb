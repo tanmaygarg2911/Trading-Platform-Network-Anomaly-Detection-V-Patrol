{
  "cells": [
    {
      "cell_type": "markdown",
      "metadata": {
        "id": "PqaWE6okqaJ1"
      },
      "source": [
        "# **BERT-Based Embedding Generation and Similarity Computation**\n",
        "\n",
        "## **Overview**\n",
        "This script processes a large CSV file containing user-agent (UA) strings and device metadata. It leverages a pre-trained BERT model to generate embeddings for UA and metadata, computes their cosine similarity, and exports the results. By transforming textual data into high-dimensional vector representations, we can effectively analyze the relationships between different UA strings and metadata to identify patterns, detect anomalies, and enhance cybersecurity measures.\n",
        "\n",
        "---\n",
        "\n",
        "## **Understanding BERT-Based Embeddings**\n",
        "### **1. What are Embeddings?**\n",
        "Embeddings are dense vector representations of text that capture semantic relationships between words and phrases. In this script, we use BERT (Bidirectional Encoder Representations from Transformers) to generate embeddings for:\n",
        "- **User-Agent (UA) strings:** Strings that describe the browser, operating system, and device type making a request.\n",
        "- **Device Metadata:** Additional structured data fields such as OS, OS version, device vendor, model, and device type.\n",
        "\n",
        "By mapping textual information to numerical vectors in a multi-dimensional space, BERT enables more sophisticated comparisons beyond simple string matching.\n",
        "\n",
        "### **2. How Does BERT Generate Embeddings?**\n",
        "- The BERT tokenizer processes the text and converts it into tokenized representations.\n",
        "- These tokenized inputs are passed through a pre-trained BERT model (`bert-base-uncased`).\n",
        "- The `[CLS]` token's embedding from the final hidden state is extracted as the representative vector for the input text.\n",
        "\n",
        "### **3. Cosine Similarity Computation**\n",
        "Cosine similarity measures the angle between two vectors in high-dimensional space. It is computed as:\n",
        "\n",
        "where:\n",
        "- **A and B** are the embedding vectors.\n",
        "- **`A · B`** represents the dot product of the vectors.\n",
        "- **`||A|| ||B||`** denotes their magnitudes.\n",
        "\n",
        "A higher cosine similarity score (close to 1) indicates that the UA and metadata are more closely related, while a lower score (close to 0 or negative) suggests differences or anomalies.\n",
        "\n",
        "---\n",
        "\n",
        "## **How This Helps in Abnormality Detection**\n",
        "\n",
        "### **1. Detecting Spoofed or Malicious Requests**\n",
        "- Attackers often disguise their UA strings to mimic legitimate users.\n",
        "- A **low similarity score** between the UA and metadata could indicate a mismatch, suggesting possible spoofing attempts.\n",
        "- For example, if the UA claims \"Windows 10\" but metadata suggests a mobile device, it might be a fraudulent request.\n",
        "\n",
        "### **2. Identifying Device Misconfigurations**\n",
        "- Organizations maintaining security policies need accurate device metadata.\n",
        "- Discrepancies between UA and metadata can highlight misconfigured devices that might pose security risks.\n",
        "\n",
        "### **3. Preventing Automated Bot Attacks**\n",
        "- Many bots use generic UA strings that do not align with their metadata.\n",
        "- By analyzing similarity scores, we can flag requests that deviate significantly from normal user behavior.\n",
        "\n",
        "### **4. Enhancing Fraud Detection in Web Traffic**\n",
        "- Fraudulent activities often involve using manipulated user-agent strings.\n",
        "- By creating a baseline of legitimate UA-metadata pairs, we can detect outliers that may indicate fraudulent transactions.\n",
        "\n",
        "---\n",
        "\n",
        "## **Key Steps in Implementation**\n",
        "\n",
        "### **1. Load Pre-trained BERT Model and Tokenizer**\n",
        "- The script initializes a `bert-base-uncased` model for tokenization and embedding generation.\n",
        "\n",
        "### **2. Process Data in Chunks**\n",
        "- Uses pandas `read_csv(..., chunksize=1000)` to handle large files efficiently.\n",
        "- Reduces memory load by processing data in smaller portions.\n",
        "\n",
        "### **3. Generate BERT Embeddings for UA and Metadata**\n",
        "- Tokenizes UA and metadata fields.\n",
        "- Extracts `[CLS]` token embeddings as vector representations.\n",
        "\n",
        "### **4. Compute Cosine Similarity**\n",
        "- Converts embeddings into PyTorch tensors.\n",
        "- Uses `torch.nn.functional.cosine_similarity()` to compute similarity scores.\n",
        "- Processes data in batches to optimize performance.\n",
        "\n",
        "### **5. Export Results for Analysis**\n",
        "- Saves similarity scores to a CSV file (`feature_9.csv`).\n",
        "- Creates a processed dataset (`ua_analysis.csv`) with request timestamps, device identifiers, and similarity scores.\n",
        "\n",
        "---\n",
        "\n",
        "## **Conclusion**\n",
        "This approach provides a robust method for analyzing UA strings and metadata using BERT embeddings. By computing cosine similarity scores, we can detect mismatches, enhance fraud prevention, and improve cybersecurity measures. Leveraging AI-driven anomaly detection allows organizations to proactively mitigate risks and ensure data integrity in web applications.\n"
      ]
    },
    {
      "cell_type": "code",
      "execution_count": 10,
      "metadata": {
        "id": "H9ers1dAt1ta"
      },
      "outputs": [],
      "source": [
        "from transformers import BertTokenizer, BertModel\n",
        "import torch\n",
        "import pandas as pd\n",
        "import gc\n",
        "import numpy as np\n",
        "import psutil  # To track system RAM usage"
      ]
    },
    {
      "cell_type": "code",
      "execution_count": 11,
      "metadata": {
        "id": "H60Dx7-dizsK"
      },
      "outputs": [],
      "source": [
        "from transformers import BertTokenizer, BertModel\n",
        "import torch\n",
        "\n",
        "# Load pre-trained BERT model and tokenizer\n",
        "tokenizer = BertTokenizer.from_pretrained('bert-base-uncased')\n",
        "model = BertModel.from_pretrained('bert-base-uncased')"
      ]
    },
    {
      "cell_type": "code",
      "execution_count": 12,
      "metadata": {
        "colab": {
          "base_uri": "https://localhost:8080/"
        },
        "id": "krPqtur7uAJ9",
        "outputId": "6d9a4afd-9bb4-4fae-f5f7-85d630417b61"
      },
      "outputs": [
        {
          "name": "stdout",
          "output_type": "stream",
          "text": [
            "cuda\n"
          ]
        },
        {
          "data": {
            "text/plain": [
              "BertModel(\n",
              "  (embeddings): BertEmbeddings(\n",
              "    (word_embeddings): Embedding(30522, 768, padding_idx=0)\n",
              "    (position_embeddings): Embedding(512, 768)\n",
              "    (token_type_embeddings): Embedding(2, 768)\n",
              "    (LayerNorm): LayerNorm((768,), eps=1e-12, elementwise_affine=True)\n",
              "    (dropout): Dropout(p=0.1, inplace=False)\n",
              "  )\n",
              "  (encoder): BertEncoder(\n",
              "    (layer): ModuleList(\n",
              "      (0-11): 12 x BertLayer(\n",
              "        (attention): BertAttention(\n",
              "          (self): BertSdpaSelfAttention(\n",
              "            (query): Linear(in_features=768, out_features=768, bias=True)\n",
              "            (key): Linear(in_features=768, out_features=768, bias=True)\n",
              "            (value): Linear(in_features=768, out_features=768, bias=True)\n",
              "            (dropout): Dropout(p=0.1, inplace=False)\n",
              "          )\n",
              "          (output): BertSelfOutput(\n",
              "            (dense): Linear(in_features=768, out_features=768, bias=True)\n",
              "            (LayerNorm): LayerNorm((768,), eps=1e-12, elementwise_affine=True)\n",
              "            (dropout): Dropout(p=0.1, inplace=False)\n",
              "          )\n",
              "        )\n",
              "        (intermediate): BertIntermediate(\n",
              "          (dense): Linear(in_features=768, out_features=3072, bias=True)\n",
              "          (intermediate_act_fn): GELUActivation()\n",
              "        )\n",
              "        (output): BertOutput(\n",
              "          (dense): Linear(in_features=3072, out_features=768, bias=True)\n",
              "          (LayerNorm): LayerNorm((768,), eps=1e-12, elementwise_affine=True)\n",
              "          (dropout): Dropout(p=0.1, inplace=False)\n",
              "        )\n",
              "      )\n",
              "    )\n",
              "  )\n",
              "  (pooler): BertPooler(\n",
              "    (dense): Linear(in_features=768, out_features=768, bias=True)\n",
              "    (activation): Tanh()\n",
              "  )\n",
              ")"
            ]
          },
          "execution_count": 12,
          "metadata": {},
          "output_type": "execute_result"
        }
      ],
      "source": [
        "device = torch.device('cuda' if torch.cuda.is_available() else 'cpu')\n",
        "print(device)\n",
        "model.to(device)"
      ]
    },
    {
      "cell_type": "code",
      "execution_count": 14,
      "metadata": {
        "colab": {
          "base_uri": "https://localhost:8080/"
        },
        "id": "pXd-nNp7km-1",
        "outputId": "433993f2-0632-482b-c8c6-ce8c48b95ab4"
      },
      "outputs": [
        {
          "name": "stdout",
          "output_type": "stream",
          "text": [
            "\n",
            "[DEBUG] Before Processing\n",
            " - System RAM Usage: 28.5%\n",
            " - GPU Memory Allocated: 1325.73 MB\n",
            " - GPU Memory Cached: 1438.65 MB\n",
            "\n",
            "[DEBUG] Processing Chunk 1...\n",
            " - Generating UA embeddings for 1000 rows...\n"
          ]
        },
        {
          "name": "stderr",
          "output_type": "stream",
          "text": [
            "<ipython-input-14-9832f32bc56b>:53: SettingWithCopyWarning: \n",
            "A value is trying to be set on a copy of a slice from a DataFrame.\n",
            "Try using .loc[row_indexer,col_indexer] = value instead\n",
            "\n",
            "See the caveats in the documentation: https://pandas.pydata.org/pandas-docs/stable/user_guide/indexing.html#returning-a-view-versus-a-copy\n",
            "  chunk['metadata'] = chunk[['os', 'normalized_osv', 'device_vendor', 'device_model', 'deviceType']].fillna('').astype(str).agg(' '.join, axis=1)\n"
          ]
        },
        {
          "name": "stdout",
          "output_type": "stream",
          "text": [
            " - Generating Metadata embeddings for 1000 rows...\n",
            "\n",
            "[DEBUG] After Processing Chunk 1\n",
            " - System RAM Usage: 28.5%\n",
            " - GPU Memory Allocated: 1325.73 MB\n",
            " - GPU Memory Cached: 1438.65 MB\n",
            "\n",
            "[DEBUG] Processing Chunk 2...\n",
            " - Generating UA embeddings for 1000 rows...\n"
          ]
        },
        {
          "name": "stderr",
          "output_type": "stream",
          "text": [
            "<ipython-input-14-9832f32bc56b>:53: SettingWithCopyWarning: \n",
            "A value is trying to be set on a copy of a slice from a DataFrame.\n",
            "Try using .loc[row_indexer,col_indexer] = value instead\n",
            "\n",
            "See the caveats in the documentation: https://pandas.pydata.org/pandas-docs/stable/user_guide/indexing.html#returning-a-view-versus-a-copy\n",
            "  chunk['metadata'] = chunk[['os', 'normalized_osv', 'device_vendor', 'device_model', 'deviceType']].fillna('').astype(str).agg(' '.join, axis=1)\n"
          ]
        },
        {
          "name": "stdout",
          "output_type": "stream",
          "text": [
            " - Generating Metadata embeddings for 1000 rows...\n",
            "\n",
            "[DEBUG] After Processing Chunk 2\n",
            " - System RAM Usage: 28.5%\n",
            " - GPU Memory Allocated: 1325.73 MB\n",
            " - GPU Memory Cached: 1438.65 MB\n",
            "\n",
            "[DEBUG] Processing Chunk 3...\n",
            " - Generating UA embeddings for 1000 rows...\n"
          ]
        },
        {
          "name": "stderr",
          "output_type": "stream",
          "text": [
            "<ipython-input-14-9832f32bc56b>:53: SettingWithCopyWarning: \n",
            "A value is trying to be set on a copy of a slice from a DataFrame.\n",
            "Try using .loc[row_indexer,col_indexer] = value instead\n",
            "\n",
            "See the caveats in the documentation: https://pandas.pydata.org/pandas-docs/stable/user_guide/indexing.html#returning-a-view-versus-a-copy\n",
            "  chunk['metadata'] = chunk[['os', 'normalized_osv', 'device_vendor', 'device_model', 'deviceType']].fillna('').astype(str).agg(' '.join, axis=1)\n"
          ]
        },
        {
          "name": "stdout",
          "output_type": "stream",
          "text": [
            " - Generating Metadata embeddings for 1000 rows...\n",
            "\n",
            "[DEBUG] After Processing Chunk 3\n",
            " - System RAM Usage: 28.5%\n",
            " - GPU Memory Allocated: 1325.73 MB\n",
            " - GPU Memory Cached: 1438.65 MB\n",
            "\n",
            "[DEBUG] Processing Chunk 4...\n",
            " - Generating UA embeddings for 1000 rows...\n"
          ]
        },
        {
          "name": "stderr",
          "output_type": "stream",
          "text": [
            "<ipython-input-14-9832f32bc56b>:53: SettingWithCopyWarning: \n",
            "A value is trying to be set on a copy of a slice from a DataFrame.\n",
            "Try using .loc[row_indexer,col_indexer] = value instead\n",
            "\n",
            "See the caveats in the documentation: https://pandas.pydata.org/pandas-docs/stable/user_guide/indexing.html#returning-a-view-versus-a-copy\n",
            "  chunk['metadata'] = chunk[['os', 'normalized_osv', 'device_vendor', 'device_model', 'deviceType']].fillna('').astype(str).agg(' '.join, axis=1)\n"
          ]
        },
        {
          "name": "stdout",
          "output_type": "stream",
          "text": [
            " - Generating Metadata embeddings for 1000 rows...\n",
            "\n",
            "[DEBUG] After Processing Chunk 4\n",
            " - System RAM Usage: 28.5%\n",
            " - GPU Memory Allocated: 1325.73 MB\n",
            " - GPU Memory Cached: 1438.65 MB\n",
            "\n",
            "[DEBUG] Processing Chunk 5...\n",
            " - Generating UA embeddings for 1000 rows...\n"
          ]
        },
        {
          "name": "stderr",
          "output_type": "stream",
          "text": [
            "<ipython-input-14-9832f32bc56b>:53: SettingWithCopyWarning: \n",
            "A value is trying to be set on a copy of a slice from a DataFrame.\n",
            "Try using .loc[row_indexer,col_indexer] = value instead\n",
            "\n",
            "See the caveats in the documentation: https://pandas.pydata.org/pandas-docs/stable/user_guide/indexing.html#returning-a-view-versus-a-copy\n",
            "  chunk['metadata'] = chunk[['os', 'normalized_osv', 'device_vendor', 'device_model', 'deviceType']].fillna('').astype(str).agg(' '.join, axis=1)\n"
          ]
        },
        {
          "name": "stdout",
          "output_type": "stream",
          "text": [
            " - Generating Metadata embeddings for 1000 rows...\n",
            "\n",
            "[DEBUG] After Processing Chunk 5\n",
            " - System RAM Usage: 28.5%\n",
            " - GPU Memory Allocated: 1325.73 MB\n",
            " - GPU Memory Cached: 1438.65 MB\n",
            "\n",
            "[DEBUG] Processing Chunk 6...\n",
            " - Generating UA embeddings for 1000 rows...\n"
          ]
        },
        {
          "name": "stderr",
          "output_type": "stream",
          "text": [
            "<ipython-input-14-9832f32bc56b>:53: SettingWithCopyWarning: \n",
            "A value is trying to be set on a copy of a slice from a DataFrame.\n",
            "Try using .loc[row_indexer,col_indexer] = value instead\n",
            "\n",
            "See the caveats in the documentation: https://pandas.pydata.org/pandas-docs/stable/user_guide/indexing.html#returning-a-view-versus-a-copy\n",
            "  chunk['metadata'] = chunk[['os', 'normalized_osv', 'device_vendor', 'device_model', 'deviceType']].fillna('').astype(str).agg(' '.join, axis=1)\n"
          ]
        },
        {
          "name": "stdout",
          "output_type": "stream",
          "text": [
            " - Generating Metadata embeddings for 1000 rows...\n",
            "\n",
            "[DEBUG] After Processing Chunk 6\n",
            " - System RAM Usage: 28.6%\n",
            " - GPU Memory Allocated: 1325.73 MB\n",
            " - GPU Memory Cached: 1438.65 MB\n",
            "\n",
            "[DEBUG] Processing Chunk 7...\n",
            " - Generating UA embeddings for 1000 rows...\n"
          ]
        },
        {
          "name": "stderr",
          "output_type": "stream",
          "text": [
            "<ipython-input-14-9832f32bc56b>:53: SettingWithCopyWarning: \n",
            "A value is trying to be set on a copy of a slice from a DataFrame.\n",
            "Try using .loc[row_indexer,col_indexer] = value instead\n",
            "\n",
            "See the caveats in the documentation: https://pandas.pydata.org/pandas-docs/stable/user_guide/indexing.html#returning-a-view-versus-a-copy\n",
            "  chunk['metadata'] = chunk[['os', 'normalized_osv', 'device_vendor', 'device_model', 'deviceType']].fillna('').astype(str).agg(' '.join, axis=1)\n"
          ]
        },
        {
          "name": "stdout",
          "output_type": "stream",
          "text": [
            " - Generating Metadata embeddings for 1000 rows...\n",
            "\n",
            "[DEBUG] After Processing Chunk 7\n",
            " - System RAM Usage: 28.5%\n",
            " - GPU Memory Allocated: 1325.73 MB\n",
            " - GPU Memory Cached: 1438.65 MB\n",
            "\n",
            "[DEBUG] Processing Chunk 8...\n",
            " - Generating UA embeddings for 1000 rows...\n"
          ]
        },
        {
          "name": "stderr",
          "output_type": "stream",
          "text": [
            "<ipython-input-14-9832f32bc56b>:53: SettingWithCopyWarning: \n",
            "A value is trying to be set on a copy of a slice from a DataFrame.\n",
            "Try using .loc[row_indexer,col_indexer] = value instead\n",
            "\n",
            "See the caveats in the documentation: https://pandas.pydata.org/pandas-docs/stable/user_guide/indexing.html#returning-a-view-versus-a-copy\n",
            "  chunk['metadata'] = chunk[['os', 'normalized_osv', 'device_vendor', 'device_model', 'deviceType']].fillna('').astype(str).agg(' '.join, axis=1)\n"
          ]
        },
        {
          "name": "stdout",
          "output_type": "stream",
          "text": [
            " - Generating Metadata embeddings for 1000 rows...\n",
            "\n",
            "[DEBUG] After Processing Chunk 8\n",
            " - System RAM Usage: 28.5%\n",
            " - GPU Memory Allocated: 1325.73 MB\n",
            " - GPU Memory Cached: 1438.65 MB\n",
            "\n",
            "[DEBUG] Processing Chunk 9...\n",
            " - Generating UA embeddings for 1000 rows...\n"
          ]
        },
        {
          "name": "stderr",
          "output_type": "stream",
          "text": [
            "<ipython-input-14-9832f32bc56b>:53: SettingWithCopyWarning: \n",
            "A value is trying to be set on a copy of a slice from a DataFrame.\n",
            "Try using .loc[row_indexer,col_indexer] = value instead\n",
            "\n",
            "See the caveats in the documentation: https://pandas.pydata.org/pandas-docs/stable/user_guide/indexing.html#returning-a-view-versus-a-copy\n",
            "  chunk['metadata'] = chunk[['os', 'normalized_osv', 'device_vendor', 'device_model', 'deviceType']].fillna('').astype(str).agg(' '.join, axis=1)\n"
          ]
        },
        {
          "name": "stdout",
          "output_type": "stream",
          "text": [
            " - Generating Metadata embeddings for 1000 rows...\n",
            "\n",
            "[DEBUG] After Processing Chunk 9\n",
            " - System RAM Usage: 28.5%\n",
            " - GPU Memory Allocated: 1325.73 MB\n",
            " - GPU Memory Cached: 1438.65 MB\n",
            "\n",
            "[DEBUG] Processing Chunk 10...\n",
            " - Generating UA embeddings for 1000 rows...\n"
          ]
        },
        {
          "name": "stderr",
          "output_type": "stream",
          "text": [
            "<ipython-input-14-9832f32bc56b>:53: SettingWithCopyWarning: \n",
            "A value is trying to be set on a copy of a slice from a DataFrame.\n",
            "Try using .loc[row_indexer,col_indexer] = value instead\n",
            "\n",
            "See the caveats in the documentation: https://pandas.pydata.org/pandas-docs/stable/user_guide/indexing.html#returning-a-view-versus-a-copy\n",
            "  chunk['metadata'] = chunk[['os', 'normalized_osv', 'device_vendor', 'device_model', 'deviceType']].fillna('').astype(str).agg(' '.join, axis=1)\n"
          ]
        },
        {
          "name": "stdout",
          "output_type": "stream",
          "text": [
            " - Generating Metadata embeddings for 1000 rows...\n",
            "\n",
            "[DEBUG] After Processing Chunk 10\n",
            " - System RAM Usage: 28.0%\n",
            " - GPU Memory Allocated: 1325.73 MB\n",
            " - GPU Memory Cached: 1438.65 MB\n",
            "\n",
            "[DEBUG] Processing Chunk 11...\n",
            " - Generating UA embeddings for 1000 rows...\n"
          ]
        },
        {
          "name": "stderr",
          "output_type": "stream",
          "text": [
            "<ipython-input-14-9832f32bc56b>:53: SettingWithCopyWarning: \n",
            "A value is trying to be set on a copy of a slice from a DataFrame.\n",
            "Try using .loc[row_indexer,col_indexer] = value instead\n",
            "\n",
            "See the caveats in the documentation: https://pandas.pydata.org/pandas-docs/stable/user_guide/indexing.html#returning-a-view-versus-a-copy\n",
            "  chunk['metadata'] = chunk[['os', 'normalized_osv', 'device_vendor', 'device_model', 'deviceType']].fillna('').astype(str).agg(' '.join, axis=1)\n"
          ]
        },
        {
          "name": "stdout",
          "output_type": "stream",
          "text": [
            " - Generating Metadata embeddings for 1000 rows...\n",
            "\n",
            "[DEBUG] After Processing Chunk 11\n",
            " - System RAM Usage: 28.2%\n",
            " - GPU Memory Allocated: 1325.73 MB\n",
            " - GPU Memory Cached: 1438.65 MB\n",
            "\n",
            "[DEBUG] Processing Chunk 12...\n",
            " - Generating UA embeddings for 1000 rows...\n"
          ]
        },
        {
          "name": "stderr",
          "output_type": "stream",
          "text": [
            "<ipython-input-14-9832f32bc56b>:53: SettingWithCopyWarning: \n",
            "A value is trying to be set on a copy of a slice from a DataFrame.\n",
            "Try using .loc[row_indexer,col_indexer] = value instead\n",
            "\n",
            "See the caveats in the documentation: https://pandas.pydata.org/pandas-docs/stable/user_guide/indexing.html#returning-a-view-versus-a-copy\n",
            "  chunk['metadata'] = chunk[['os', 'normalized_osv', 'device_vendor', 'device_model', 'deviceType']].fillna('').astype(str).agg(' '.join, axis=1)\n"
          ]
        },
        {
          "name": "stdout",
          "output_type": "stream",
          "text": [
            " - Generating Metadata embeddings for 1000 rows...\n",
            "\n",
            "[DEBUG] After Processing Chunk 12\n",
            " - System RAM Usage: 28.2%\n",
            " - GPU Memory Allocated: 1325.73 MB\n",
            " - GPU Memory Cached: 1438.65 MB\n",
            "\n",
            "[DEBUG] Processing Chunk 13...\n",
            " - Generating UA embeddings for 1000 rows...\n"
          ]
        },
        {
          "name": "stderr",
          "output_type": "stream",
          "text": [
            "<ipython-input-14-9832f32bc56b>:53: SettingWithCopyWarning: \n",
            "A value is trying to be set on a copy of a slice from a DataFrame.\n",
            "Try using .loc[row_indexer,col_indexer] = value instead\n",
            "\n",
            "See the caveats in the documentation: https://pandas.pydata.org/pandas-docs/stable/user_guide/indexing.html#returning-a-view-versus-a-copy\n",
            "  chunk['metadata'] = chunk[['os', 'normalized_osv', 'device_vendor', 'device_model', 'deviceType']].fillna('').astype(str).agg(' '.join, axis=1)\n"
          ]
        },
        {
          "name": "stdout",
          "output_type": "stream",
          "text": [
            " - Generating Metadata embeddings for 1000 rows...\n",
            "\n",
            "[DEBUG] After Processing Chunk 13\n",
            " - System RAM Usage: 28.3%\n",
            " - GPU Memory Allocated: 1325.73 MB\n",
            " - GPU Memory Cached: 1438.65 MB\n",
            "\n",
            "[DEBUG] Processing Chunk 14...\n",
            " - Generating UA embeddings for 1000 rows...\n"
          ]
        },
        {
          "name": "stderr",
          "output_type": "stream",
          "text": [
            "<ipython-input-14-9832f32bc56b>:53: SettingWithCopyWarning: \n",
            "A value is trying to be set on a copy of a slice from a DataFrame.\n",
            "Try using .loc[row_indexer,col_indexer] = value instead\n",
            "\n",
            "See the caveats in the documentation: https://pandas.pydata.org/pandas-docs/stable/user_guide/indexing.html#returning-a-view-versus-a-copy\n",
            "  chunk['metadata'] = chunk[['os', 'normalized_osv', 'device_vendor', 'device_model', 'deviceType']].fillna('').astype(str).agg(' '.join, axis=1)\n"
          ]
        },
        {
          "name": "stdout",
          "output_type": "stream",
          "text": [
            " - Generating Metadata embeddings for 1000 rows...\n",
            "\n",
            "[DEBUG] After Processing Chunk 14\n",
            " - System RAM Usage: 28.3%\n",
            " - GPU Memory Allocated: 1325.73 MB\n",
            " - GPU Memory Cached: 1438.65 MB\n",
            "\n",
            "[DEBUG] Processing Chunk 15...\n",
            " - Generating UA embeddings for 1000 rows...\n"
          ]
        },
        {
          "name": "stderr",
          "output_type": "stream",
          "text": [
            "<ipython-input-14-9832f32bc56b>:53: SettingWithCopyWarning: \n",
            "A value is trying to be set on a copy of a slice from a DataFrame.\n",
            "Try using .loc[row_indexer,col_indexer] = value instead\n",
            "\n",
            "See the caveats in the documentation: https://pandas.pydata.org/pandas-docs/stable/user_guide/indexing.html#returning-a-view-versus-a-copy\n",
            "  chunk['metadata'] = chunk[['os', 'normalized_osv', 'device_vendor', 'device_model', 'deviceType']].fillna('').astype(str).agg(' '.join, axis=1)\n"
          ]
        },
        {
          "name": "stdout",
          "output_type": "stream",
          "text": [
            " - Generating Metadata embeddings for 1000 rows...\n",
            "\n",
            "[DEBUG] After Processing Chunk 15\n",
            " - System RAM Usage: 28.3%\n",
            " - GPU Memory Allocated: 1325.73 MB\n",
            " - GPU Memory Cached: 1438.65 MB\n",
            "\n",
            "[DEBUG] Processing Chunk 16...\n",
            " - Generating UA embeddings for 1000 rows...\n"
          ]
        },
        {
          "name": "stderr",
          "output_type": "stream",
          "text": [
            "<ipython-input-14-9832f32bc56b>:53: SettingWithCopyWarning: \n",
            "A value is trying to be set on a copy of a slice from a DataFrame.\n",
            "Try using .loc[row_indexer,col_indexer] = value instead\n",
            "\n",
            "See the caveats in the documentation: https://pandas.pydata.org/pandas-docs/stable/user_guide/indexing.html#returning-a-view-versus-a-copy\n",
            "  chunk['metadata'] = chunk[['os', 'normalized_osv', 'device_vendor', 'device_model', 'deviceType']].fillna('').astype(str).agg(' '.join, axis=1)\n"
          ]
        },
        {
          "name": "stdout",
          "output_type": "stream",
          "text": [
            " - Generating Metadata embeddings for 1000 rows...\n",
            "\n",
            "[DEBUG] After Processing Chunk 16\n",
            " - System RAM Usage: 28.3%\n",
            " - GPU Memory Allocated: 1325.73 MB\n",
            " - GPU Memory Cached: 1438.65 MB\n",
            "\n",
            "[DEBUG] Processing Chunk 17...\n",
            " - Generating UA embeddings for 1000 rows...\n"
          ]
        },
        {
          "name": "stderr",
          "output_type": "stream",
          "text": [
            "<ipython-input-14-9832f32bc56b>:53: SettingWithCopyWarning: \n",
            "A value is trying to be set on a copy of a slice from a DataFrame.\n",
            "Try using .loc[row_indexer,col_indexer] = value instead\n",
            "\n",
            "See the caveats in the documentation: https://pandas.pydata.org/pandas-docs/stable/user_guide/indexing.html#returning-a-view-versus-a-copy\n",
            "  chunk['metadata'] = chunk[['os', 'normalized_osv', 'device_vendor', 'device_model', 'deviceType']].fillna('').astype(str).agg(' '.join, axis=1)\n"
          ]
        },
        {
          "name": "stdout",
          "output_type": "stream",
          "text": [
            " - Generating Metadata embeddings for 1000 rows...\n",
            "\n",
            "[DEBUG] After Processing Chunk 17\n",
            " - System RAM Usage: 28.4%\n",
            " - GPU Memory Allocated: 1325.73 MB\n",
            " - GPU Memory Cached: 1438.65 MB\n",
            "\n",
            "[DEBUG] Processing Chunk 18...\n",
            " - Generating UA embeddings for 1000 rows...\n"
          ]
        },
        {
          "name": "stderr",
          "output_type": "stream",
          "text": [
            "<ipython-input-14-9832f32bc56b>:53: SettingWithCopyWarning: \n",
            "A value is trying to be set on a copy of a slice from a DataFrame.\n",
            "Try using .loc[row_indexer,col_indexer] = value instead\n",
            "\n",
            "See the caveats in the documentation: https://pandas.pydata.org/pandas-docs/stable/user_guide/indexing.html#returning-a-view-versus-a-copy\n",
            "  chunk['metadata'] = chunk[['os', 'normalized_osv', 'device_vendor', 'device_model', 'deviceType']].fillna('').astype(str).agg(' '.join, axis=1)\n"
          ]
        },
        {
          "name": "stdout",
          "output_type": "stream",
          "text": [
            " - Generating Metadata embeddings for 1000 rows...\n",
            "\n",
            "[DEBUG] After Processing Chunk 18\n",
            " - System RAM Usage: 28.4%\n",
            " - GPU Memory Allocated: 1325.73 MB\n",
            " - GPU Memory Cached: 1438.65 MB\n",
            "\n",
            "[DEBUG] Processing Chunk 19...\n",
            " - Generating UA embeddings for 1000 rows...\n"
          ]
        },
        {
          "name": "stderr",
          "output_type": "stream",
          "text": [
            "<ipython-input-14-9832f32bc56b>:53: SettingWithCopyWarning: \n",
            "A value is trying to be set on a copy of a slice from a DataFrame.\n",
            "Try using .loc[row_indexer,col_indexer] = value instead\n",
            "\n",
            "See the caveats in the documentation: https://pandas.pydata.org/pandas-docs/stable/user_guide/indexing.html#returning-a-view-versus-a-copy\n",
            "  chunk['metadata'] = chunk[['os', 'normalized_osv', 'device_vendor', 'device_model', 'deviceType']].fillna('').astype(str).agg(' '.join, axis=1)\n"
          ]
        },
        {
          "name": "stdout",
          "output_type": "stream",
          "text": [
            " - Generating Metadata embeddings for 1000 rows...\n",
            "\n",
            "[DEBUG] After Processing Chunk 19\n",
            " - System RAM Usage: 28.4%\n",
            " - GPU Memory Allocated: 1325.73 MB\n",
            " - GPU Memory Cached: 1438.65 MB\n",
            "\n",
            "[DEBUG] Processing Chunk 20...\n",
            " - Generating UA embeddings for 1000 rows...\n"
          ]
        },
        {
          "name": "stderr",
          "output_type": "stream",
          "text": [
            "<ipython-input-14-9832f32bc56b>:53: SettingWithCopyWarning: \n",
            "A value is trying to be set on a copy of a slice from a DataFrame.\n",
            "Try using .loc[row_indexer,col_indexer] = value instead\n",
            "\n",
            "See the caveats in the documentation: https://pandas.pydata.org/pandas-docs/stable/user_guide/indexing.html#returning-a-view-versus-a-copy\n",
            "  chunk['metadata'] = chunk[['os', 'normalized_osv', 'device_vendor', 'device_model', 'deviceType']].fillna('').astype(str).agg(' '.join, axis=1)\n"
          ]
        },
        {
          "name": "stdout",
          "output_type": "stream",
          "text": [
            " - Generating Metadata embeddings for 1000 rows...\n",
            "\n",
            "[DEBUG] After Processing Chunk 20\n",
            " - System RAM Usage: 28.3%\n",
            " - GPU Memory Allocated: 1325.73 MB\n",
            " - GPU Memory Cached: 1438.65 MB\n",
            "\n",
            "[DEBUG] Processing Chunk 21...\n",
            " - Generating UA embeddings for 1000 rows...\n"
          ]
        },
        {
          "name": "stderr",
          "output_type": "stream",
          "text": [
            "<ipython-input-14-9832f32bc56b>:53: SettingWithCopyWarning: \n",
            "A value is trying to be set on a copy of a slice from a DataFrame.\n",
            "Try using .loc[row_indexer,col_indexer] = value instead\n",
            "\n",
            "See the caveats in the documentation: https://pandas.pydata.org/pandas-docs/stable/user_guide/indexing.html#returning-a-view-versus-a-copy\n",
            "  chunk['metadata'] = chunk[['os', 'normalized_osv', 'device_vendor', 'device_model', 'deviceType']].fillna('').astype(str).agg(' '.join, axis=1)\n"
          ]
        },
        {
          "name": "stdout",
          "output_type": "stream",
          "text": [
            " - Generating Metadata embeddings for 1000 rows...\n",
            "\n",
            "[DEBUG] After Processing Chunk 21\n",
            " - System RAM Usage: 28.5%\n",
            " - GPU Memory Allocated: 1325.73 MB\n",
            " - GPU Memory Cached: 1438.65 MB\n",
            "\n",
            "[DEBUG] Processing Chunk 22...\n",
            " - Generating UA embeddings for 1000 rows...\n"
          ]
        },
        {
          "name": "stderr",
          "output_type": "stream",
          "text": [
            "<ipython-input-14-9832f32bc56b>:53: SettingWithCopyWarning: \n",
            "A value is trying to be set on a copy of a slice from a DataFrame.\n",
            "Try using .loc[row_indexer,col_indexer] = value instead\n",
            "\n",
            "See the caveats in the documentation: https://pandas.pydata.org/pandas-docs/stable/user_guide/indexing.html#returning-a-view-versus-a-copy\n",
            "  chunk['metadata'] = chunk[['os', 'normalized_osv', 'device_vendor', 'device_model', 'deviceType']].fillna('').astype(str).agg(' '.join, axis=1)\n"
          ]
        },
        {
          "name": "stdout",
          "output_type": "stream",
          "text": [
            " - Generating Metadata embeddings for 1000 rows...\n",
            "\n",
            "[DEBUG] After Processing Chunk 22\n",
            " - System RAM Usage: 28.5%\n",
            " - GPU Memory Allocated: 1325.73 MB\n",
            " - GPU Memory Cached: 1438.65 MB\n",
            "\n",
            "[DEBUG] Processing Chunk 23...\n",
            " - Generating UA embeddings for 1000 rows...\n"
          ]
        },
        {
          "name": "stderr",
          "output_type": "stream",
          "text": [
            "<ipython-input-14-9832f32bc56b>:53: SettingWithCopyWarning: \n",
            "A value is trying to be set on a copy of a slice from a DataFrame.\n",
            "Try using .loc[row_indexer,col_indexer] = value instead\n",
            "\n",
            "See the caveats in the documentation: https://pandas.pydata.org/pandas-docs/stable/user_guide/indexing.html#returning-a-view-versus-a-copy\n",
            "  chunk['metadata'] = chunk[['os', 'normalized_osv', 'device_vendor', 'device_model', 'deviceType']].fillna('').astype(str).agg(' '.join, axis=1)\n"
          ]
        },
        {
          "name": "stdout",
          "output_type": "stream",
          "text": [
            " - Generating Metadata embeddings for 1000 rows...\n",
            "\n",
            "[DEBUG] After Processing Chunk 23\n",
            " - System RAM Usage: 28.6%\n",
            " - GPU Memory Allocated: 1325.73 MB\n",
            " - GPU Memory Cached: 1438.65 MB\n",
            "\n",
            "[DEBUG] Processing Chunk 24...\n",
            " - Generating UA embeddings for 1000 rows...\n"
          ]
        },
        {
          "name": "stderr",
          "output_type": "stream",
          "text": [
            "<ipython-input-14-9832f32bc56b>:53: SettingWithCopyWarning: \n",
            "A value is trying to be set on a copy of a slice from a DataFrame.\n",
            "Try using .loc[row_indexer,col_indexer] = value instead\n",
            "\n",
            "See the caveats in the documentation: https://pandas.pydata.org/pandas-docs/stable/user_guide/indexing.html#returning-a-view-versus-a-copy\n",
            "  chunk['metadata'] = chunk[['os', 'normalized_osv', 'device_vendor', 'device_model', 'deviceType']].fillna('').astype(str).agg(' '.join, axis=1)\n"
          ]
        },
        {
          "name": "stdout",
          "output_type": "stream",
          "text": [
            " - Generating Metadata embeddings for 1000 rows...\n",
            "\n",
            "[DEBUG] After Processing Chunk 24\n",
            " - System RAM Usage: 28.7%\n",
            " - GPU Memory Allocated: 1325.73 MB\n",
            " - GPU Memory Cached: 1438.65 MB\n",
            "\n",
            "[DEBUG] Processing Chunk 25...\n",
            " - Generating UA embeddings for 1000 rows...\n"
          ]
        },
        {
          "name": "stderr",
          "output_type": "stream",
          "text": [
            "<ipython-input-14-9832f32bc56b>:53: SettingWithCopyWarning: \n",
            "A value is trying to be set on a copy of a slice from a DataFrame.\n",
            "Try using .loc[row_indexer,col_indexer] = value instead\n",
            "\n",
            "See the caveats in the documentation: https://pandas.pydata.org/pandas-docs/stable/user_guide/indexing.html#returning-a-view-versus-a-copy\n",
            "  chunk['metadata'] = chunk[['os', 'normalized_osv', 'device_vendor', 'device_model', 'deviceType']].fillna('').astype(str).agg(' '.join, axis=1)\n"
          ]
        },
        {
          "name": "stdout",
          "output_type": "stream",
          "text": [
            " - Generating Metadata embeddings for 1000 rows...\n",
            "\n",
            "[DEBUG] After Processing Chunk 25\n",
            " - System RAM Usage: 28.7%\n",
            " - GPU Memory Allocated: 1325.73 MB\n",
            " - GPU Memory Cached: 1438.65 MB\n",
            "\n",
            "[DEBUG] Processing Chunk 26...\n",
            " - Generating UA embeddings for 1000 rows...\n"
          ]
        },
        {
          "name": "stderr",
          "output_type": "stream",
          "text": [
            "<ipython-input-14-9832f32bc56b>:53: SettingWithCopyWarning: \n",
            "A value is trying to be set on a copy of a slice from a DataFrame.\n",
            "Try using .loc[row_indexer,col_indexer] = value instead\n",
            "\n",
            "See the caveats in the documentation: https://pandas.pydata.org/pandas-docs/stable/user_guide/indexing.html#returning-a-view-versus-a-copy\n",
            "  chunk['metadata'] = chunk[['os', 'normalized_osv', 'device_vendor', 'device_model', 'deviceType']].fillna('').astype(str).agg(' '.join, axis=1)\n"
          ]
        },
        {
          "name": "stdout",
          "output_type": "stream",
          "text": [
            " - Generating Metadata embeddings for 1000 rows...\n",
            "\n",
            "[DEBUG] After Processing Chunk 26\n",
            " - System RAM Usage: 28.7%\n",
            " - GPU Memory Allocated: 1325.73 MB\n",
            " - GPU Memory Cached: 1438.65 MB\n",
            "\n",
            "[DEBUG] Processing Chunk 27...\n",
            " - Generating UA embeddings for 1000 rows...\n"
          ]
        },
        {
          "name": "stderr",
          "output_type": "stream",
          "text": [
            "<ipython-input-14-9832f32bc56b>:53: SettingWithCopyWarning: \n",
            "A value is trying to be set on a copy of a slice from a DataFrame.\n",
            "Try using .loc[row_indexer,col_indexer] = value instead\n",
            "\n",
            "See the caveats in the documentation: https://pandas.pydata.org/pandas-docs/stable/user_guide/indexing.html#returning-a-view-versus-a-copy\n",
            "  chunk['metadata'] = chunk[['os', 'normalized_osv', 'device_vendor', 'device_model', 'deviceType']].fillna('').astype(str).agg(' '.join, axis=1)\n"
          ]
        },
        {
          "name": "stdout",
          "output_type": "stream",
          "text": [
            " - Generating Metadata embeddings for 1000 rows...\n",
            "\n",
            "[DEBUG] After Processing Chunk 27\n",
            " - System RAM Usage: 28.8%\n",
            " - GPU Memory Allocated: 1325.73 MB\n",
            " - GPU Memory Cached: 1438.65 MB\n",
            "\n",
            "[DEBUG] Processing Chunk 28...\n",
            " - Generating UA embeddings for 1000 rows...\n"
          ]
        },
        {
          "name": "stderr",
          "output_type": "stream",
          "text": [
            "<ipython-input-14-9832f32bc56b>:53: SettingWithCopyWarning: \n",
            "A value is trying to be set on a copy of a slice from a DataFrame.\n",
            "Try using .loc[row_indexer,col_indexer] = value instead\n",
            "\n",
            "See the caveats in the documentation: https://pandas.pydata.org/pandas-docs/stable/user_guide/indexing.html#returning-a-view-versus-a-copy\n",
            "  chunk['metadata'] = chunk[['os', 'normalized_osv', 'device_vendor', 'device_model', 'deviceType']].fillna('').astype(str).agg(' '.join, axis=1)\n"
          ]
        },
        {
          "name": "stdout",
          "output_type": "stream",
          "text": [
            " - Generating Metadata embeddings for 1000 rows...\n",
            "\n",
            "[DEBUG] After Processing Chunk 28\n",
            " - System RAM Usage: 28.8%\n",
            " - GPU Memory Allocated: 1325.73 MB\n",
            " - GPU Memory Cached: 1438.65 MB\n",
            "\n",
            "[DEBUG] Processing Chunk 29...\n",
            " - Generating UA embeddings for 1000 rows...\n"
          ]
        },
        {
          "name": "stderr",
          "output_type": "stream",
          "text": [
            "<ipython-input-14-9832f32bc56b>:53: SettingWithCopyWarning: \n",
            "A value is trying to be set on a copy of a slice from a DataFrame.\n",
            "Try using .loc[row_indexer,col_indexer] = value instead\n",
            "\n",
            "See the caveats in the documentation: https://pandas.pydata.org/pandas-docs/stable/user_guide/indexing.html#returning-a-view-versus-a-copy\n",
            "  chunk['metadata'] = chunk[['os', 'normalized_osv', 'device_vendor', 'device_model', 'deviceType']].fillna('').astype(str).agg(' '.join, axis=1)\n"
          ]
        },
        {
          "name": "stdout",
          "output_type": "stream",
          "text": [
            " - Generating Metadata embeddings for 1000 rows...\n",
            "\n",
            "[DEBUG] After Processing Chunk 29\n",
            " - System RAM Usage: 28.9%\n",
            " - GPU Memory Allocated: 1325.73 MB\n",
            " - GPU Memory Cached: 1438.65 MB\n",
            "\n",
            "[DEBUG] Processing Chunk 30...\n",
            " - Generating UA embeddings for 1000 rows...\n"
          ]
        },
        {
          "name": "stderr",
          "output_type": "stream",
          "text": [
            "<ipython-input-14-9832f32bc56b>:53: SettingWithCopyWarning: \n",
            "A value is trying to be set on a copy of a slice from a DataFrame.\n",
            "Try using .loc[row_indexer,col_indexer] = value instead\n",
            "\n",
            "See the caveats in the documentation: https://pandas.pydata.org/pandas-docs/stable/user_guide/indexing.html#returning-a-view-versus-a-copy\n",
            "  chunk['metadata'] = chunk[['os', 'normalized_osv', 'device_vendor', 'device_model', 'deviceType']].fillna('').astype(str).agg(' '.join, axis=1)\n"
          ]
        },
        {
          "name": "stdout",
          "output_type": "stream",
          "text": [
            " - Generating Metadata embeddings for 1000 rows...\n",
            "\n",
            "[DEBUG] After Processing Chunk 30\n",
            " - System RAM Usage: 28.9%\n",
            " - GPU Memory Allocated: 1325.73 MB\n",
            " - GPU Memory Cached: 1438.65 MB\n",
            "\n",
            "[DEBUG] Processing Chunk 31...\n",
            " - Generating UA embeddings for 1000 rows...\n"
          ]
        },
        {
          "name": "stderr",
          "output_type": "stream",
          "text": [
            "<ipython-input-14-9832f32bc56b>:53: SettingWithCopyWarning: \n",
            "A value is trying to be set on a copy of a slice from a DataFrame.\n",
            "Try using .loc[row_indexer,col_indexer] = value instead\n",
            "\n",
            "See the caveats in the documentation: https://pandas.pydata.org/pandas-docs/stable/user_guide/indexing.html#returning-a-view-versus-a-copy\n",
            "  chunk['metadata'] = chunk[['os', 'normalized_osv', 'device_vendor', 'device_model', 'deviceType']].fillna('').astype(str).agg(' '.join, axis=1)\n"
          ]
        },
        {
          "name": "stdout",
          "output_type": "stream",
          "text": [
            " - Generating Metadata embeddings for 1000 rows...\n",
            "\n",
            "[DEBUG] After Processing Chunk 31\n",
            " - System RAM Usage: 29.0%\n",
            " - GPU Memory Allocated: 1325.73 MB\n",
            " - GPU Memory Cached: 1438.65 MB\n",
            "\n",
            "[DEBUG] Processing Chunk 32...\n",
            " - Generating UA embeddings for 1000 rows...\n"
          ]
        },
        {
          "name": "stderr",
          "output_type": "stream",
          "text": [
            "<ipython-input-14-9832f32bc56b>:53: SettingWithCopyWarning: \n",
            "A value is trying to be set on a copy of a slice from a DataFrame.\n",
            "Try using .loc[row_indexer,col_indexer] = value instead\n",
            "\n",
            "See the caveats in the documentation: https://pandas.pydata.org/pandas-docs/stable/user_guide/indexing.html#returning-a-view-versus-a-copy\n",
            "  chunk['metadata'] = chunk[['os', 'normalized_osv', 'device_vendor', 'device_model', 'deviceType']].fillna('').astype(str).agg(' '.join, axis=1)\n"
          ]
        },
        {
          "name": "stdout",
          "output_type": "stream",
          "text": [
            " - Generating Metadata embeddings for 1000 rows...\n",
            "\n",
            "[DEBUG] After Processing Chunk 32\n",
            " - System RAM Usage: 29.1%\n",
            " - GPU Memory Allocated: 1325.73 MB\n",
            " - GPU Memory Cached: 1438.65 MB\n",
            "\n",
            "[DEBUG] Processing Chunk 33...\n",
            " - Generating UA embeddings for 1000 rows...\n"
          ]
        },
        {
          "name": "stderr",
          "output_type": "stream",
          "text": [
            "<ipython-input-14-9832f32bc56b>:53: SettingWithCopyWarning: \n",
            "A value is trying to be set on a copy of a slice from a DataFrame.\n",
            "Try using .loc[row_indexer,col_indexer] = value instead\n",
            "\n",
            "See the caveats in the documentation: https://pandas.pydata.org/pandas-docs/stable/user_guide/indexing.html#returning-a-view-versus-a-copy\n",
            "  chunk['metadata'] = chunk[['os', 'normalized_osv', 'device_vendor', 'device_model', 'deviceType']].fillna('').astype(str).agg(' '.join, axis=1)\n"
          ]
        },
        {
          "name": "stdout",
          "output_type": "stream",
          "text": [
            " - Generating Metadata embeddings for 1000 rows...\n",
            "\n",
            "[DEBUG] After Processing Chunk 33\n",
            " - System RAM Usage: 29.1%\n",
            " - GPU Memory Allocated: 1325.73 MB\n",
            " - GPU Memory Cached: 1438.65 MB\n",
            "\n",
            "[DEBUG] Processing Chunk 34...\n",
            " - Generating UA embeddings for 1000 rows...\n"
          ]
        },
        {
          "name": "stderr",
          "output_type": "stream",
          "text": [
            "<ipython-input-14-9832f32bc56b>:53: SettingWithCopyWarning: \n",
            "A value is trying to be set on a copy of a slice from a DataFrame.\n",
            "Try using .loc[row_indexer,col_indexer] = value instead\n",
            "\n",
            "See the caveats in the documentation: https://pandas.pydata.org/pandas-docs/stable/user_guide/indexing.html#returning-a-view-versus-a-copy\n",
            "  chunk['metadata'] = chunk[['os', 'normalized_osv', 'device_vendor', 'device_model', 'deviceType']].fillna('').astype(str).agg(' '.join, axis=1)\n"
          ]
        },
        {
          "name": "stdout",
          "output_type": "stream",
          "text": [
            " - Generating Metadata embeddings for 1000 rows...\n",
            "\n",
            "[DEBUG] After Processing Chunk 34\n",
            " - System RAM Usage: 29.1%\n",
            " - GPU Memory Allocated: 1325.73 MB\n",
            " - GPU Memory Cached: 1438.65 MB\n",
            "\n",
            "[DEBUG] Processing Chunk 35...\n",
            " - Generating UA embeddings for 1000 rows...\n"
          ]
        },
        {
          "name": "stderr",
          "output_type": "stream",
          "text": [
            "<ipython-input-14-9832f32bc56b>:53: SettingWithCopyWarning: \n",
            "A value is trying to be set on a copy of a slice from a DataFrame.\n",
            "Try using .loc[row_indexer,col_indexer] = value instead\n",
            "\n",
            "See the caveats in the documentation: https://pandas.pydata.org/pandas-docs/stable/user_guide/indexing.html#returning-a-view-versus-a-copy\n",
            "  chunk['metadata'] = chunk[['os', 'normalized_osv', 'device_vendor', 'device_model', 'deviceType']].fillna('').astype(str).agg(' '.join, axis=1)\n"
          ]
        },
        {
          "name": "stdout",
          "output_type": "stream",
          "text": [
            " - Generating Metadata embeddings for 1000 rows...\n",
            "\n",
            "[DEBUG] After Processing Chunk 35\n",
            " - System RAM Usage: 29.2%\n",
            " - GPU Memory Allocated: 1325.73 MB\n",
            " - GPU Memory Cached: 1438.65 MB\n",
            "\n",
            "[DEBUG] Processing Chunk 36...\n",
            " - Generating UA embeddings for 1000 rows...\n"
          ]
        },
        {
          "name": "stderr",
          "output_type": "stream",
          "text": [
            "<ipython-input-14-9832f32bc56b>:53: SettingWithCopyWarning: \n",
            "A value is trying to be set on a copy of a slice from a DataFrame.\n",
            "Try using .loc[row_indexer,col_indexer] = value instead\n",
            "\n",
            "See the caveats in the documentation: https://pandas.pydata.org/pandas-docs/stable/user_guide/indexing.html#returning-a-view-versus-a-copy\n",
            "  chunk['metadata'] = chunk[['os', 'normalized_osv', 'device_vendor', 'device_model', 'deviceType']].fillna('').astype(str).agg(' '.join, axis=1)\n"
          ]
        },
        {
          "name": "stdout",
          "output_type": "stream",
          "text": [
            " - Generating Metadata embeddings for 1000 rows...\n",
            "\n",
            "[DEBUG] After Processing Chunk 36\n",
            " - System RAM Usage: 29.2%\n",
            " - GPU Memory Allocated: 1325.73 MB\n",
            " - GPU Memory Cached: 1438.65 MB\n",
            "\n",
            "[DEBUG] Processing Chunk 37...\n",
            " - Generating UA embeddings for 1000 rows...\n"
          ]
        },
        {
          "name": "stderr",
          "output_type": "stream",
          "text": [
            "<ipython-input-14-9832f32bc56b>:53: SettingWithCopyWarning: \n",
            "A value is trying to be set on a copy of a slice from a DataFrame.\n",
            "Try using .loc[row_indexer,col_indexer] = value instead\n",
            "\n",
            "See the caveats in the documentation: https://pandas.pydata.org/pandas-docs/stable/user_guide/indexing.html#returning-a-view-versus-a-copy\n",
            "  chunk['metadata'] = chunk[['os', 'normalized_osv', 'device_vendor', 'device_model', 'deviceType']].fillna('').astype(str).agg(' '.join, axis=1)\n"
          ]
        },
        {
          "name": "stdout",
          "output_type": "stream",
          "text": [
            " - Generating Metadata embeddings for 1000 rows...\n",
            "\n",
            "[DEBUG] After Processing Chunk 37\n",
            " - System RAM Usage: 29.3%\n",
            " - GPU Memory Allocated: 1325.73 MB\n",
            " - GPU Memory Cached: 1438.65 MB\n",
            "\n",
            "[DEBUG] Processing Chunk 38...\n",
            " - Generating UA embeddings for 1000 rows...\n"
          ]
        },
        {
          "name": "stderr",
          "output_type": "stream",
          "text": [
            "<ipython-input-14-9832f32bc56b>:53: SettingWithCopyWarning: \n",
            "A value is trying to be set on a copy of a slice from a DataFrame.\n",
            "Try using .loc[row_indexer,col_indexer] = value instead\n",
            "\n",
            "See the caveats in the documentation: https://pandas.pydata.org/pandas-docs/stable/user_guide/indexing.html#returning-a-view-versus-a-copy\n",
            "  chunk['metadata'] = chunk[['os', 'normalized_osv', 'device_vendor', 'device_model', 'deviceType']].fillna('').astype(str).agg(' '.join, axis=1)\n"
          ]
        },
        {
          "name": "stdout",
          "output_type": "stream",
          "text": [
            " - Generating Metadata embeddings for 1000 rows...\n",
            "\n",
            "[DEBUG] After Processing Chunk 38\n",
            " - System RAM Usage: 29.3%\n",
            " - GPU Memory Allocated: 1325.73 MB\n",
            " - GPU Memory Cached: 1438.65 MB\n",
            "\n",
            "[DEBUG] Processing Chunk 39...\n",
            " - Generating UA embeddings for 1000 rows...\n"
          ]
        },
        {
          "name": "stderr",
          "output_type": "stream",
          "text": [
            "<ipython-input-14-9832f32bc56b>:53: SettingWithCopyWarning: \n",
            "A value is trying to be set on a copy of a slice from a DataFrame.\n",
            "Try using .loc[row_indexer,col_indexer] = value instead\n",
            "\n",
            "See the caveats in the documentation: https://pandas.pydata.org/pandas-docs/stable/user_guide/indexing.html#returning-a-view-versus-a-copy\n",
            "  chunk['metadata'] = chunk[['os', 'normalized_osv', 'device_vendor', 'device_model', 'deviceType']].fillna('').astype(str).agg(' '.join, axis=1)\n"
          ]
        },
        {
          "name": "stdout",
          "output_type": "stream",
          "text": [
            " - Generating Metadata embeddings for 1000 rows...\n",
            "\n",
            "[DEBUG] After Processing Chunk 39\n",
            " - System RAM Usage: 29.4%\n",
            " - GPU Memory Allocated: 1325.73 MB\n",
            " - GPU Memory Cached: 1438.65 MB\n",
            "\n",
            "[DEBUG] Processing Chunk 40...\n",
            " - Generating UA embeddings for 1000 rows...\n"
          ]
        },
        {
          "name": "stderr",
          "output_type": "stream",
          "text": [
            "<ipython-input-14-9832f32bc56b>:53: SettingWithCopyWarning: \n",
            "A value is trying to be set on a copy of a slice from a DataFrame.\n",
            "Try using .loc[row_indexer,col_indexer] = value instead\n",
            "\n",
            "See the caveats in the documentation: https://pandas.pydata.org/pandas-docs/stable/user_guide/indexing.html#returning-a-view-versus-a-copy\n",
            "  chunk['metadata'] = chunk[['os', 'normalized_osv', 'device_vendor', 'device_model', 'deviceType']].fillna('').astype(str).agg(' '.join, axis=1)\n"
          ]
        },
        {
          "name": "stdout",
          "output_type": "stream",
          "text": [
            " - Generating Metadata embeddings for 1000 rows...\n",
            "\n",
            "[DEBUG] After Processing Chunk 40\n",
            " - System RAM Usage: 29.5%\n",
            " - GPU Memory Allocated: 1325.73 MB\n",
            " - GPU Memory Cached: 1438.65 MB\n",
            "\n",
            "[DEBUG] Processing Chunk 41...\n",
            " - Generating UA embeddings for 1000 rows...\n"
          ]
        },
        {
          "name": "stderr",
          "output_type": "stream",
          "text": [
            "<ipython-input-14-9832f32bc56b>:53: SettingWithCopyWarning: \n",
            "A value is trying to be set on a copy of a slice from a DataFrame.\n",
            "Try using .loc[row_indexer,col_indexer] = value instead\n",
            "\n",
            "See the caveats in the documentation: https://pandas.pydata.org/pandas-docs/stable/user_guide/indexing.html#returning-a-view-versus-a-copy\n",
            "  chunk['metadata'] = chunk[['os', 'normalized_osv', 'device_vendor', 'device_model', 'deviceType']].fillna('').astype(str).agg(' '.join, axis=1)\n"
          ]
        },
        {
          "name": "stdout",
          "output_type": "stream",
          "text": [
            " - Generating Metadata embeddings for 1000 rows...\n",
            "\n",
            "[DEBUG] After Processing Chunk 41\n",
            " - System RAM Usage: 29.5%\n",
            " - GPU Memory Allocated: 1325.73 MB\n",
            " - GPU Memory Cached: 1438.65 MB\n",
            "\n",
            "[DEBUG] Processing Chunk 42...\n",
            " - Generating UA embeddings for 1000 rows...\n"
          ]
        },
        {
          "name": "stderr",
          "output_type": "stream",
          "text": [
            "<ipython-input-14-9832f32bc56b>:53: SettingWithCopyWarning: \n",
            "A value is trying to be set on a copy of a slice from a DataFrame.\n",
            "Try using .loc[row_indexer,col_indexer] = value instead\n",
            "\n",
            "See the caveats in the documentation: https://pandas.pydata.org/pandas-docs/stable/user_guide/indexing.html#returning-a-view-versus-a-copy\n",
            "  chunk['metadata'] = chunk[['os', 'normalized_osv', 'device_vendor', 'device_model', 'deviceType']].fillna('').astype(str).agg(' '.join, axis=1)\n"
          ]
        },
        {
          "name": "stdout",
          "output_type": "stream",
          "text": [
            " - Generating Metadata embeddings for 1000 rows...\n",
            "\n",
            "[DEBUG] After Processing Chunk 42\n",
            " - System RAM Usage: 29.5%\n",
            " - GPU Memory Allocated: 1325.73 MB\n",
            " - GPU Memory Cached: 1438.65 MB\n",
            "\n",
            "[DEBUG] Processing Chunk 43...\n",
            " - Generating UA embeddings for 1000 rows...\n"
          ]
        },
        {
          "name": "stderr",
          "output_type": "stream",
          "text": [
            "<ipython-input-14-9832f32bc56b>:53: SettingWithCopyWarning: \n",
            "A value is trying to be set on a copy of a slice from a DataFrame.\n",
            "Try using .loc[row_indexer,col_indexer] = value instead\n",
            "\n",
            "See the caveats in the documentation: https://pandas.pydata.org/pandas-docs/stable/user_guide/indexing.html#returning-a-view-versus-a-copy\n",
            "  chunk['metadata'] = chunk[['os', 'normalized_osv', 'device_vendor', 'device_model', 'deviceType']].fillna('').astype(str).agg(' '.join, axis=1)\n"
          ]
        },
        {
          "name": "stdout",
          "output_type": "stream",
          "text": [
            " - Generating Metadata embeddings for 1000 rows...\n",
            "\n",
            "[DEBUG] After Processing Chunk 43\n",
            " - System RAM Usage: 29.6%\n",
            " - GPU Memory Allocated: 1325.73 MB\n",
            " - GPU Memory Cached: 1438.65 MB\n",
            "\n",
            "[DEBUG] Processing Chunk 44...\n",
            " - Generating UA embeddings for 1000 rows...\n"
          ]
        },
        {
          "name": "stderr",
          "output_type": "stream",
          "text": [
            "<ipython-input-14-9832f32bc56b>:53: SettingWithCopyWarning: \n",
            "A value is trying to be set on a copy of a slice from a DataFrame.\n",
            "Try using .loc[row_indexer,col_indexer] = value instead\n",
            "\n",
            "See the caveats in the documentation: https://pandas.pydata.org/pandas-docs/stable/user_guide/indexing.html#returning-a-view-versus-a-copy\n",
            "  chunk['metadata'] = chunk[['os', 'normalized_osv', 'device_vendor', 'device_model', 'deviceType']].fillna('').astype(str).agg(' '.join, axis=1)\n"
          ]
        },
        {
          "name": "stdout",
          "output_type": "stream",
          "text": [
            " - Generating Metadata embeddings for 1000 rows...\n",
            "\n",
            "[DEBUG] After Processing Chunk 44\n",
            " - System RAM Usage: 29.6%\n",
            " - GPU Memory Allocated: 1325.73 MB\n",
            " - GPU Memory Cached: 1438.65 MB\n",
            "\n",
            "[DEBUG] Processing Chunk 45...\n",
            " - Generating UA embeddings for 1000 rows...\n"
          ]
        },
        {
          "name": "stderr",
          "output_type": "stream",
          "text": [
            "<ipython-input-14-9832f32bc56b>:53: SettingWithCopyWarning: \n",
            "A value is trying to be set on a copy of a slice from a DataFrame.\n",
            "Try using .loc[row_indexer,col_indexer] = value instead\n",
            "\n",
            "See the caveats in the documentation: https://pandas.pydata.org/pandas-docs/stable/user_guide/indexing.html#returning-a-view-versus-a-copy\n",
            "  chunk['metadata'] = chunk[['os', 'normalized_osv', 'device_vendor', 'device_model', 'deviceType']].fillna('').astype(str).agg(' '.join, axis=1)\n"
          ]
        },
        {
          "name": "stdout",
          "output_type": "stream",
          "text": [
            " - Generating Metadata embeddings for 1000 rows...\n",
            "\n",
            "[DEBUG] After Processing Chunk 45\n",
            " - System RAM Usage: 29.6%\n",
            " - GPU Memory Allocated: 1325.73 MB\n",
            " - GPU Memory Cached: 1438.65 MB\n",
            "\n",
            "[DEBUG] Processing Chunk 46...\n",
            " - Generating UA embeddings for 1000 rows...\n"
          ]
        },
        {
          "name": "stderr",
          "output_type": "stream",
          "text": [
            "<ipython-input-14-9832f32bc56b>:53: SettingWithCopyWarning: \n",
            "A value is trying to be set on a copy of a slice from a DataFrame.\n",
            "Try using .loc[row_indexer,col_indexer] = value instead\n",
            "\n",
            "See the caveats in the documentation: https://pandas.pydata.org/pandas-docs/stable/user_guide/indexing.html#returning-a-view-versus-a-copy\n",
            "  chunk['metadata'] = chunk[['os', 'normalized_osv', 'device_vendor', 'device_model', 'deviceType']].fillna('').astype(str).agg(' '.join, axis=1)\n"
          ]
        },
        {
          "name": "stdout",
          "output_type": "stream",
          "text": [
            " - Generating Metadata embeddings for 1000 rows...\n",
            "\n",
            "[DEBUG] After Processing Chunk 46\n",
            " - System RAM Usage: 29.7%\n",
            " - GPU Memory Allocated: 1325.73 MB\n",
            " - GPU Memory Cached: 1438.65 MB\n",
            "\n",
            "[DEBUG] Processing Chunk 47...\n",
            " - Generating UA embeddings for 1000 rows...\n"
          ]
        },
        {
          "name": "stderr",
          "output_type": "stream",
          "text": [
            "<ipython-input-14-9832f32bc56b>:53: SettingWithCopyWarning: \n",
            "A value is trying to be set on a copy of a slice from a DataFrame.\n",
            "Try using .loc[row_indexer,col_indexer] = value instead\n",
            "\n",
            "See the caveats in the documentation: https://pandas.pydata.org/pandas-docs/stable/user_guide/indexing.html#returning-a-view-versus-a-copy\n",
            "  chunk['metadata'] = chunk[['os', 'normalized_osv', 'device_vendor', 'device_model', 'deviceType']].fillna('').astype(str).agg(' '.join, axis=1)\n"
          ]
        },
        {
          "name": "stdout",
          "output_type": "stream",
          "text": [
            " - Generating Metadata embeddings for 1000 rows...\n",
            "\n",
            "[DEBUG] After Processing Chunk 47\n",
            " - System RAM Usage: 29.7%\n",
            " - GPU Memory Allocated: 1325.73 MB\n",
            " - GPU Memory Cached: 1438.65 MB\n",
            "\n",
            "[DEBUG] Processing Chunk 48...\n",
            " - Generating UA embeddings for 1000 rows...\n"
          ]
        },
        {
          "name": "stderr",
          "output_type": "stream",
          "text": [
            "<ipython-input-14-9832f32bc56b>:53: SettingWithCopyWarning: \n",
            "A value is trying to be set on a copy of a slice from a DataFrame.\n",
            "Try using .loc[row_indexer,col_indexer] = value instead\n",
            "\n",
            "See the caveats in the documentation: https://pandas.pydata.org/pandas-docs/stable/user_guide/indexing.html#returning-a-view-versus-a-copy\n",
            "  chunk['metadata'] = chunk[['os', 'normalized_osv', 'device_vendor', 'device_model', 'deviceType']].fillna('').astype(str).agg(' '.join, axis=1)\n"
          ]
        },
        {
          "name": "stdout",
          "output_type": "stream",
          "text": [
            " - Generating Metadata embeddings for 1000 rows...\n",
            "\n",
            "[DEBUG] After Processing Chunk 48\n",
            " - System RAM Usage: 29.8%\n",
            " - GPU Memory Allocated: 1325.73 MB\n",
            " - GPU Memory Cached: 1438.65 MB\n",
            "\n",
            "[DEBUG] Processing Chunk 49...\n",
            " - Generating UA embeddings for 1000 rows...\n"
          ]
        },
        {
          "name": "stderr",
          "output_type": "stream",
          "text": [
            "<ipython-input-14-9832f32bc56b>:53: SettingWithCopyWarning: \n",
            "A value is trying to be set on a copy of a slice from a DataFrame.\n",
            "Try using .loc[row_indexer,col_indexer] = value instead\n",
            "\n",
            "See the caveats in the documentation: https://pandas.pydata.org/pandas-docs/stable/user_guide/indexing.html#returning-a-view-versus-a-copy\n",
            "  chunk['metadata'] = chunk[['os', 'normalized_osv', 'device_vendor', 'device_model', 'deviceType']].fillna('').astype(str).agg(' '.join, axis=1)\n"
          ]
        },
        {
          "name": "stdout",
          "output_type": "stream",
          "text": [
            " - Generating Metadata embeddings for 1000 rows...\n",
            "\n",
            "[DEBUG] After Processing Chunk 49\n",
            " - System RAM Usage: 29.8%\n",
            " - GPU Memory Allocated: 1325.73 MB\n",
            " - GPU Memory Cached: 1438.65 MB\n",
            "\n",
            "[DEBUG] Processing Chunk 50...\n",
            " - Generating UA embeddings for 1000 rows...\n"
          ]
        },
        {
          "name": "stderr",
          "output_type": "stream",
          "text": [
            "<ipython-input-14-9832f32bc56b>:53: SettingWithCopyWarning: \n",
            "A value is trying to be set on a copy of a slice from a DataFrame.\n",
            "Try using .loc[row_indexer,col_indexer] = value instead\n",
            "\n",
            "See the caveats in the documentation: https://pandas.pydata.org/pandas-docs/stable/user_guide/indexing.html#returning-a-view-versus-a-copy\n",
            "  chunk['metadata'] = chunk[['os', 'normalized_osv', 'device_vendor', 'device_model', 'deviceType']].fillna('').astype(str).agg(' '.join, axis=1)\n"
          ]
        },
        {
          "name": "stdout",
          "output_type": "stream",
          "text": [
            " - Generating Metadata embeddings for 1000 rows...\n",
            "\n",
            "[DEBUG] After Processing Chunk 50\n",
            " - System RAM Usage: 29.8%\n",
            " - GPU Memory Allocated: 1325.73 MB\n",
            " - GPU Memory Cached: 1438.65 MB\n",
            "\n",
            "[DEBUG] Processing Chunk 51...\n",
            " - Generating UA embeddings for 1000 rows...\n"
          ]
        },
        {
          "name": "stderr",
          "output_type": "stream",
          "text": [
            "<ipython-input-14-9832f32bc56b>:53: SettingWithCopyWarning: \n",
            "A value is trying to be set on a copy of a slice from a DataFrame.\n",
            "Try using .loc[row_indexer,col_indexer] = value instead\n",
            "\n",
            "See the caveats in the documentation: https://pandas.pydata.org/pandas-docs/stable/user_guide/indexing.html#returning-a-view-versus-a-copy\n",
            "  chunk['metadata'] = chunk[['os', 'normalized_osv', 'device_vendor', 'device_model', 'deviceType']].fillna('').astype(str).agg(' '.join, axis=1)\n"
          ]
        },
        {
          "name": "stdout",
          "output_type": "stream",
          "text": [
            " - Generating Metadata embeddings for 1000 rows...\n",
            "\n",
            "[DEBUG] After Processing Chunk 51\n",
            " - System RAM Usage: 29.9%\n",
            " - GPU Memory Allocated: 1325.73 MB\n",
            " - GPU Memory Cached: 1438.65 MB\n",
            "\n",
            "[DEBUG] Processing Chunk 52...\n",
            " - Generating UA embeddings for 1000 rows...\n"
          ]
        },
        {
          "name": "stderr",
          "output_type": "stream",
          "text": [
            "<ipython-input-14-9832f32bc56b>:53: SettingWithCopyWarning: \n",
            "A value is trying to be set on a copy of a slice from a DataFrame.\n",
            "Try using .loc[row_indexer,col_indexer] = value instead\n",
            "\n",
            "See the caveats in the documentation: https://pandas.pydata.org/pandas-docs/stable/user_guide/indexing.html#returning-a-view-versus-a-copy\n",
            "  chunk['metadata'] = chunk[['os', 'normalized_osv', 'device_vendor', 'device_model', 'deviceType']].fillna('').astype(str).agg(' '.join, axis=1)\n"
          ]
        },
        {
          "name": "stdout",
          "output_type": "stream",
          "text": [
            " - Generating Metadata embeddings for 1000 rows...\n",
            "\n",
            "[DEBUG] After Processing Chunk 52\n",
            " - System RAM Usage: 30.0%\n",
            " - GPU Memory Allocated: 1325.73 MB\n",
            " - GPU Memory Cached: 1438.65 MB\n",
            "\n",
            "[DEBUG] Processing Chunk 53...\n",
            " - Generating UA embeddings for 1000 rows...\n"
          ]
        },
        {
          "name": "stderr",
          "output_type": "stream",
          "text": [
            "<ipython-input-14-9832f32bc56b>:53: SettingWithCopyWarning: \n",
            "A value is trying to be set on a copy of a slice from a DataFrame.\n",
            "Try using .loc[row_indexer,col_indexer] = value instead\n",
            "\n",
            "See the caveats in the documentation: https://pandas.pydata.org/pandas-docs/stable/user_guide/indexing.html#returning-a-view-versus-a-copy\n",
            "  chunk['metadata'] = chunk[['os', 'normalized_osv', 'device_vendor', 'device_model', 'deviceType']].fillna('').astype(str).agg(' '.join, axis=1)\n"
          ]
        },
        {
          "name": "stdout",
          "output_type": "stream",
          "text": [
            " - Generating Metadata embeddings for 1000 rows...\n",
            "\n",
            "[DEBUG] After Processing Chunk 53\n",
            " - System RAM Usage: 30.0%\n",
            " - GPU Memory Allocated: 1325.73 MB\n",
            " - GPU Memory Cached: 1438.65 MB\n",
            "\n",
            "[DEBUG] Processing Chunk 54...\n",
            " - Generating UA embeddings for 1000 rows...\n"
          ]
        },
        {
          "name": "stderr",
          "output_type": "stream",
          "text": [
            "<ipython-input-14-9832f32bc56b>:53: SettingWithCopyWarning: \n",
            "A value is trying to be set on a copy of a slice from a DataFrame.\n",
            "Try using .loc[row_indexer,col_indexer] = value instead\n",
            "\n",
            "See the caveats in the documentation: https://pandas.pydata.org/pandas-docs/stable/user_guide/indexing.html#returning-a-view-versus-a-copy\n",
            "  chunk['metadata'] = chunk[['os', 'normalized_osv', 'device_vendor', 'device_model', 'deviceType']].fillna('').astype(str).agg(' '.join, axis=1)\n"
          ]
        },
        {
          "name": "stdout",
          "output_type": "stream",
          "text": [
            " - Generating Metadata embeddings for 1000 rows...\n",
            "\n",
            "[DEBUG] After Processing Chunk 54\n",
            " - System RAM Usage: 30.0%\n",
            " - GPU Memory Allocated: 1325.73 MB\n",
            " - GPU Memory Cached: 1438.65 MB\n",
            "\n",
            "[DEBUG] Processing Chunk 55...\n",
            " - Generating UA embeddings for 1000 rows...\n"
          ]
        },
        {
          "name": "stderr",
          "output_type": "stream",
          "text": [
            "<ipython-input-14-9832f32bc56b>:53: SettingWithCopyWarning: \n",
            "A value is trying to be set on a copy of a slice from a DataFrame.\n",
            "Try using .loc[row_indexer,col_indexer] = value instead\n",
            "\n",
            "See the caveats in the documentation: https://pandas.pydata.org/pandas-docs/stable/user_guide/indexing.html#returning-a-view-versus-a-copy\n",
            "  chunk['metadata'] = chunk[['os', 'normalized_osv', 'device_vendor', 'device_model', 'deviceType']].fillna('').astype(str).agg(' '.join, axis=1)\n"
          ]
        },
        {
          "name": "stdout",
          "output_type": "stream",
          "text": [
            " - Generating Metadata embeddings for 1000 rows...\n",
            "\n",
            "[DEBUG] After Processing Chunk 55\n",
            " - System RAM Usage: 30.1%\n",
            " - GPU Memory Allocated: 1325.73 MB\n",
            " - GPU Memory Cached: 1438.65 MB\n",
            "\n",
            "[DEBUG] Processing Chunk 56...\n",
            " - Generating UA embeddings for 1000 rows...\n"
          ]
        },
        {
          "name": "stderr",
          "output_type": "stream",
          "text": [
            "<ipython-input-14-9832f32bc56b>:53: SettingWithCopyWarning: \n",
            "A value is trying to be set on a copy of a slice from a DataFrame.\n",
            "Try using .loc[row_indexer,col_indexer] = value instead\n",
            "\n",
            "See the caveats in the documentation: https://pandas.pydata.org/pandas-docs/stable/user_guide/indexing.html#returning-a-view-versus-a-copy\n",
            "  chunk['metadata'] = chunk[['os', 'normalized_osv', 'device_vendor', 'device_model', 'deviceType']].fillna('').astype(str).agg(' '.join, axis=1)\n"
          ]
        },
        {
          "name": "stdout",
          "output_type": "stream",
          "text": [
            " - Generating Metadata embeddings for 1000 rows...\n",
            "\n",
            "[DEBUG] After Processing Chunk 56\n",
            " - System RAM Usage: 30.1%\n",
            " - GPU Memory Allocated: 1325.73 MB\n",
            " - GPU Memory Cached: 1438.65 MB\n",
            "\n",
            "[DEBUG] Processing Chunk 57...\n",
            " - Generating UA embeddings for 1000 rows...\n"
          ]
        },
        {
          "name": "stderr",
          "output_type": "stream",
          "text": [
            "<ipython-input-14-9832f32bc56b>:53: SettingWithCopyWarning: \n",
            "A value is trying to be set on a copy of a slice from a DataFrame.\n",
            "Try using .loc[row_indexer,col_indexer] = value instead\n",
            "\n",
            "See the caveats in the documentation: https://pandas.pydata.org/pandas-docs/stable/user_guide/indexing.html#returning-a-view-versus-a-copy\n",
            "  chunk['metadata'] = chunk[['os', 'normalized_osv', 'device_vendor', 'device_model', 'deviceType']].fillna('').astype(str).agg(' '.join, axis=1)\n"
          ]
        },
        {
          "name": "stdout",
          "output_type": "stream",
          "text": [
            " - Generating Metadata embeddings for 1000 rows...\n",
            "\n",
            "[DEBUG] After Processing Chunk 57\n",
            " - System RAM Usage: 30.2%\n",
            " - GPU Memory Allocated: 1325.73 MB\n",
            " - GPU Memory Cached: 1438.65 MB\n",
            "\n",
            "[DEBUG] Processing Chunk 58...\n",
            " - Generating UA embeddings for 1000 rows...\n"
          ]
        },
        {
          "name": "stderr",
          "output_type": "stream",
          "text": [
            "<ipython-input-14-9832f32bc56b>:53: SettingWithCopyWarning: \n",
            "A value is trying to be set on a copy of a slice from a DataFrame.\n",
            "Try using .loc[row_indexer,col_indexer] = value instead\n",
            "\n",
            "See the caveats in the documentation: https://pandas.pydata.org/pandas-docs/stable/user_guide/indexing.html#returning-a-view-versus-a-copy\n",
            "  chunk['metadata'] = chunk[['os', 'normalized_osv', 'device_vendor', 'device_model', 'deviceType']].fillna('').astype(str).agg(' '.join, axis=1)\n"
          ]
        },
        {
          "name": "stdout",
          "output_type": "stream",
          "text": [
            " - Generating Metadata embeddings for 1000 rows...\n",
            "\n",
            "[DEBUG] After Processing Chunk 58\n",
            " - System RAM Usage: 30.3%\n",
            " - GPU Memory Allocated: 1325.73 MB\n",
            " - GPU Memory Cached: 1438.65 MB\n",
            "\n",
            "[DEBUG] Processing Chunk 59...\n",
            " - Generating UA embeddings for 1000 rows...\n"
          ]
        },
        {
          "name": "stderr",
          "output_type": "stream",
          "text": [
            "<ipython-input-14-9832f32bc56b>:53: SettingWithCopyWarning: \n",
            "A value is trying to be set on a copy of a slice from a DataFrame.\n",
            "Try using .loc[row_indexer,col_indexer] = value instead\n",
            "\n",
            "See the caveats in the documentation: https://pandas.pydata.org/pandas-docs/stable/user_guide/indexing.html#returning-a-view-versus-a-copy\n",
            "  chunk['metadata'] = chunk[['os', 'normalized_osv', 'device_vendor', 'device_model', 'deviceType']].fillna('').astype(str).agg(' '.join, axis=1)\n"
          ]
        },
        {
          "name": "stdout",
          "output_type": "stream",
          "text": [
            " - Generating Metadata embeddings for 1000 rows...\n",
            "\n",
            "[DEBUG] After Processing Chunk 59\n",
            " - System RAM Usage: 30.3%\n",
            " - GPU Memory Allocated: 1325.73 MB\n",
            " - GPU Memory Cached: 1438.65 MB\n",
            "\n",
            "[DEBUG] Processing Chunk 60...\n",
            " - Generating UA embeddings for 1000 rows...\n"
          ]
        },
        {
          "name": "stderr",
          "output_type": "stream",
          "text": [
            "<ipython-input-14-9832f32bc56b>:53: SettingWithCopyWarning: \n",
            "A value is trying to be set on a copy of a slice from a DataFrame.\n",
            "Try using .loc[row_indexer,col_indexer] = value instead\n",
            "\n",
            "See the caveats in the documentation: https://pandas.pydata.org/pandas-docs/stable/user_guide/indexing.html#returning-a-view-versus-a-copy\n",
            "  chunk['metadata'] = chunk[['os', 'normalized_osv', 'device_vendor', 'device_model', 'deviceType']].fillna('').astype(str).agg(' '.join, axis=1)\n"
          ]
        },
        {
          "name": "stdout",
          "output_type": "stream",
          "text": [
            " - Generating Metadata embeddings for 1000 rows...\n",
            "\n",
            "[DEBUG] After Processing Chunk 60\n",
            " - System RAM Usage: 30.3%\n",
            " - GPU Memory Allocated: 1325.73 MB\n",
            " - GPU Memory Cached: 1438.65 MB\n",
            "\n",
            "[DEBUG] Processing Chunk 61...\n",
            " - Generating UA embeddings for 1000 rows...\n"
          ]
        },
        {
          "name": "stderr",
          "output_type": "stream",
          "text": [
            "<ipython-input-14-9832f32bc56b>:53: SettingWithCopyWarning: \n",
            "A value is trying to be set on a copy of a slice from a DataFrame.\n",
            "Try using .loc[row_indexer,col_indexer] = value instead\n",
            "\n",
            "See the caveats in the documentation: https://pandas.pydata.org/pandas-docs/stable/user_guide/indexing.html#returning-a-view-versus-a-copy\n",
            "  chunk['metadata'] = chunk[['os', 'normalized_osv', 'device_vendor', 'device_model', 'deviceType']].fillna('').astype(str).agg(' '.join, axis=1)\n"
          ]
        },
        {
          "name": "stdout",
          "output_type": "stream",
          "text": [
            " - Generating Metadata embeddings for 1000 rows...\n",
            "\n",
            "[DEBUG] After Processing Chunk 61\n",
            " - System RAM Usage: 30.5%\n",
            " - GPU Memory Allocated: 1325.73 MB\n",
            " - GPU Memory Cached: 1438.65 MB\n",
            "\n",
            "[DEBUG] Processing Chunk 62...\n",
            " - Generating UA embeddings for 1000 rows...\n"
          ]
        },
        {
          "name": "stderr",
          "output_type": "stream",
          "text": [
            "<ipython-input-14-9832f32bc56b>:53: SettingWithCopyWarning: \n",
            "A value is trying to be set on a copy of a slice from a DataFrame.\n",
            "Try using .loc[row_indexer,col_indexer] = value instead\n",
            "\n",
            "See the caveats in the documentation: https://pandas.pydata.org/pandas-docs/stable/user_guide/indexing.html#returning-a-view-versus-a-copy\n",
            "  chunk['metadata'] = chunk[['os', 'normalized_osv', 'device_vendor', 'device_model', 'deviceType']].fillna('').astype(str).agg(' '.join, axis=1)\n"
          ]
        },
        {
          "name": "stdout",
          "output_type": "stream",
          "text": [
            " - Generating Metadata embeddings for 1000 rows...\n",
            "\n",
            "[DEBUG] After Processing Chunk 62\n",
            " - System RAM Usage: 30.4%\n",
            " - GPU Memory Allocated: 1325.73 MB\n",
            " - GPU Memory Cached: 1438.65 MB\n",
            "\n",
            "[DEBUG] Processing Chunk 63...\n",
            " - Generating UA embeddings for 1000 rows...\n"
          ]
        },
        {
          "name": "stderr",
          "output_type": "stream",
          "text": [
            "<ipython-input-14-9832f32bc56b>:53: SettingWithCopyWarning: \n",
            "A value is trying to be set on a copy of a slice from a DataFrame.\n",
            "Try using .loc[row_indexer,col_indexer] = value instead\n",
            "\n",
            "See the caveats in the documentation: https://pandas.pydata.org/pandas-docs/stable/user_guide/indexing.html#returning-a-view-versus-a-copy\n",
            "  chunk['metadata'] = chunk[['os', 'normalized_osv', 'device_vendor', 'device_model', 'deviceType']].fillna('').astype(str).agg(' '.join, axis=1)\n"
          ]
        },
        {
          "name": "stdout",
          "output_type": "stream",
          "text": [
            " - Generating Metadata embeddings for 1000 rows...\n",
            "\n",
            "[DEBUG] After Processing Chunk 63\n",
            " - System RAM Usage: 30.5%\n",
            " - GPU Memory Allocated: 1325.73 MB\n",
            " - GPU Memory Cached: 1438.65 MB\n",
            "\n",
            "[DEBUG] Processing Chunk 64...\n",
            " - Generating UA embeddings for 1000 rows...\n"
          ]
        },
        {
          "name": "stderr",
          "output_type": "stream",
          "text": [
            "<ipython-input-14-9832f32bc56b>:53: SettingWithCopyWarning: \n",
            "A value is trying to be set on a copy of a slice from a DataFrame.\n",
            "Try using .loc[row_indexer,col_indexer] = value instead\n",
            "\n",
            "See the caveats in the documentation: https://pandas.pydata.org/pandas-docs/stable/user_guide/indexing.html#returning-a-view-versus-a-copy\n",
            "  chunk['metadata'] = chunk[['os', 'normalized_osv', 'device_vendor', 'device_model', 'deviceType']].fillna('').astype(str).agg(' '.join, axis=1)\n"
          ]
        },
        {
          "name": "stdout",
          "output_type": "stream",
          "text": [
            " - Generating Metadata embeddings for 1000 rows...\n",
            "\n",
            "[DEBUG] After Processing Chunk 64\n",
            " - System RAM Usage: 30.6%\n",
            " - GPU Memory Allocated: 1325.73 MB\n",
            " - GPU Memory Cached: 1438.65 MB\n",
            "\n",
            "[DEBUG] Processing Chunk 65...\n",
            " - Generating UA embeddings for 1000 rows...\n"
          ]
        },
        {
          "name": "stderr",
          "output_type": "stream",
          "text": [
            "<ipython-input-14-9832f32bc56b>:53: SettingWithCopyWarning: \n",
            "A value is trying to be set on a copy of a slice from a DataFrame.\n",
            "Try using .loc[row_indexer,col_indexer] = value instead\n",
            "\n",
            "See the caveats in the documentation: https://pandas.pydata.org/pandas-docs/stable/user_guide/indexing.html#returning-a-view-versus-a-copy\n",
            "  chunk['metadata'] = chunk[['os', 'normalized_osv', 'device_vendor', 'device_model', 'deviceType']].fillna('').astype(str).agg(' '.join, axis=1)\n"
          ]
        },
        {
          "name": "stdout",
          "output_type": "stream",
          "text": [
            " - Generating Metadata embeddings for 1000 rows...\n",
            "\n",
            "[DEBUG] After Processing Chunk 65\n",
            " - System RAM Usage: 30.5%\n",
            " - GPU Memory Allocated: 1325.73 MB\n",
            " - GPU Memory Cached: 1438.65 MB\n",
            "\n",
            "[DEBUG] Processing Chunk 66...\n",
            " - Generating UA embeddings for 1000 rows...\n"
          ]
        },
        {
          "name": "stderr",
          "output_type": "stream",
          "text": [
            "<ipython-input-14-9832f32bc56b>:53: SettingWithCopyWarning: \n",
            "A value is trying to be set on a copy of a slice from a DataFrame.\n",
            "Try using .loc[row_indexer,col_indexer] = value instead\n",
            "\n",
            "See the caveats in the documentation: https://pandas.pydata.org/pandas-docs/stable/user_guide/indexing.html#returning-a-view-versus-a-copy\n",
            "  chunk['metadata'] = chunk[['os', 'normalized_osv', 'device_vendor', 'device_model', 'deviceType']].fillna('').astype(str).agg(' '.join, axis=1)\n"
          ]
        },
        {
          "name": "stdout",
          "output_type": "stream",
          "text": [
            " - Generating Metadata embeddings for 1000 rows...\n",
            "\n",
            "[DEBUG] After Processing Chunk 66\n",
            " - System RAM Usage: 30.6%\n",
            " - GPU Memory Allocated: 1325.73 MB\n",
            " - GPU Memory Cached: 1438.65 MB\n",
            "\n",
            "[DEBUG] Processing Chunk 67...\n",
            " - Generating UA embeddings for 1000 rows...\n"
          ]
        },
        {
          "name": "stderr",
          "output_type": "stream",
          "text": [
            "<ipython-input-14-9832f32bc56b>:53: SettingWithCopyWarning: \n",
            "A value is trying to be set on a copy of a slice from a DataFrame.\n",
            "Try using .loc[row_indexer,col_indexer] = value instead\n",
            "\n",
            "See the caveats in the documentation: https://pandas.pydata.org/pandas-docs/stable/user_guide/indexing.html#returning-a-view-versus-a-copy\n",
            "  chunk['metadata'] = chunk[['os', 'normalized_osv', 'device_vendor', 'device_model', 'deviceType']].fillna('').astype(str).agg(' '.join, axis=1)\n"
          ]
        },
        {
          "name": "stdout",
          "output_type": "stream",
          "text": [
            " - Generating Metadata embeddings for 1000 rows...\n",
            "\n",
            "[DEBUG] After Processing Chunk 67\n",
            " - System RAM Usage: 30.6%\n",
            " - GPU Memory Allocated: 1325.73 MB\n",
            " - GPU Memory Cached: 1438.65 MB\n",
            "\n",
            "[DEBUG] Processing Chunk 68...\n",
            " - Generating UA embeddings for 1000 rows...\n"
          ]
        },
        {
          "name": "stderr",
          "output_type": "stream",
          "text": [
            "<ipython-input-14-9832f32bc56b>:53: SettingWithCopyWarning: \n",
            "A value is trying to be set on a copy of a slice from a DataFrame.\n",
            "Try using .loc[row_indexer,col_indexer] = value instead\n",
            "\n",
            "See the caveats in the documentation: https://pandas.pydata.org/pandas-docs/stable/user_guide/indexing.html#returning-a-view-versus-a-copy\n",
            "  chunk['metadata'] = chunk[['os', 'normalized_osv', 'device_vendor', 'device_model', 'deviceType']].fillna('').astype(str).agg(' '.join, axis=1)\n"
          ]
        },
        {
          "name": "stdout",
          "output_type": "stream",
          "text": [
            " - Generating Metadata embeddings for 1000 rows...\n",
            "\n",
            "[DEBUG] After Processing Chunk 68\n",
            " - System RAM Usage: 30.7%\n",
            " - GPU Memory Allocated: 1325.73 MB\n",
            " - GPU Memory Cached: 1438.65 MB\n",
            "\n",
            "[DEBUG] Processing Chunk 69...\n",
            " - Generating UA embeddings for 1000 rows...\n"
          ]
        },
        {
          "name": "stderr",
          "output_type": "stream",
          "text": [
            "<ipython-input-14-9832f32bc56b>:53: SettingWithCopyWarning: \n",
            "A value is trying to be set on a copy of a slice from a DataFrame.\n",
            "Try using .loc[row_indexer,col_indexer] = value instead\n",
            "\n",
            "See the caveats in the documentation: https://pandas.pydata.org/pandas-docs/stable/user_guide/indexing.html#returning-a-view-versus-a-copy\n",
            "  chunk['metadata'] = chunk[['os', 'normalized_osv', 'device_vendor', 'device_model', 'deviceType']].fillna('').astype(str).agg(' '.join, axis=1)\n"
          ]
        },
        {
          "name": "stdout",
          "output_type": "stream",
          "text": [
            " - Generating Metadata embeddings for 1000 rows...\n",
            "\n",
            "[DEBUG] After Processing Chunk 69\n",
            " - System RAM Usage: 30.8%\n",
            " - GPU Memory Allocated: 1325.73 MB\n",
            " - GPU Memory Cached: 1438.65 MB\n",
            "\n",
            "[DEBUG] Processing Chunk 70...\n",
            " - Generating UA embeddings for 1000 rows...\n"
          ]
        },
        {
          "name": "stderr",
          "output_type": "stream",
          "text": [
            "<ipython-input-14-9832f32bc56b>:53: SettingWithCopyWarning: \n",
            "A value is trying to be set on a copy of a slice from a DataFrame.\n",
            "Try using .loc[row_indexer,col_indexer] = value instead\n",
            "\n",
            "See the caveats in the documentation: https://pandas.pydata.org/pandas-docs/stable/user_guide/indexing.html#returning-a-view-versus-a-copy\n",
            "  chunk['metadata'] = chunk[['os', 'normalized_osv', 'device_vendor', 'device_model', 'deviceType']].fillna('').astype(str).agg(' '.join, axis=1)\n"
          ]
        },
        {
          "name": "stdout",
          "output_type": "stream",
          "text": [
            " - Generating Metadata embeddings for 1000 rows...\n",
            "\n",
            "[DEBUG] After Processing Chunk 70\n",
            " - System RAM Usage: 30.8%\n",
            " - GPU Memory Allocated: 1325.73 MB\n",
            " - GPU Memory Cached: 1438.65 MB\n",
            "\n",
            "[DEBUG] Processing Chunk 71...\n",
            " - Generating UA embeddings for 1000 rows...\n"
          ]
        },
        {
          "name": "stderr",
          "output_type": "stream",
          "text": [
            "<ipython-input-14-9832f32bc56b>:53: SettingWithCopyWarning: \n",
            "A value is trying to be set on a copy of a slice from a DataFrame.\n",
            "Try using .loc[row_indexer,col_indexer] = value instead\n",
            "\n",
            "See the caveats in the documentation: https://pandas.pydata.org/pandas-docs/stable/user_guide/indexing.html#returning-a-view-versus-a-copy\n",
            "  chunk['metadata'] = chunk[['os', 'normalized_osv', 'device_vendor', 'device_model', 'deviceType']].fillna('').astype(str).agg(' '.join, axis=1)\n"
          ]
        },
        {
          "name": "stdout",
          "output_type": "stream",
          "text": [
            " - Generating Metadata embeddings for 1000 rows...\n",
            "\n",
            "[DEBUG] After Processing Chunk 71\n",
            " - System RAM Usage: 30.8%\n",
            " - GPU Memory Allocated: 1325.73 MB\n",
            " - GPU Memory Cached: 1438.65 MB\n",
            "\n",
            "[DEBUG] Processing Chunk 72...\n",
            " - Generating UA embeddings for 1000 rows...\n"
          ]
        },
        {
          "name": "stderr",
          "output_type": "stream",
          "text": [
            "<ipython-input-14-9832f32bc56b>:53: SettingWithCopyWarning: \n",
            "A value is trying to be set on a copy of a slice from a DataFrame.\n",
            "Try using .loc[row_indexer,col_indexer] = value instead\n",
            "\n",
            "See the caveats in the documentation: https://pandas.pydata.org/pandas-docs/stable/user_guide/indexing.html#returning-a-view-versus-a-copy\n",
            "  chunk['metadata'] = chunk[['os', 'normalized_osv', 'device_vendor', 'device_model', 'deviceType']].fillna('').astype(str).agg(' '.join, axis=1)\n"
          ]
        },
        {
          "name": "stdout",
          "output_type": "stream",
          "text": [
            " - Generating Metadata embeddings for 1000 rows...\n",
            "\n",
            "[DEBUG] After Processing Chunk 72\n",
            " - System RAM Usage: 30.9%\n",
            " - GPU Memory Allocated: 1325.73 MB\n",
            " - GPU Memory Cached: 1438.65 MB\n",
            "\n",
            "[DEBUG] Processing Chunk 73...\n",
            " - Generating UA embeddings for 1000 rows...\n"
          ]
        },
        {
          "name": "stderr",
          "output_type": "stream",
          "text": [
            "<ipython-input-14-9832f32bc56b>:53: SettingWithCopyWarning: \n",
            "A value is trying to be set on a copy of a slice from a DataFrame.\n",
            "Try using .loc[row_indexer,col_indexer] = value instead\n",
            "\n",
            "See the caveats in the documentation: https://pandas.pydata.org/pandas-docs/stable/user_guide/indexing.html#returning-a-view-versus-a-copy\n",
            "  chunk['metadata'] = chunk[['os', 'normalized_osv', 'device_vendor', 'device_model', 'deviceType']].fillna('').astype(str).agg(' '.join, axis=1)\n"
          ]
        },
        {
          "name": "stdout",
          "output_type": "stream",
          "text": [
            " - Generating Metadata embeddings for 1000 rows...\n",
            "\n",
            "[DEBUG] After Processing Chunk 73\n",
            " - System RAM Usage: 30.9%\n",
            " - GPU Memory Allocated: 1325.73 MB\n",
            " - GPU Memory Cached: 1438.65 MB\n",
            "\n",
            "[DEBUG] Processing Chunk 74...\n",
            " - Generating UA embeddings for 1000 rows...\n"
          ]
        },
        {
          "name": "stderr",
          "output_type": "stream",
          "text": [
            "<ipython-input-14-9832f32bc56b>:53: SettingWithCopyWarning: \n",
            "A value is trying to be set on a copy of a slice from a DataFrame.\n",
            "Try using .loc[row_indexer,col_indexer] = value instead\n",
            "\n",
            "See the caveats in the documentation: https://pandas.pydata.org/pandas-docs/stable/user_guide/indexing.html#returning-a-view-versus-a-copy\n",
            "  chunk['metadata'] = chunk[['os', 'normalized_osv', 'device_vendor', 'device_model', 'deviceType']].fillna('').astype(str).agg(' '.join, axis=1)\n"
          ]
        },
        {
          "name": "stdout",
          "output_type": "stream",
          "text": [
            " - Generating Metadata embeddings for 1000 rows...\n",
            "\n",
            "[DEBUG] After Processing Chunk 74\n",
            " - System RAM Usage: 31.1%\n",
            " - GPU Memory Allocated: 1325.73 MB\n",
            " - GPU Memory Cached: 1438.65 MB\n",
            "\n",
            "[DEBUG] Processing Chunk 75...\n",
            " - Generating UA embeddings for 1000 rows...\n"
          ]
        },
        {
          "name": "stderr",
          "output_type": "stream",
          "text": [
            "<ipython-input-14-9832f32bc56b>:53: SettingWithCopyWarning: \n",
            "A value is trying to be set on a copy of a slice from a DataFrame.\n",
            "Try using .loc[row_indexer,col_indexer] = value instead\n",
            "\n",
            "See the caveats in the documentation: https://pandas.pydata.org/pandas-docs/stable/user_guide/indexing.html#returning-a-view-versus-a-copy\n",
            "  chunk['metadata'] = chunk[['os', 'normalized_osv', 'device_vendor', 'device_model', 'deviceType']].fillna('').astype(str).agg(' '.join, axis=1)\n"
          ]
        },
        {
          "name": "stdout",
          "output_type": "stream",
          "text": [
            " - Generating Metadata embeddings for 1000 rows...\n",
            "\n",
            "[DEBUG] After Processing Chunk 75\n",
            " - System RAM Usage: 31.0%\n",
            " - GPU Memory Allocated: 1325.73 MB\n",
            " - GPU Memory Cached: 1438.65 MB\n",
            "\n",
            "[DEBUG] Processing Chunk 76...\n",
            " - Generating UA embeddings for 1000 rows...\n"
          ]
        },
        {
          "name": "stderr",
          "output_type": "stream",
          "text": [
            "<ipython-input-14-9832f32bc56b>:53: SettingWithCopyWarning: \n",
            "A value is trying to be set on a copy of a slice from a DataFrame.\n",
            "Try using .loc[row_indexer,col_indexer] = value instead\n",
            "\n",
            "See the caveats in the documentation: https://pandas.pydata.org/pandas-docs/stable/user_guide/indexing.html#returning-a-view-versus-a-copy\n",
            "  chunk['metadata'] = chunk[['os', 'normalized_osv', 'device_vendor', 'device_model', 'deviceType']].fillna('').astype(str).agg(' '.join, axis=1)\n"
          ]
        },
        {
          "name": "stdout",
          "output_type": "stream",
          "text": [
            " - Generating Metadata embeddings for 1000 rows...\n",
            "\n",
            "[DEBUG] After Processing Chunk 76\n",
            " - System RAM Usage: 31.1%\n",
            " - GPU Memory Allocated: 1325.73 MB\n",
            " - GPU Memory Cached: 1438.65 MB\n",
            "\n",
            "[DEBUG] Processing Chunk 77...\n",
            " - Generating UA embeddings for 1000 rows...\n"
          ]
        },
        {
          "name": "stderr",
          "output_type": "stream",
          "text": [
            "<ipython-input-14-9832f32bc56b>:53: SettingWithCopyWarning: \n",
            "A value is trying to be set on a copy of a slice from a DataFrame.\n",
            "Try using .loc[row_indexer,col_indexer] = value instead\n",
            "\n",
            "See the caveats in the documentation: https://pandas.pydata.org/pandas-docs/stable/user_guide/indexing.html#returning-a-view-versus-a-copy\n",
            "  chunk['metadata'] = chunk[['os', 'normalized_osv', 'device_vendor', 'device_model', 'deviceType']].fillna('').astype(str).agg(' '.join, axis=1)\n"
          ]
        },
        {
          "name": "stdout",
          "output_type": "stream",
          "text": [
            " - Generating Metadata embeddings for 1000 rows...\n",
            "\n",
            "[DEBUG] After Processing Chunk 77\n",
            " - System RAM Usage: 31.1%\n",
            " - GPU Memory Allocated: 1325.73 MB\n",
            " - GPU Memory Cached: 1438.65 MB\n",
            "\n",
            "[DEBUG] Processing Chunk 78...\n",
            " - Generating UA embeddings for 1000 rows...\n"
          ]
        },
        {
          "name": "stderr",
          "output_type": "stream",
          "text": [
            "<ipython-input-14-9832f32bc56b>:53: SettingWithCopyWarning: \n",
            "A value is trying to be set on a copy of a slice from a DataFrame.\n",
            "Try using .loc[row_indexer,col_indexer] = value instead\n",
            "\n",
            "See the caveats in the documentation: https://pandas.pydata.org/pandas-docs/stable/user_guide/indexing.html#returning-a-view-versus-a-copy\n",
            "  chunk['metadata'] = chunk[['os', 'normalized_osv', 'device_vendor', 'device_model', 'deviceType']].fillna('').astype(str).agg(' '.join, axis=1)\n"
          ]
        },
        {
          "name": "stdout",
          "output_type": "stream",
          "text": [
            " - Generating Metadata embeddings for 1000 rows...\n",
            "\n",
            "[DEBUG] After Processing Chunk 78\n",
            " - System RAM Usage: 31.2%\n",
            " - GPU Memory Allocated: 1325.73 MB\n",
            " - GPU Memory Cached: 1438.65 MB\n",
            "\n",
            "[DEBUG] Processing Chunk 79...\n",
            " - Generating UA embeddings for 1000 rows...\n"
          ]
        },
        {
          "name": "stderr",
          "output_type": "stream",
          "text": [
            "<ipython-input-14-9832f32bc56b>:53: SettingWithCopyWarning: \n",
            "A value is trying to be set on a copy of a slice from a DataFrame.\n",
            "Try using .loc[row_indexer,col_indexer] = value instead\n",
            "\n",
            "See the caveats in the documentation: https://pandas.pydata.org/pandas-docs/stable/user_guide/indexing.html#returning-a-view-versus-a-copy\n",
            "  chunk['metadata'] = chunk[['os', 'normalized_osv', 'device_vendor', 'device_model', 'deviceType']].fillna('').astype(str).agg(' '.join, axis=1)\n"
          ]
        },
        {
          "name": "stdout",
          "output_type": "stream",
          "text": [
            " - Generating Metadata embeddings for 1000 rows...\n",
            "\n",
            "[DEBUG] After Processing Chunk 79\n",
            " - System RAM Usage: 31.3%\n",
            " - GPU Memory Allocated: 1325.73 MB\n",
            " - GPU Memory Cached: 1438.65 MB\n",
            "\n",
            "[DEBUG] Processing Chunk 80...\n",
            " - Generating UA embeddings for 1000 rows...\n"
          ]
        },
        {
          "name": "stderr",
          "output_type": "stream",
          "text": [
            "<ipython-input-14-9832f32bc56b>:53: SettingWithCopyWarning: \n",
            "A value is trying to be set on a copy of a slice from a DataFrame.\n",
            "Try using .loc[row_indexer,col_indexer] = value instead\n",
            "\n",
            "See the caveats in the documentation: https://pandas.pydata.org/pandas-docs/stable/user_guide/indexing.html#returning-a-view-versus-a-copy\n",
            "  chunk['metadata'] = chunk[['os', 'normalized_osv', 'device_vendor', 'device_model', 'deviceType']].fillna('').astype(str).agg(' '.join, axis=1)\n"
          ]
        },
        {
          "name": "stdout",
          "output_type": "stream",
          "text": [
            " - Generating Metadata embeddings for 1000 rows...\n",
            "\n",
            "[DEBUG] After Processing Chunk 80\n",
            " - System RAM Usage: 31.3%\n",
            " - GPU Memory Allocated: 1325.73 MB\n",
            " - GPU Memory Cached: 1438.65 MB\n",
            "\n",
            "[DEBUG] Processing Chunk 81...\n",
            " - Generating UA embeddings for 1000 rows...\n"
          ]
        },
        {
          "name": "stderr",
          "output_type": "stream",
          "text": [
            "<ipython-input-14-9832f32bc56b>:53: SettingWithCopyWarning: \n",
            "A value is trying to be set on a copy of a slice from a DataFrame.\n",
            "Try using .loc[row_indexer,col_indexer] = value instead\n",
            "\n",
            "See the caveats in the documentation: https://pandas.pydata.org/pandas-docs/stable/user_guide/indexing.html#returning-a-view-versus-a-copy\n",
            "  chunk['metadata'] = chunk[['os', 'normalized_osv', 'device_vendor', 'device_model', 'deviceType']].fillna('').astype(str).agg(' '.join, axis=1)\n"
          ]
        },
        {
          "name": "stdout",
          "output_type": "stream",
          "text": [
            " - Generating Metadata embeddings for 1000 rows...\n",
            "\n",
            "[DEBUG] After Processing Chunk 81\n",
            " - System RAM Usage: 31.3%\n",
            " - GPU Memory Allocated: 1325.73 MB\n",
            " - GPU Memory Cached: 1438.65 MB\n",
            "\n",
            "[DEBUG] Processing Chunk 82...\n",
            " - Generating UA embeddings for 1000 rows...\n"
          ]
        },
        {
          "name": "stderr",
          "output_type": "stream",
          "text": [
            "<ipython-input-14-9832f32bc56b>:53: SettingWithCopyWarning: \n",
            "A value is trying to be set on a copy of a slice from a DataFrame.\n",
            "Try using .loc[row_indexer,col_indexer] = value instead\n",
            "\n",
            "See the caveats in the documentation: https://pandas.pydata.org/pandas-docs/stable/user_guide/indexing.html#returning-a-view-versus-a-copy\n",
            "  chunk['metadata'] = chunk[['os', 'normalized_osv', 'device_vendor', 'device_model', 'deviceType']].fillna('').astype(str).agg(' '.join, axis=1)\n"
          ]
        },
        {
          "name": "stdout",
          "output_type": "stream",
          "text": [
            " - Generating Metadata embeddings for 1000 rows...\n",
            "\n",
            "[DEBUG] After Processing Chunk 82\n",
            " - System RAM Usage: 31.3%\n",
            " - GPU Memory Allocated: 1325.73 MB\n",
            " - GPU Memory Cached: 1438.65 MB\n",
            "\n",
            "[DEBUG] Processing Chunk 83...\n",
            " - Generating UA embeddings for 1000 rows...\n"
          ]
        },
        {
          "name": "stderr",
          "output_type": "stream",
          "text": [
            "<ipython-input-14-9832f32bc56b>:53: SettingWithCopyWarning: \n",
            "A value is trying to be set on a copy of a slice from a DataFrame.\n",
            "Try using .loc[row_indexer,col_indexer] = value instead\n",
            "\n",
            "See the caveats in the documentation: https://pandas.pydata.org/pandas-docs/stable/user_guide/indexing.html#returning-a-view-versus-a-copy\n",
            "  chunk['metadata'] = chunk[['os', 'normalized_osv', 'device_vendor', 'device_model', 'deviceType']].fillna('').astype(str).agg(' '.join, axis=1)\n"
          ]
        },
        {
          "name": "stdout",
          "output_type": "stream",
          "text": [
            " - Generating Metadata embeddings for 1000 rows...\n",
            "\n",
            "[DEBUG] After Processing Chunk 83\n",
            " - System RAM Usage: 31.4%\n",
            " - GPU Memory Allocated: 1325.73 MB\n",
            " - GPU Memory Cached: 1438.65 MB\n",
            "\n",
            "[DEBUG] Processing Chunk 84...\n",
            " - Generating UA embeddings for 1000 rows...\n"
          ]
        },
        {
          "name": "stderr",
          "output_type": "stream",
          "text": [
            "<ipython-input-14-9832f32bc56b>:53: SettingWithCopyWarning: \n",
            "A value is trying to be set on a copy of a slice from a DataFrame.\n",
            "Try using .loc[row_indexer,col_indexer] = value instead\n",
            "\n",
            "See the caveats in the documentation: https://pandas.pydata.org/pandas-docs/stable/user_guide/indexing.html#returning-a-view-versus-a-copy\n",
            "  chunk['metadata'] = chunk[['os', 'normalized_osv', 'device_vendor', 'device_model', 'deviceType']].fillna('').astype(str).agg(' '.join, axis=1)\n"
          ]
        },
        {
          "name": "stdout",
          "output_type": "stream",
          "text": [
            " - Generating Metadata embeddings for 1000 rows...\n",
            "\n",
            "[DEBUG] After Processing Chunk 84\n",
            " - System RAM Usage: 31.4%\n",
            " - GPU Memory Allocated: 1325.73 MB\n",
            " - GPU Memory Cached: 1438.65 MB\n",
            "\n",
            "[DEBUG] Processing Chunk 85...\n",
            " - Generating UA embeddings for 1000 rows...\n"
          ]
        },
        {
          "name": "stderr",
          "output_type": "stream",
          "text": [
            "<ipython-input-14-9832f32bc56b>:53: SettingWithCopyWarning: \n",
            "A value is trying to be set on a copy of a slice from a DataFrame.\n",
            "Try using .loc[row_indexer,col_indexer] = value instead\n",
            "\n",
            "See the caveats in the documentation: https://pandas.pydata.org/pandas-docs/stable/user_guide/indexing.html#returning-a-view-versus-a-copy\n",
            "  chunk['metadata'] = chunk[['os', 'normalized_osv', 'device_vendor', 'device_model', 'deviceType']].fillna('').astype(str).agg(' '.join, axis=1)\n"
          ]
        },
        {
          "name": "stdout",
          "output_type": "stream",
          "text": [
            " - Generating Metadata embeddings for 1000 rows...\n",
            "\n",
            "[DEBUG] After Processing Chunk 85\n",
            " - System RAM Usage: 31.5%\n",
            " - GPU Memory Allocated: 1325.73 MB\n",
            " - GPU Memory Cached: 1438.65 MB\n",
            "\n",
            "[DEBUG] Processing Chunk 86...\n",
            " - Generating UA embeddings for 1000 rows...\n"
          ]
        },
        {
          "name": "stderr",
          "output_type": "stream",
          "text": [
            "<ipython-input-14-9832f32bc56b>:53: SettingWithCopyWarning: \n",
            "A value is trying to be set on a copy of a slice from a DataFrame.\n",
            "Try using .loc[row_indexer,col_indexer] = value instead\n",
            "\n",
            "See the caveats in the documentation: https://pandas.pydata.org/pandas-docs/stable/user_guide/indexing.html#returning-a-view-versus-a-copy\n",
            "  chunk['metadata'] = chunk[['os', 'normalized_osv', 'device_vendor', 'device_model', 'deviceType']].fillna('').astype(str).agg(' '.join, axis=1)\n"
          ]
        },
        {
          "name": "stdout",
          "output_type": "stream",
          "text": [
            " - Generating Metadata embeddings for 1000 rows...\n",
            "\n",
            "[DEBUG] After Processing Chunk 86\n",
            " - System RAM Usage: 31.5%\n",
            " - GPU Memory Allocated: 1325.73 MB\n",
            " - GPU Memory Cached: 1438.65 MB\n",
            "\n",
            "[DEBUG] Processing Chunk 87...\n",
            " - Generating UA embeddings for 1000 rows...\n"
          ]
        },
        {
          "name": "stderr",
          "output_type": "stream",
          "text": [
            "<ipython-input-14-9832f32bc56b>:53: SettingWithCopyWarning: \n",
            "A value is trying to be set on a copy of a slice from a DataFrame.\n",
            "Try using .loc[row_indexer,col_indexer] = value instead\n",
            "\n",
            "See the caveats in the documentation: https://pandas.pydata.org/pandas-docs/stable/user_guide/indexing.html#returning-a-view-versus-a-copy\n",
            "  chunk['metadata'] = chunk[['os', 'normalized_osv', 'device_vendor', 'device_model', 'deviceType']].fillna('').astype(str).agg(' '.join, axis=1)\n"
          ]
        },
        {
          "name": "stdout",
          "output_type": "stream",
          "text": [
            " - Generating Metadata embeddings for 1000 rows...\n",
            "\n",
            "[DEBUG] After Processing Chunk 87\n",
            " - System RAM Usage: 31.6%\n",
            " - GPU Memory Allocated: 1325.73 MB\n",
            " - GPU Memory Cached: 1438.65 MB\n",
            "\n",
            "[DEBUG] Processing Chunk 88...\n",
            " - Generating UA embeddings for 1000 rows...\n"
          ]
        },
        {
          "name": "stderr",
          "output_type": "stream",
          "text": [
            "<ipython-input-14-9832f32bc56b>:53: SettingWithCopyWarning: \n",
            "A value is trying to be set on a copy of a slice from a DataFrame.\n",
            "Try using .loc[row_indexer,col_indexer] = value instead\n",
            "\n",
            "See the caveats in the documentation: https://pandas.pydata.org/pandas-docs/stable/user_guide/indexing.html#returning-a-view-versus-a-copy\n",
            "  chunk['metadata'] = chunk[['os', 'normalized_osv', 'device_vendor', 'device_model', 'deviceType']].fillna('').astype(str).agg(' '.join, axis=1)\n"
          ]
        },
        {
          "name": "stdout",
          "output_type": "stream",
          "text": [
            " - Generating Metadata embeddings for 1000 rows...\n",
            "\n",
            "[DEBUG] After Processing Chunk 88\n",
            " - System RAM Usage: 31.6%\n",
            " - GPU Memory Allocated: 1325.73 MB\n",
            " - GPU Memory Cached: 1438.65 MB\n",
            "\n",
            "[DEBUG] Processing Chunk 89...\n",
            " - Generating UA embeddings for 1000 rows...\n"
          ]
        },
        {
          "name": "stderr",
          "output_type": "stream",
          "text": [
            "<ipython-input-14-9832f32bc56b>:53: SettingWithCopyWarning: \n",
            "A value is trying to be set on a copy of a slice from a DataFrame.\n",
            "Try using .loc[row_indexer,col_indexer] = value instead\n",
            "\n",
            "See the caveats in the documentation: https://pandas.pydata.org/pandas-docs/stable/user_guide/indexing.html#returning-a-view-versus-a-copy\n",
            "  chunk['metadata'] = chunk[['os', 'normalized_osv', 'device_vendor', 'device_model', 'deviceType']].fillna('').astype(str).agg(' '.join, axis=1)\n"
          ]
        },
        {
          "name": "stdout",
          "output_type": "stream",
          "text": [
            " - Generating Metadata embeddings for 1000 rows...\n",
            "\n",
            "[DEBUG] After Processing Chunk 89\n",
            " - System RAM Usage: 31.7%\n",
            " - GPU Memory Allocated: 1325.73 MB\n",
            " - GPU Memory Cached: 1438.65 MB\n",
            "\n",
            "[DEBUG] Processing Chunk 90...\n",
            " - Generating UA embeddings for 1000 rows...\n"
          ]
        },
        {
          "name": "stderr",
          "output_type": "stream",
          "text": [
            "<ipython-input-14-9832f32bc56b>:53: SettingWithCopyWarning: \n",
            "A value is trying to be set on a copy of a slice from a DataFrame.\n",
            "Try using .loc[row_indexer,col_indexer] = value instead\n",
            "\n",
            "See the caveats in the documentation: https://pandas.pydata.org/pandas-docs/stable/user_guide/indexing.html#returning-a-view-versus-a-copy\n",
            "  chunk['metadata'] = chunk[['os', 'normalized_osv', 'device_vendor', 'device_model', 'deviceType']].fillna('').astype(str).agg(' '.join, axis=1)\n"
          ]
        },
        {
          "name": "stdout",
          "output_type": "stream",
          "text": [
            " - Generating Metadata embeddings for 1000 rows...\n",
            "\n",
            "[DEBUG] After Processing Chunk 90\n",
            " - System RAM Usage: 31.7%\n",
            " - GPU Memory Allocated: 1325.73 MB\n",
            " - GPU Memory Cached: 1438.65 MB\n",
            "\n",
            "[DEBUG] Processing Chunk 91...\n",
            " - Generating UA embeddings for 1000 rows...\n"
          ]
        },
        {
          "name": "stderr",
          "output_type": "stream",
          "text": [
            "<ipython-input-14-9832f32bc56b>:53: SettingWithCopyWarning: \n",
            "A value is trying to be set on a copy of a slice from a DataFrame.\n",
            "Try using .loc[row_indexer,col_indexer] = value instead\n",
            "\n",
            "See the caveats in the documentation: https://pandas.pydata.org/pandas-docs/stable/user_guide/indexing.html#returning-a-view-versus-a-copy\n",
            "  chunk['metadata'] = chunk[['os', 'normalized_osv', 'device_vendor', 'device_model', 'deviceType']].fillna('').astype(str).agg(' '.join, axis=1)\n"
          ]
        },
        {
          "name": "stdout",
          "output_type": "stream",
          "text": [
            " - Generating Metadata embeddings for 1000 rows...\n",
            "\n",
            "[DEBUG] After Processing Chunk 91\n",
            " - System RAM Usage: 31.7%\n",
            " - GPU Memory Allocated: 1325.73 MB\n",
            " - GPU Memory Cached: 1438.65 MB\n",
            "\n",
            "[DEBUG] Processing Chunk 92...\n",
            " - Generating UA embeddings for 1000 rows...\n"
          ]
        },
        {
          "name": "stderr",
          "output_type": "stream",
          "text": [
            "<ipython-input-14-9832f32bc56b>:53: SettingWithCopyWarning: \n",
            "A value is trying to be set on a copy of a slice from a DataFrame.\n",
            "Try using .loc[row_indexer,col_indexer] = value instead\n",
            "\n",
            "See the caveats in the documentation: https://pandas.pydata.org/pandas-docs/stable/user_guide/indexing.html#returning-a-view-versus-a-copy\n",
            "  chunk['metadata'] = chunk[['os', 'normalized_osv', 'device_vendor', 'device_model', 'deviceType']].fillna('').astype(str).agg(' '.join, axis=1)\n"
          ]
        },
        {
          "name": "stdout",
          "output_type": "stream",
          "text": [
            " - Generating Metadata embeddings for 1000 rows...\n",
            "\n",
            "[DEBUG] After Processing Chunk 92\n",
            " - System RAM Usage: 31.8%\n",
            " - GPU Memory Allocated: 1325.73 MB\n",
            " - GPU Memory Cached: 1438.65 MB\n",
            "\n",
            "[DEBUG] Processing Chunk 93...\n",
            " - Generating UA embeddings for 1000 rows...\n"
          ]
        },
        {
          "name": "stderr",
          "output_type": "stream",
          "text": [
            "<ipython-input-14-9832f32bc56b>:53: SettingWithCopyWarning: \n",
            "A value is trying to be set on a copy of a slice from a DataFrame.\n",
            "Try using .loc[row_indexer,col_indexer] = value instead\n",
            "\n",
            "See the caveats in the documentation: https://pandas.pydata.org/pandas-docs/stable/user_guide/indexing.html#returning-a-view-versus-a-copy\n",
            "  chunk['metadata'] = chunk[['os', 'normalized_osv', 'device_vendor', 'device_model', 'deviceType']].fillna('').astype(str).agg(' '.join, axis=1)\n"
          ]
        },
        {
          "name": "stdout",
          "output_type": "stream",
          "text": [
            " - Generating Metadata embeddings for 1000 rows...\n",
            "\n",
            "[DEBUG] After Processing Chunk 93\n",
            " - System RAM Usage: 31.9%\n",
            " - GPU Memory Allocated: 1325.73 MB\n",
            " - GPU Memory Cached: 1438.65 MB\n",
            "\n",
            "[DEBUG] Processing Chunk 94...\n",
            " - Generating UA embeddings for 1000 rows...\n"
          ]
        },
        {
          "name": "stderr",
          "output_type": "stream",
          "text": [
            "<ipython-input-14-9832f32bc56b>:53: SettingWithCopyWarning: \n",
            "A value is trying to be set on a copy of a slice from a DataFrame.\n",
            "Try using .loc[row_indexer,col_indexer] = value instead\n",
            "\n",
            "See the caveats in the documentation: https://pandas.pydata.org/pandas-docs/stable/user_guide/indexing.html#returning-a-view-versus-a-copy\n",
            "  chunk['metadata'] = chunk[['os', 'normalized_osv', 'device_vendor', 'device_model', 'deviceType']].fillna('').astype(str).agg(' '.join, axis=1)\n"
          ]
        },
        {
          "name": "stdout",
          "output_type": "stream",
          "text": [
            " - Generating Metadata embeddings for 1000 rows...\n",
            "\n",
            "[DEBUG] After Processing Chunk 94\n",
            " - System RAM Usage: 31.9%\n",
            " - GPU Memory Allocated: 1325.73 MB\n",
            " - GPU Memory Cached: 1438.65 MB\n",
            "\n",
            "[DEBUG] Processing Chunk 95...\n",
            " - Generating UA embeddings for 1000 rows...\n"
          ]
        },
        {
          "name": "stderr",
          "output_type": "stream",
          "text": [
            "<ipython-input-14-9832f32bc56b>:53: SettingWithCopyWarning: \n",
            "A value is trying to be set on a copy of a slice from a DataFrame.\n",
            "Try using .loc[row_indexer,col_indexer] = value instead\n",
            "\n",
            "See the caveats in the documentation: https://pandas.pydata.org/pandas-docs/stable/user_guide/indexing.html#returning-a-view-versus-a-copy\n",
            "  chunk['metadata'] = chunk[['os', 'normalized_osv', 'device_vendor', 'device_model', 'deviceType']].fillna('').astype(str).agg(' '.join, axis=1)\n"
          ]
        },
        {
          "name": "stdout",
          "output_type": "stream",
          "text": [
            " - Generating Metadata embeddings for 1000 rows...\n",
            "\n",
            "[DEBUG] After Processing Chunk 95\n",
            " - System RAM Usage: 32.0%\n",
            " - GPU Memory Allocated: 1325.73 MB\n",
            " - GPU Memory Cached: 1438.65 MB\n",
            "\n",
            "[DEBUG] Processing Chunk 96...\n",
            " - Generating UA embeddings for 1000 rows...\n"
          ]
        },
        {
          "name": "stderr",
          "output_type": "stream",
          "text": [
            "<ipython-input-14-9832f32bc56b>:53: SettingWithCopyWarning: \n",
            "A value is trying to be set on a copy of a slice from a DataFrame.\n",
            "Try using .loc[row_indexer,col_indexer] = value instead\n",
            "\n",
            "See the caveats in the documentation: https://pandas.pydata.org/pandas-docs/stable/user_guide/indexing.html#returning-a-view-versus-a-copy\n",
            "  chunk['metadata'] = chunk[['os', 'normalized_osv', 'device_vendor', 'device_model', 'deviceType']].fillna('').astype(str).agg(' '.join, axis=1)\n"
          ]
        },
        {
          "name": "stdout",
          "output_type": "stream",
          "text": [
            " - Generating Metadata embeddings for 1000 rows...\n",
            "\n",
            "[DEBUG] After Processing Chunk 96\n",
            " - System RAM Usage: 32.0%\n",
            " - GPU Memory Allocated: 1325.73 MB\n",
            " - GPU Memory Cached: 1438.65 MB\n",
            "\n",
            "[DEBUG] Processing Chunk 97...\n",
            " - Generating UA embeddings for 1000 rows...\n"
          ]
        },
        {
          "name": "stderr",
          "output_type": "stream",
          "text": [
            "<ipython-input-14-9832f32bc56b>:53: SettingWithCopyWarning: \n",
            "A value is trying to be set on a copy of a slice from a DataFrame.\n",
            "Try using .loc[row_indexer,col_indexer] = value instead\n",
            "\n",
            "See the caveats in the documentation: https://pandas.pydata.org/pandas-docs/stable/user_guide/indexing.html#returning-a-view-versus-a-copy\n",
            "  chunk['metadata'] = chunk[['os', 'normalized_osv', 'device_vendor', 'device_model', 'deviceType']].fillna('').astype(str).agg(' '.join, axis=1)\n"
          ]
        },
        {
          "name": "stdout",
          "output_type": "stream",
          "text": [
            " - Generating Metadata embeddings for 1000 rows...\n",
            "\n",
            "[DEBUG] After Processing Chunk 97\n",
            " - System RAM Usage: 32.2%\n",
            " - GPU Memory Allocated: 1325.73 MB\n",
            " - GPU Memory Cached: 1438.65 MB\n",
            "\n",
            "[DEBUG] Processing Chunk 98...\n",
            " - Generating UA embeddings for 1000 rows...\n"
          ]
        },
        {
          "name": "stderr",
          "output_type": "stream",
          "text": [
            "<ipython-input-14-9832f32bc56b>:53: SettingWithCopyWarning: \n",
            "A value is trying to be set on a copy of a slice from a DataFrame.\n",
            "Try using .loc[row_indexer,col_indexer] = value instead\n",
            "\n",
            "See the caveats in the documentation: https://pandas.pydata.org/pandas-docs/stable/user_guide/indexing.html#returning-a-view-versus-a-copy\n",
            "  chunk['metadata'] = chunk[['os', 'normalized_osv', 'device_vendor', 'device_model', 'deviceType']].fillna('').astype(str).agg(' '.join, axis=1)\n"
          ]
        },
        {
          "name": "stdout",
          "output_type": "stream",
          "text": [
            " - Generating Metadata embeddings for 1000 rows...\n",
            "\n",
            "[DEBUG] After Processing Chunk 98\n",
            " - System RAM Usage: 32.2%\n",
            " - GPU Memory Allocated: 1325.73 MB\n",
            " - GPU Memory Cached: 1438.65 MB\n",
            "\n",
            "[DEBUG] Processing Chunk 99...\n",
            " - Generating UA embeddings for 1000 rows...\n"
          ]
        },
        {
          "name": "stderr",
          "output_type": "stream",
          "text": [
            "<ipython-input-14-9832f32bc56b>:53: SettingWithCopyWarning: \n",
            "A value is trying to be set on a copy of a slice from a DataFrame.\n",
            "Try using .loc[row_indexer,col_indexer] = value instead\n",
            "\n",
            "See the caveats in the documentation: https://pandas.pydata.org/pandas-docs/stable/user_guide/indexing.html#returning-a-view-versus-a-copy\n",
            "  chunk['metadata'] = chunk[['os', 'normalized_osv', 'device_vendor', 'device_model', 'deviceType']].fillna('').astype(str).agg(' '.join, axis=1)\n"
          ]
        },
        {
          "name": "stdout",
          "output_type": "stream",
          "text": [
            " - Generating Metadata embeddings for 1000 rows...\n",
            "\n",
            "[DEBUG] After Processing Chunk 99\n",
            " - System RAM Usage: 32.2%\n",
            " - GPU Memory Allocated: 1325.73 MB\n",
            " - GPU Memory Cached: 1438.65 MB\n",
            "\n",
            "[DEBUG] Processing Chunk 100...\n",
            " - Generating UA embeddings for 1000 rows...\n"
          ]
        },
        {
          "name": "stderr",
          "output_type": "stream",
          "text": [
            "<ipython-input-14-9832f32bc56b>:53: SettingWithCopyWarning: \n",
            "A value is trying to be set on a copy of a slice from a DataFrame.\n",
            "Try using .loc[row_indexer,col_indexer] = value instead\n",
            "\n",
            "See the caveats in the documentation: https://pandas.pydata.org/pandas-docs/stable/user_guide/indexing.html#returning-a-view-versus-a-copy\n",
            "  chunk['metadata'] = chunk[['os', 'normalized_osv', 'device_vendor', 'device_model', 'deviceType']].fillna('').astype(str).agg(' '.join, axis=1)\n"
          ]
        },
        {
          "name": "stdout",
          "output_type": "stream",
          "text": [
            " - Generating Metadata embeddings for 1000 rows...\n",
            "\n",
            "[DEBUG] After Processing Chunk 100\n",
            " - System RAM Usage: 32.2%\n",
            " - GPU Memory Allocated: 1325.73 MB\n",
            " - GPU Memory Cached: 1438.65 MB\n",
            "\n",
            "[DEBUG] Processing Chunk 101...\n",
            " - Generating UA embeddings for 1000 rows...\n"
          ]
        },
        {
          "name": "stderr",
          "output_type": "stream",
          "text": [
            "<ipython-input-14-9832f32bc56b>:53: SettingWithCopyWarning: \n",
            "A value is trying to be set on a copy of a slice from a DataFrame.\n",
            "Try using .loc[row_indexer,col_indexer] = value instead\n",
            "\n",
            "See the caveats in the documentation: https://pandas.pydata.org/pandas-docs/stable/user_guide/indexing.html#returning-a-view-versus-a-copy\n",
            "  chunk['metadata'] = chunk[['os', 'normalized_osv', 'device_vendor', 'device_model', 'deviceType']].fillna('').astype(str).agg(' '.join, axis=1)\n"
          ]
        },
        {
          "name": "stdout",
          "output_type": "stream",
          "text": [
            " - Generating Metadata embeddings for 1000 rows...\n",
            "\n",
            "[DEBUG] After Processing Chunk 101\n",
            " - System RAM Usage: 32.2%\n",
            " - GPU Memory Allocated: 1325.73 MB\n",
            " - GPU Memory Cached: 1438.65 MB\n",
            "\n",
            "[DEBUG] Processing Chunk 102...\n",
            " - Generating UA embeddings for 1000 rows...\n"
          ]
        },
        {
          "name": "stderr",
          "output_type": "stream",
          "text": [
            "<ipython-input-14-9832f32bc56b>:53: SettingWithCopyWarning: \n",
            "A value is trying to be set on a copy of a slice from a DataFrame.\n",
            "Try using .loc[row_indexer,col_indexer] = value instead\n",
            "\n",
            "See the caveats in the documentation: https://pandas.pydata.org/pandas-docs/stable/user_guide/indexing.html#returning-a-view-versus-a-copy\n",
            "  chunk['metadata'] = chunk[['os', 'normalized_osv', 'device_vendor', 'device_model', 'deviceType']].fillna('').astype(str).agg(' '.join, axis=1)\n"
          ]
        },
        {
          "name": "stdout",
          "output_type": "stream",
          "text": [
            " - Generating Metadata embeddings for 1000 rows...\n",
            "\n",
            "[DEBUG] After Processing Chunk 102\n",
            " - System RAM Usage: 32.2%\n",
            " - GPU Memory Allocated: 1325.73 MB\n",
            " - GPU Memory Cached: 1438.65 MB\n",
            "\n",
            "[DEBUG] Processing Chunk 103...\n",
            " - Generating UA embeddings for 1000 rows...\n"
          ]
        },
        {
          "name": "stderr",
          "output_type": "stream",
          "text": [
            "<ipython-input-14-9832f32bc56b>:53: SettingWithCopyWarning: \n",
            "A value is trying to be set on a copy of a slice from a DataFrame.\n",
            "Try using .loc[row_indexer,col_indexer] = value instead\n",
            "\n",
            "See the caveats in the documentation: https://pandas.pydata.org/pandas-docs/stable/user_guide/indexing.html#returning-a-view-versus-a-copy\n",
            "  chunk['metadata'] = chunk[['os', 'normalized_osv', 'device_vendor', 'device_model', 'deviceType']].fillna('').astype(str).agg(' '.join, axis=1)\n"
          ]
        },
        {
          "name": "stdout",
          "output_type": "stream",
          "text": [
            " - Generating Metadata embeddings for 1000 rows...\n",
            "\n",
            "[DEBUG] After Processing Chunk 103\n",
            " - System RAM Usage: 32.3%\n",
            " - GPU Memory Allocated: 1325.73 MB\n",
            " - GPU Memory Cached: 1438.65 MB\n",
            "\n",
            "[DEBUG] Processing Chunk 104...\n",
            " - Generating UA embeddings for 1000 rows...\n"
          ]
        },
        {
          "name": "stderr",
          "output_type": "stream",
          "text": [
            "<ipython-input-14-9832f32bc56b>:53: SettingWithCopyWarning: \n",
            "A value is trying to be set on a copy of a slice from a DataFrame.\n",
            "Try using .loc[row_indexer,col_indexer] = value instead\n",
            "\n",
            "See the caveats in the documentation: https://pandas.pydata.org/pandas-docs/stable/user_guide/indexing.html#returning-a-view-versus-a-copy\n",
            "  chunk['metadata'] = chunk[['os', 'normalized_osv', 'device_vendor', 'device_model', 'deviceType']].fillna('').astype(str).agg(' '.join, axis=1)\n"
          ]
        },
        {
          "name": "stdout",
          "output_type": "stream",
          "text": [
            " - Generating Metadata embeddings for 1000 rows...\n",
            "\n",
            "[DEBUG] After Processing Chunk 104\n",
            " - System RAM Usage: 32.3%\n",
            " - GPU Memory Allocated: 1325.73 MB\n",
            " - GPU Memory Cached: 1438.65 MB\n",
            "\n",
            "[DEBUG] Processing Chunk 105...\n",
            " - Generating UA embeddings for 1000 rows...\n"
          ]
        },
        {
          "name": "stderr",
          "output_type": "stream",
          "text": [
            "<ipython-input-14-9832f32bc56b>:53: SettingWithCopyWarning: \n",
            "A value is trying to be set on a copy of a slice from a DataFrame.\n",
            "Try using .loc[row_indexer,col_indexer] = value instead\n",
            "\n",
            "See the caveats in the documentation: https://pandas.pydata.org/pandas-docs/stable/user_guide/indexing.html#returning-a-view-versus-a-copy\n",
            "  chunk['metadata'] = chunk[['os', 'normalized_osv', 'device_vendor', 'device_model', 'deviceType']].fillna('').astype(str).agg(' '.join, axis=1)\n"
          ]
        },
        {
          "name": "stdout",
          "output_type": "stream",
          "text": [
            " - Generating Metadata embeddings for 1000 rows...\n",
            "\n",
            "[DEBUG] After Processing Chunk 105\n",
            " - System RAM Usage: 32.4%\n",
            " - GPU Memory Allocated: 1325.73 MB\n",
            " - GPU Memory Cached: 1438.65 MB\n",
            "\n",
            "[DEBUG] Processing Chunk 106...\n",
            " - Generating UA embeddings for 1000 rows...\n"
          ]
        },
        {
          "name": "stderr",
          "output_type": "stream",
          "text": [
            "<ipython-input-14-9832f32bc56b>:53: SettingWithCopyWarning: \n",
            "A value is trying to be set on a copy of a slice from a DataFrame.\n",
            "Try using .loc[row_indexer,col_indexer] = value instead\n",
            "\n",
            "See the caveats in the documentation: https://pandas.pydata.org/pandas-docs/stable/user_guide/indexing.html#returning-a-view-versus-a-copy\n",
            "  chunk['metadata'] = chunk[['os', 'normalized_osv', 'device_vendor', 'device_model', 'deviceType']].fillna('').astype(str).agg(' '.join, axis=1)\n"
          ]
        },
        {
          "name": "stdout",
          "output_type": "stream",
          "text": [
            " - Generating Metadata embeddings for 1000 rows...\n",
            "\n",
            "[DEBUG] After Processing Chunk 106\n",
            " - System RAM Usage: 32.5%\n",
            " - GPU Memory Allocated: 1325.73 MB\n",
            " - GPU Memory Cached: 1438.65 MB\n",
            "\n",
            "[DEBUG] Processing Chunk 107...\n",
            " - Generating UA embeddings for 1000 rows...\n"
          ]
        },
        {
          "name": "stderr",
          "output_type": "stream",
          "text": [
            "<ipython-input-14-9832f32bc56b>:53: SettingWithCopyWarning: \n",
            "A value is trying to be set on a copy of a slice from a DataFrame.\n",
            "Try using .loc[row_indexer,col_indexer] = value instead\n",
            "\n",
            "See the caveats in the documentation: https://pandas.pydata.org/pandas-docs/stable/user_guide/indexing.html#returning-a-view-versus-a-copy\n",
            "  chunk['metadata'] = chunk[['os', 'normalized_osv', 'device_vendor', 'device_model', 'deviceType']].fillna('').astype(str).agg(' '.join, axis=1)\n"
          ]
        },
        {
          "name": "stdout",
          "output_type": "stream",
          "text": [
            " - Generating Metadata embeddings for 1000 rows...\n",
            "\n",
            "[DEBUG] After Processing Chunk 107\n",
            " - System RAM Usage: 32.4%\n",
            " - GPU Memory Allocated: 1325.73 MB\n",
            " - GPU Memory Cached: 1438.65 MB\n",
            "\n",
            "[DEBUG] Processing Chunk 108...\n",
            " - Generating UA embeddings for 1000 rows...\n"
          ]
        },
        {
          "name": "stderr",
          "output_type": "stream",
          "text": [
            "<ipython-input-14-9832f32bc56b>:53: SettingWithCopyWarning: \n",
            "A value is trying to be set on a copy of a slice from a DataFrame.\n",
            "Try using .loc[row_indexer,col_indexer] = value instead\n",
            "\n",
            "See the caveats in the documentation: https://pandas.pydata.org/pandas-docs/stable/user_guide/indexing.html#returning-a-view-versus-a-copy\n",
            "  chunk['metadata'] = chunk[['os', 'normalized_osv', 'device_vendor', 'device_model', 'deviceType']].fillna('').astype(str).agg(' '.join, axis=1)\n"
          ]
        },
        {
          "name": "stdout",
          "output_type": "stream",
          "text": [
            " - Generating Metadata embeddings for 1000 rows...\n",
            "\n",
            "[DEBUG] After Processing Chunk 108\n",
            " - System RAM Usage: 32.5%\n",
            " - GPU Memory Allocated: 1325.73 MB\n",
            " - GPU Memory Cached: 1438.65 MB\n",
            "\n",
            "[DEBUG] Processing Chunk 109...\n",
            " - Generating UA embeddings for 1000 rows...\n"
          ]
        },
        {
          "name": "stderr",
          "output_type": "stream",
          "text": [
            "<ipython-input-14-9832f32bc56b>:53: SettingWithCopyWarning: \n",
            "A value is trying to be set on a copy of a slice from a DataFrame.\n",
            "Try using .loc[row_indexer,col_indexer] = value instead\n",
            "\n",
            "See the caveats in the documentation: https://pandas.pydata.org/pandas-docs/stable/user_guide/indexing.html#returning-a-view-versus-a-copy\n",
            "  chunk['metadata'] = chunk[['os', 'normalized_osv', 'device_vendor', 'device_model', 'deviceType']].fillna('').astype(str).agg(' '.join, axis=1)\n"
          ]
        },
        {
          "name": "stdout",
          "output_type": "stream",
          "text": [
            " - Generating Metadata embeddings for 1000 rows...\n",
            "\n",
            "[DEBUG] After Processing Chunk 109\n",
            " - System RAM Usage: 32.5%\n",
            " - GPU Memory Allocated: 1325.73 MB\n",
            " - GPU Memory Cached: 1438.65 MB\n",
            "\n",
            "[DEBUG] Processing Chunk 110...\n",
            " - Generating UA embeddings for 1000 rows...\n"
          ]
        },
        {
          "name": "stderr",
          "output_type": "stream",
          "text": [
            "<ipython-input-14-9832f32bc56b>:53: SettingWithCopyWarning: \n",
            "A value is trying to be set on a copy of a slice from a DataFrame.\n",
            "Try using .loc[row_indexer,col_indexer] = value instead\n",
            "\n",
            "See the caveats in the documentation: https://pandas.pydata.org/pandas-docs/stable/user_guide/indexing.html#returning-a-view-versus-a-copy\n",
            "  chunk['metadata'] = chunk[['os', 'normalized_osv', 'device_vendor', 'device_model', 'deviceType']].fillna('').astype(str).agg(' '.join, axis=1)\n"
          ]
        },
        {
          "name": "stdout",
          "output_type": "stream",
          "text": [
            " - Generating Metadata embeddings for 1000 rows...\n",
            "\n",
            "[DEBUG] After Processing Chunk 110\n",
            " - System RAM Usage: 32.6%\n",
            " - GPU Memory Allocated: 1325.73 MB\n",
            " - GPU Memory Cached: 1438.65 MB\n",
            "\n",
            "[DEBUG] Processing Chunk 111...\n",
            " - Generating UA embeddings for 1000 rows...\n"
          ]
        },
        {
          "name": "stderr",
          "output_type": "stream",
          "text": [
            "<ipython-input-14-9832f32bc56b>:53: SettingWithCopyWarning: \n",
            "A value is trying to be set on a copy of a slice from a DataFrame.\n",
            "Try using .loc[row_indexer,col_indexer] = value instead\n",
            "\n",
            "See the caveats in the documentation: https://pandas.pydata.org/pandas-docs/stable/user_guide/indexing.html#returning-a-view-versus-a-copy\n",
            "  chunk['metadata'] = chunk[['os', 'normalized_osv', 'device_vendor', 'device_model', 'deviceType']].fillna('').astype(str).agg(' '.join, axis=1)\n"
          ]
        },
        {
          "name": "stdout",
          "output_type": "stream",
          "text": [
            " - Generating Metadata embeddings for 1000 rows...\n",
            "\n",
            "[DEBUG] After Processing Chunk 111\n",
            " - System RAM Usage: 32.7%\n",
            " - GPU Memory Allocated: 1325.73 MB\n",
            " - GPU Memory Cached: 1438.65 MB\n",
            "\n",
            "[DEBUG] Processing Chunk 112...\n",
            " - Generating UA embeddings for 1000 rows...\n"
          ]
        },
        {
          "name": "stderr",
          "output_type": "stream",
          "text": [
            "<ipython-input-14-9832f32bc56b>:53: SettingWithCopyWarning: \n",
            "A value is trying to be set on a copy of a slice from a DataFrame.\n",
            "Try using .loc[row_indexer,col_indexer] = value instead\n",
            "\n",
            "See the caveats in the documentation: https://pandas.pydata.org/pandas-docs/stable/user_guide/indexing.html#returning-a-view-versus-a-copy\n",
            "  chunk['metadata'] = chunk[['os', 'normalized_osv', 'device_vendor', 'device_model', 'deviceType']].fillna('').astype(str).agg(' '.join, axis=1)\n"
          ]
        },
        {
          "name": "stdout",
          "output_type": "stream",
          "text": [
            " - Generating Metadata embeddings for 1000 rows...\n",
            "\n",
            "[DEBUG] After Processing Chunk 112\n",
            " - System RAM Usage: 32.7%\n",
            " - GPU Memory Allocated: 1325.73 MB\n",
            " - GPU Memory Cached: 1438.65 MB\n",
            "\n",
            "[DEBUG] Processing Chunk 113...\n",
            " - Generating UA embeddings for 1000 rows...\n"
          ]
        },
        {
          "name": "stderr",
          "output_type": "stream",
          "text": [
            "<ipython-input-14-9832f32bc56b>:53: SettingWithCopyWarning: \n",
            "A value is trying to be set on a copy of a slice from a DataFrame.\n",
            "Try using .loc[row_indexer,col_indexer] = value instead\n",
            "\n",
            "See the caveats in the documentation: https://pandas.pydata.org/pandas-docs/stable/user_guide/indexing.html#returning-a-view-versus-a-copy\n",
            "  chunk['metadata'] = chunk[['os', 'normalized_osv', 'device_vendor', 'device_model', 'deviceType']].fillna('').astype(str).agg(' '.join, axis=1)\n"
          ]
        },
        {
          "name": "stdout",
          "output_type": "stream",
          "text": [
            " - Generating Metadata embeddings for 1000 rows...\n",
            "\n",
            "[DEBUG] After Processing Chunk 113\n",
            " - System RAM Usage: 32.7%\n",
            " - GPU Memory Allocated: 1325.73 MB\n",
            " - GPU Memory Cached: 1438.65 MB\n",
            "\n",
            "[DEBUG] Processing Chunk 114...\n",
            " - Generating UA embeddings for 1000 rows...\n"
          ]
        },
        {
          "name": "stderr",
          "output_type": "stream",
          "text": [
            "<ipython-input-14-9832f32bc56b>:53: SettingWithCopyWarning: \n",
            "A value is trying to be set on a copy of a slice from a DataFrame.\n",
            "Try using .loc[row_indexer,col_indexer] = value instead\n",
            "\n",
            "See the caveats in the documentation: https://pandas.pydata.org/pandas-docs/stable/user_guide/indexing.html#returning-a-view-versus-a-copy\n",
            "  chunk['metadata'] = chunk[['os', 'normalized_osv', 'device_vendor', 'device_model', 'deviceType']].fillna('').astype(str).agg(' '.join, axis=1)\n"
          ]
        },
        {
          "name": "stdout",
          "output_type": "stream",
          "text": [
            " - Generating Metadata embeddings for 1000 rows...\n",
            "\n",
            "[DEBUG] After Processing Chunk 114\n",
            " - System RAM Usage: 32.8%\n",
            " - GPU Memory Allocated: 1325.73 MB\n",
            " - GPU Memory Cached: 1438.65 MB\n",
            "\n",
            "[DEBUG] Processing Chunk 115...\n",
            " - Generating UA embeddings for 1000 rows...\n"
          ]
        },
        {
          "name": "stderr",
          "output_type": "stream",
          "text": [
            "<ipython-input-14-9832f32bc56b>:53: SettingWithCopyWarning: \n",
            "A value is trying to be set on a copy of a slice from a DataFrame.\n",
            "Try using .loc[row_indexer,col_indexer] = value instead\n",
            "\n",
            "See the caveats in the documentation: https://pandas.pydata.org/pandas-docs/stable/user_guide/indexing.html#returning-a-view-versus-a-copy\n",
            "  chunk['metadata'] = chunk[['os', 'normalized_osv', 'device_vendor', 'device_model', 'deviceType']].fillna('').astype(str).agg(' '.join, axis=1)\n"
          ]
        },
        {
          "name": "stdout",
          "output_type": "stream",
          "text": [
            " - Generating Metadata embeddings for 1000 rows...\n",
            "\n",
            "[DEBUG] After Processing Chunk 115\n",
            " - System RAM Usage: 32.9%\n",
            " - GPU Memory Allocated: 1325.73 MB\n",
            " - GPU Memory Cached: 1438.65 MB\n",
            "\n",
            "[DEBUG] Processing Chunk 116...\n",
            " - Generating UA embeddings for 1000 rows...\n"
          ]
        },
        {
          "name": "stderr",
          "output_type": "stream",
          "text": [
            "<ipython-input-14-9832f32bc56b>:53: SettingWithCopyWarning: \n",
            "A value is trying to be set on a copy of a slice from a DataFrame.\n",
            "Try using .loc[row_indexer,col_indexer] = value instead\n",
            "\n",
            "See the caveats in the documentation: https://pandas.pydata.org/pandas-docs/stable/user_guide/indexing.html#returning-a-view-versus-a-copy\n",
            "  chunk['metadata'] = chunk[['os', 'normalized_osv', 'device_vendor', 'device_model', 'deviceType']].fillna('').astype(str).agg(' '.join, axis=1)\n"
          ]
        },
        {
          "name": "stdout",
          "output_type": "stream",
          "text": [
            " - Generating Metadata embeddings for 1000 rows...\n",
            "\n",
            "[DEBUG] After Processing Chunk 116\n",
            " - System RAM Usage: 32.9%\n",
            " - GPU Memory Allocated: 1325.73 MB\n",
            " - GPU Memory Cached: 1438.65 MB\n",
            "\n",
            "[DEBUG] Processing Chunk 117...\n",
            " - Generating UA embeddings for 1000 rows...\n"
          ]
        },
        {
          "name": "stderr",
          "output_type": "stream",
          "text": [
            "<ipython-input-14-9832f32bc56b>:53: SettingWithCopyWarning: \n",
            "A value is trying to be set on a copy of a slice from a DataFrame.\n",
            "Try using .loc[row_indexer,col_indexer] = value instead\n",
            "\n",
            "See the caveats in the documentation: https://pandas.pydata.org/pandas-docs/stable/user_guide/indexing.html#returning-a-view-versus-a-copy\n",
            "  chunk['metadata'] = chunk[['os', 'normalized_osv', 'device_vendor', 'device_model', 'deviceType']].fillna('').astype(str).agg(' '.join, axis=1)\n"
          ]
        },
        {
          "name": "stdout",
          "output_type": "stream",
          "text": [
            " - Generating Metadata embeddings for 1000 rows...\n",
            "\n",
            "[DEBUG] After Processing Chunk 117\n",
            " - System RAM Usage: 33.0%\n",
            " - GPU Memory Allocated: 1325.73 MB\n",
            " - GPU Memory Cached: 1438.65 MB\n",
            "\n",
            "[DEBUG] Processing Chunk 118...\n",
            " - Generating UA embeddings for 1000 rows...\n"
          ]
        },
        {
          "name": "stderr",
          "output_type": "stream",
          "text": [
            "<ipython-input-14-9832f32bc56b>:53: SettingWithCopyWarning: \n",
            "A value is trying to be set on a copy of a slice from a DataFrame.\n",
            "Try using .loc[row_indexer,col_indexer] = value instead\n",
            "\n",
            "See the caveats in the documentation: https://pandas.pydata.org/pandas-docs/stable/user_guide/indexing.html#returning-a-view-versus-a-copy\n",
            "  chunk['metadata'] = chunk[['os', 'normalized_osv', 'device_vendor', 'device_model', 'deviceType']].fillna('').astype(str).agg(' '.join, axis=1)\n"
          ]
        },
        {
          "name": "stdout",
          "output_type": "stream",
          "text": [
            " - Generating Metadata embeddings for 1000 rows...\n",
            "\n",
            "[DEBUG] After Processing Chunk 118\n",
            " - System RAM Usage: 33.0%\n",
            " - GPU Memory Allocated: 1325.73 MB\n",
            " - GPU Memory Cached: 1438.65 MB\n",
            "\n",
            "[DEBUG] Processing Chunk 119...\n",
            " - Generating UA embeddings for 1000 rows...\n"
          ]
        },
        {
          "name": "stderr",
          "output_type": "stream",
          "text": [
            "<ipython-input-14-9832f32bc56b>:53: SettingWithCopyWarning: \n",
            "A value is trying to be set on a copy of a slice from a DataFrame.\n",
            "Try using .loc[row_indexer,col_indexer] = value instead\n",
            "\n",
            "See the caveats in the documentation: https://pandas.pydata.org/pandas-docs/stable/user_guide/indexing.html#returning-a-view-versus-a-copy\n",
            "  chunk['metadata'] = chunk[['os', 'normalized_osv', 'device_vendor', 'device_model', 'deviceType']].fillna('').astype(str).agg(' '.join, axis=1)\n"
          ]
        },
        {
          "name": "stdout",
          "output_type": "stream",
          "text": [
            " - Generating Metadata embeddings for 1000 rows...\n",
            "\n",
            "[DEBUG] After Processing Chunk 119\n",
            " - System RAM Usage: 33.0%\n",
            " - GPU Memory Allocated: 1325.73 MB\n",
            " - GPU Memory Cached: 1438.65 MB\n",
            "\n",
            "[DEBUG] Processing Chunk 120...\n",
            " - Generating UA embeddings for 1000 rows...\n"
          ]
        },
        {
          "name": "stderr",
          "output_type": "stream",
          "text": [
            "<ipython-input-14-9832f32bc56b>:53: SettingWithCopyWarning: \n",
            "A value is trying to be set on a copy of a slice from a DataFrame.\n",
            "Try using .loc[row_indexer,col_indexer] = value instead\n",
            "\n",
            "See the caveats in the documentation: https://pandas.pydata.org/pandas-docs/stable/user_guide/indexing.html#returning-a-view-versus-a-copy\n",
            "  chunk['metadata'] = chunk[['os', 'normalized_osv', 'device_vendor', 'device_model', 'deviceType']].fillna('').astype(str).agg(' '.join, axis=1)\n"
          ]
        },
        {
          "name": "stdout",
          "output_type": "stream",
          "text": [
            " - Generating Metadata embeddings for 1000 rows...\n",
            "\n",
            "[DEBUG] After Processing Chunk 120\n",
            " - System RAM Usage: 33.1%\n",
            " - GPU Memory Allocated: 1325.73 MB\n",
            " - GPU Memory Cached: 1438.65 MB\n",
            "\n",
            "[DEBUG] Processing Chunk 121...\n",
            " - Generating UA embeddings for 1000 rows...\n"
          ]
        },
        {
          "name": "stderr",
          "output_type": "stream",
          "text": [
            "<ipython-input-14-9832f32bc56b>:53: SettingWithCopyWarning: \n",
            "A value is trying to be set on a copy of a slice from a DataFrame.\n",
            "Try using .loc[row_indexer,col_indexer] = value instead\n",
            "\n",
            "See the caveats in the documentation: https://pandas.pydata.org/pandas-docs/stable/user_guide/indexing.html#returning-a-view-versus-a-copy\n",
            "  chunk['metadata'] = chunk[['os', 'normalized_osv', 'device_vendor', 'device_model', 'deviceType']].fillna('').astype(str).agg(' '.join, axis=1)\n"
          ]
        },
        {
          "name": "stdout",
          "output_type": "stream",
          "text": [
            " - Generating Metadata embeddings for 1000 rows...\n",
            "\n",
            "[DEBUG] After Processing Chunk 121\n",
            " - System RAM Usage: 33.2%\n",
            " - GPU Memory Allocated: 1325.73 MB\n",
            " - GPU Memory Cached: 1438.65 MB\n",
            "\n",
            "[DEBUG] Processing Chunk 122...\n",
            " - Generating UA embeddings for 585 rows...\n"
          ]
        },
        {
          "name": "stderr",
          "output_type": "stream",
          "text": [
            "<ipython-input-14-9832f32bc56b>:53: SettingWithCopyWarning: \n",
            "A value is trying to be set on a copy of a slice from a DataFrame.\n",
            "Try using .loc[row_indexer,col_indexer] = value instead\n",
            "\n",
            "See the caveats in the documentation: https://pandas.pydata.org/pandas-docs/stable/user_guide/indexing.html#returning-a-view-versus-a-copy\n",
            "  chunk['metadata'] = chunk[['os', 'normalized_osv', 'device_vendor', 'device_model', 'deviceType']].fillna('').astype(str).agg(' '.join, axis=1)\n"
          ]
        },
        {
          "name": "stdout",
          "output_type": "stream",
          "text": [
            " - Generating Metadata embeddings for 585 rows...\n",
            "\n",
            "[DEBUG] After Processing Chunk 122\n",
            " - System RAM Usage: 33.1%\n",
            " - GPU Memory Allocated: 1325.73 MB\n",
            " - GPU Memory Cached: 1438.65 MB\n",
            "\n",
            "[DEBUG] Reading full CSV for merging...\n",
            "[DEBUG] Number of rows in df_full: 121585\n",
            "[DEBUG] Number of non-null UA embeddings: 121585\n",
            "[DEBUG] Number of non-null Metadata embeddings: 121585\n",
            "\n",
            "[DEBUG] After Merging Embeddings\n",
            " - System RAM Usage: 33.2%\n",
            " - GPU Memory Allocated: 1325.73 MB\n",
            " - GPU Memory Cached: 1438.65 MB\n"
          ]
        }
      ],
      "source": [
        "# Read the Excel file\n",
        "df = pd.read_excel(\n",
        "    \"/content/CombinedCountryData_2.0-IPv4_Cleaned.xlsx\",\n",
        "    sheet_name=\"normalized_file123\"\n",
        ")\n",
        "\n",
        "# Define chunk size\n",
        "chunk_size = 1000  # Or any desired size\n",
        "\n",
        "# Split the DataFrame into chunks\n",
        "num_chunks = len(df) // chunk_size + 1\n",
        "df_chunks = [df[i * chunk_size:(i + 1) * chunk_size] for i in range(num_chunks)]\n",
        "\n",
        "\n",
        "# Debug: Check initial memory usage\n",
        "def print_memory_usage(msg):\n",
        "    print(f\"\\n[DEBUG] {msg}\")\n",
        "    print(f\" - System RAM Usage: {psutil.virtual_memory().percent}%\")\n",
        "    if torch.cuda.is_available():\n",
        "        print(f\" - GPU Memory Allocated: {torch.cuda.memory_allocated() / 1e6:.2f} MB\")\n",
        "        print(f\" - GPU Memory Cached: {torch.cuda.memory_reserved() / 1e6:.2f} MB\")\n",
        "\n",
        "print_memory_usage(\"Before Processing\")\n",
        "\n",
        "def get_bert_embeddings(texts, model, tokenizer):\n",
        "    # Tokenize the input texts\n",
        "    inputs = tokenizer(\n",
        "        texts, padding=True, truncation=True, return_tensors='pt', max_length=512\n",
        "    )\n",
        "\n",
        "    # Move inputs to GPU\n",
        "    inputs = {key: val.to(device, non_blocking=True) for key, val in inputs.items()}\n",
        "\n",
        "    # Get embeddings without computing gradients\n",
        "    with torch.no_grad():\n",
        "        outputs = model(**inputs)\n",
        "\n",
        "    # Extract embeddings and move them back to CPU\n",
        "    embeddings = outputs.last_hidden_state[:, 0, :].cpu().numpy()\n",
        "    del inputs, outputs\n",
        "    torch.cuda.empty_cache()\n",
        "    gc.collect()\n",
        "\n",
        "    return embeddings\n",
        "\n",
        "all_ua_embeddings = []\n",
        "all_metadata_embeddings = []\n",
        "\n",
        "for i, chunk in enumerate(df_chunks):\n",
        "    print(f\"\\n[DEBUG] Processing Chunk {i+1}...\")\n",
        "\n",
        "    # Combine metadata columns into a single string\n",
        "    chunk['metadata'] = chunk[['os', 'normalized_osv', 'device_vendor', 'device_model', 'deviceType']].fillna('').astype(str).agg(' '.join, axis=1)\n",
        "\n",
        "    chunk_index = chunk.index.tolist()\n",
        "\n",
        "    print(f\" - Generating UA embeddings for {len(chunk)} rows...\")\n",
        "    ua_embeddings = get_bert_embeddings(chunk['ua'].tolist(), model, tokenizer)\n",
        "\n",
        "    print(f\" - Generating Metadata embeddings for {len(chunk)} rows...\")\n",
        "    metadata_embeddings = get_bert_embeddings(chunk['metadata'].tolist(), model, tokenizer)\n",
        "\n",
        "    # Debug: Ensure embeddings match row count\n",
        "    assert len(ua_embeddings) == len(chunk), \"[ERROR] UA Embeddings mismatch!\"\n",
        "    assert len(metadata_embeddings) == len(chunk), \"[ERROR] Metadata Embeddings mismatch!\"\n",
        "\n",
        "    # Store embeddings with their corresponding indices\n",
        "    all_ua_embeddings.append((chunk_index, ua_embeddings))\n",
        "    all_metadata_embeddings.append((chunk_index, metadata_embeddings))\n",
        "\n",
        "    # Explicit memory release\n",
        "    del chunk, ua_embeddings, metadata_embeddings\n",
        "    gc.collect()\n",
        "    torch.cuda.empty_cache()\n",
        "\n",
        "    print_memory_usage(f\"After Processing Chunk {i+1}\")\n",
        "\n",
        "# Convert to a dictionary for easy lookup\n",
        "ua_embeddings_dict = {idx: emb for chunk_index, emb in all_ua_embeddings for idx, emb in zip(chunk_index, emb)}\n",
        "metadata_embeddings_dict = {idx: emb for chunk_index, emb in all_metadata_embeddings for idx, emb in zip(chunk_index, emb)}\n",
        "\n",
        "# Read full dataframe again to merge embeddings\n",
        "print(\"\\n[DEBUG] Reading full CSV for merging...\")\n",
        "df_full = pd.read_excel(\n",
        "    \"/content/CombinedCountryData_2.0-IPv4_Cleaned.xlsx\",\n",
        "    sheet_name=\"normalized_file123\"\n",
        ")\n",
        "\n",
        "# Map embeddings to the full dataframe\n",
        "df_full['ua_embedding'] = df_full.index.map(ua_embeddings_dict)\n",
        "df_full['metadata_embedding'] = df_full.index.map(metadata_embeddings_dict)\n",
        "\n",
        "# Debug: Check if embeddings were correctly assigned\n",
        "print(f\"[DEBUG] Number of rows in df_full: {len(df_full)}\")\n",
        "print(f\"[DEBUG] Number of non-null UA embeddings: {df_full['ua_embedding'].notnull().sum()}\")\n",
        "print(f\"[DEBUG] Number of non-null Metadata embeddings: {df_full['metadata_embedding'].notnull().sum()}\")\n",
        "\n",
        "print_memory_usage(\"After Merging Embeddings\")\n",
        "\n",
        "# Now df_full contains embeddings correctly aligned to each row"
      ]
    },
    {
      "cell_type": "code",
      "execution_count": 15,
      "metadata": {
        "colab": {
          "base_uri": "https://localhost:8080/"
        },
        "id": "k0lrkaWQ2NAz",
        "outputId": "b96150a2-43b9-4566-b21f-d5a576a361d6"
      },
      "outputs": [
        {
          "data": {
            "text/plain": [
              "Index(['reqTimeConverted', 'deviceIfa', 'os', 'osv', 'normalized_osv',\n",
              "       'ipAddress', 'carrier', 'connectionType', 'device_vendor',\n",
              "       'device_model', 'device_height', 'device_width', 'deviceType',\n",
              "       'location_type', 'latitude', 'longitude', 'appBundle',\n",
              "       'device_country_code', 'ua', 'ua_embedding', 'metadata_embedding'],\n",
              "      dtype='object')"
            ]
          },
          "execution_count": 15,
          "metadata": {},
          "output_type": "execute_result"
        }
      ],
      "source": [
        "df_full.columns"
      ]
    },
    {
      "cell_type": "code",
      "execution_count": 16,
      "metadata": {
        "colab": {
          "base_uri": "https://localhost:8080/"
        },
        "id": "_LSsBd9nntgs",
        "outputId": "5b12ab80-f18a-4c7b-fc76-ef7ec7438605"
      },
      "outputs": [
        {
          "data": {
            "text/plain": [
              "(121585, 21)"
            ]
          },
          "execution_count": 16,
          "metadata": {},
          "output_type": "execute_result"
        }
      ],
      "source": [
        "df_full.shape"
      ]
    },
    {
      "cell_type": "code",
      "execution_count": 17,
      "metadata": {
        "colab": {
          "base_uri": "https://localhost:8080/"
        },
        "id": "nhVJ9dg15TJs",
        "outputId": "fea143d8-267e-43b3-e95b-cfe84b2b8a7f"
      },
      "outputs": [
        {
          "name": "stdout",
          "output_type": "stream",
          "text": [
            "Processing batch 1...\n",
            "Processing batch 2...\n",
            "Processing batch 3...\n",
            "Processing batch 4...\n",
            "Processing batch 5...\n",
            "Processing batch 6...\n",
            "Processing batch 7...\n",
            "Processing batch 8...\n",
            "Processing batch 9...\n",
            "Processing batch 10...\n",
            "Processing batch 11...\n",
            "Processing batch 12...\n",
            "Processing batch 13...\n",
            "Processing batch 14...\n",
            "Processing batch 15...\n",
            "Processing batch 16...\n",
            "Processing batch 17...\n",
            "Processing batch 18...\n",
            "Processing batch 19...\n",
            "Processing batch 20...\n",
            "Processing batch 21...\n",
            "Processing batch 22...\n",
            "Processing batch 23...\n",
            "Processing batch 24...\n",
            "Processing batch 25...\n",
            "Processing batch 26...\n",
            "Processing batch 27...\n",
            "Processing batch 28...\n",
            "Processing batch 29...\n",
            "Processing batch 30...\n",
            "Processing batch 31...\n",
            "Processing batch 32...\n",
            "Processing batch 33...\n",
            "Processing batch 34...\n",
            "Processing batch 35...\n",
            "Processing batch 36...\n",
            "Processing batch 37...\n",
            "Processing batch 38...\n",
            "Processing batch 39...\n",
            "Processing batch 40...\n",
            "Processing batch 41...\n",
            "Processing batch 42...\n",
            "Processing batch 43...\n",
            "Processing batch 44...\n",
            "Processing batch 45...\n",
            "Processing batch 46...\n",
            "Processing batch 47...\n",
            "Processing batch 48...\n",
            "Processing batch 49...\n",
            "Processing batch 50...\n",
            "Processing batch 51...\n",
            "Processing batch 52...\n",
            "Processing batch 53...\n",
            "Processing batch 54...\n",
            "Processing batch 55...\n",
            "Processing batch 56...\n",
            "Processing batch 57...\n",
            "Processing batch 58...\n",
            "Processing batch 59...\n",
            "Processing batch 60...\n",
            "Processing batch 61...\n",
            "Processing batch 62...\n",
            "Processing batch 63...\n",
            "Processing batch 64...\n",
            "Processing batch 65...\n",
            "Processing batch 66...\n",
            "Processing batch 67...\n",
            "Processing batch 68...\n",
            "Processing batch 69...\n",
            "Processing batch 70...\n",
            "Processing batch 71...\n",
            "Processing batch 72...\n",
            "Processing batch 73...\n",
            "Processing batch 74...\n",
            "Processing batch 75...\n",
            "Processing batch 76...\n",
            "Processing batch 77...\n",
            "Processing batch 78...\n",
            "Processing batch 79...\n",
            "Processing batch 80...\n",
            "Processing batch 81...\n",
            "Processing batch 82...\n",
            "Processing batch 83...\n",
            "Processing batch 84...\n",
            "Processing batch 85...\n",
            "Processing batch 86...\n",
            "Processing batch 87...\n",
            "Processing batch 88...\n",
            "Processing batch 89...\n",
            "Processing batch 90...\n",
            "Processing batch 91...\n",
            "Processing batch 92...\n",
            "Processing batch 93...\n",
            "Processing batch 94...\n",
            "Processing batch 95...\n",
            "Processing batch 96...\n",
            "Processing batch 97...\n",
            "Processing batch 98...\n",
            "Processing batch 99...\n",
            "Processing batch 100...\n",
            "Processing batch 101...\n",
            "Processing batch 102...\n",
            "Processing batch 103...\n",
            "Processing batch 104...\n",
            "Processing batch 105...\n",
            "Processing batch 106...\n",
            "Processing batch 107...\n",
            "Processing batch 108...\n",
            "Processing batch 109...\n",
            "Processing batch 110...\n",
            "Processing batch 111...\n",
            "Processing batch 112...\n",
            "Processing batch 113...\n",
            "Processing batch 114...\n",
            "Processing batch 115...\n",
            "Processing batch 116...\n",
            "Processing batch 117...\n",
            "Processing batch 118...\n",
            "Processing batch 119...\n",
            "Processing batch 120...\n",
            "Processing batch 121...\n",
            "Processing batch 122...\n",
            "Processing batch 123...\n",
            "Processing batch 124...\n",
            "Processing batch 125...\n",
            "Processing batch 126...\n",
            "Processing batch 127...\n",
            "Processing batch 128...\n",
            "Processing batch 129...\n",
            "Processing batch 130...\n",
            "Processing batch 131...\n",
            "Processing batch 132...\n",
            "Processing batch 133...\n",
            "Processing batch 134...\n",
            "Processing batch 135...\n",
            "Processing batch 136...\n",
            "Processing batch 137...\n",
            "Processing batch 138...\n",
            "Processing batch 139...\n",
            "Processing batch 140...\n",
            "Processing batch 141...\n",
            "Processing batch 142...\n",
            "Processing batch 143...\n",
            "Processing batch 144...\n",
            "Processing batch 145...\n",
            "Processing batch 146...\n",
            "Processing batch 147...\n",
            "Processing batch 148...\n",
            "Processing batch 149...\n",
            "Processing batch 150...\n",
            "Processing batch 151...\n",
            "Processing batch 152...\n",
            "Processing batch 153...\n",
            "Processing batch 154...\n",
            "Processing batch 155...\n",
            "Processing batch 156...\n",
            "Processing batch 157...\n",
            "Processing batch 158...\n",
            "Processing batch 159...\n",
            "Processing batch 160...\n",
            "Processing batch 161...\n",
            "Processing batch 162...\n",
            "Processing batch 163...\n",
            "Processing batch 164...\n",
            "Processing batch 165...\n",
            "Processing batch 166...\n",
            "Processing batch 167...\n",
            "Processing batch 168...\n",
            "Processing batch 169...\n",
            "Processing batch 170...\n",
            "Processing batch 171...\n",
            "Processing batch 172...\n",
            "Processing batch 173...\n",
            "Processing batch 174...\n",
            "Processing batch 175...\n",
            "Processing batch 176...\n",
            "Processing batch 177...\n",
            "Processing batch 178...\n",
            "Processing batch 179...\n",
            "Processing batch 180...\n",
            "Processing batch 181...\n",
            "Processing batch 182...\n",
            "Processing batch 183...\n",
            "Processing batch 184...\n",
            "Processing batch 185...\n",
            "Processing batch 186...\n",
            "Processing batch 187...\n",
            "Processing batch 188...\n",
            "Processing batch 189...\n",
            "Processing batch 190...\n",
            "Processing batch 191...\n",
            "Processing batch 192...\n",
            "Processing batch 193...\n",
            "Processing batch 194...\n",
            "Processing batch 195...\n",
            "Processing batch 196...\n",
            "Processing batch 197...\n",
            "Processing batch 198...\n",
            "Processing batch 199...\n",
            "Processing batch 200...\n",
            "Processing batch 201...\n",
            "Processing batch 202...\n",
            "Processing batch 203...\n",
            "Processing batch 204...\n",
            "Processing batch 205...\n",
            "Processing batch 206...\n",
            "Processing batch 207...\n",
            "Processing batch 208...\n",
            "Processing batch 209...\n",
            "Processing batch 210...\n",
            "Processing batch 211...\n",
            "Processing batch 212...\n",
            "Processing batch 213...\n",
            "Processing batch 214...\n",
            "Processing batch 215...\n",
            "Processing batch 216...\n",
            "Processing batch 217...\n",
            "Processing batch 218...\n",
            "Processing batch 219...\n",
            "Processing batch 220...\n",
            "Processing batch 221...\n",
            "Processing batch 222...\n",
            "Processing batch 223...\n",
            "Processing batch 224...\n",
            "Processing batch 225...\n",
            "Processing batch 226...\n",
            "Processing batch 227...\n",
            "Processing batch 228...\n",
            "Processing batch 229...\n",
            "Processing batch 230...\n",
            "Processing batch 231...\n",
            "Processing batch 232...\n",
            "Processing batch 233...\n",
            "Processing batch 234...\n",
            "Processing batch 235...\n",
            "Processing batch 236...\n",
            "Processing batch 237...\n",
            "Processing batch 238...\n",
            "Processing batch 239...\n",
            "Processing batch 240...\n",
            "Processing batch 241...\n",
            "Processing batch 242...\n",
            "Processing batch 243...\n",
            "Processing batch 244...\n",
            "Cosine Similarity Computed Successfully!\n"
          ]
        }
      ],
      "source": [
        "# Set Device (Use GPU if Available)\n",
        "device = \"cuda\" if torch.cuda.is_available() else \"cpu\"\n",
        "\n",
        "batch_size = 500  # Process in batches of 250\n",
        "\n",
        "similarity_scores = []\n",
        "\n",
        "# Process Data in Batches\n",
        "for i in range(0, len(df_full), batch_size):\n",
        "    print(f\"Processing batch {i // batch_size + 1}...\")  # Debugging\n",
        "\n",
        "    # Select batch\n",
        "    batch_df = df_full.iloc[i:i + batch_size]\n",
        "\n",
        "    # Convert to PyTorch Tensors and Move to GPU\n",
        "    ua_embeddings = torch.tensor(np.stack(batch_df[\"ua_embedding\"].to_numpy()), dtype=torch.float32).to(device)\n",
        "    metadata_embeddings = torch.tensor(np.stack(batch_df[\"metadata_embedding\"].to_numpy()), dtype=torch.float32).to(device)\n",
        "\n",
        "    # Compute Cosine Similarity\n",
        "    batch_similarity = torch.nn.functional.cosine_similarity(ua_embeddings, metadata_embeddings, dim=1)\n",
        "\n",
        "    # Store results in list (Move to CPU)\n",
        "    similarity_scores.extend(batch_similarity.cpu().numpy())\n",
        "\n",
        "    # Free GPU memory\n",
        "    del ua_embeddings, metadata_embeddings, batch_similarity\n",
        "    torch.cuda.empty_cache()\n",
        "\n",
        "# Add Similarity Scores to DataFrame\n",
        "df_full[\"similarity_score\"] = similarity_scores\n",
        "\n",
        "print(\"Cosine Similarity Computed Successfully!\")\n"
      ]
    },
    {
      "cell_type": "code",
      "execution_count": 18,
      "metadata": {
        "id": "c2HU5zkfC4-T"
      },
      "outputs": [],
      "source": [
        "df_full[\"similarity_score\"].to_csv(\"feature_9.csv\")"
      ]
    },
    {
      "cell_type": "markdown",
      "metadata": {
        "id": "RfPLUc5PqaKC"
      },
      "source": [
        "# Visualization and Insights"
      ]
    },
    {
      "cell_type": "code",
      "execution_count": 19,
      "metadata": {
        "id": "hficSIw2DP4g"
      },
      "outputs": [],
      "source": [
        "import matplotlib.pyplot as plt\n",
        "import seaborn as sns\n",
        "import pandas as pd"
      ]
    },
    {
      "cell_type": "code",
      "execution_count": 20,
      "metadata": {
        "colab": {
          "base_uri": "https://localhost:8080/",
          "height": 1000
        },
        "id": "CH12OaQmqaKD",
        "outputId": "95f90d17-d6e8-4c85-e795-6c02ce44a086"
      },
      "outputs": [
        {
          "data": {
            "image/png": "[encoded data removed]",
            "text/plain": [
              "<Figure size 1000x600 with 1 Axes>"
            ]
          },
          "metadata": {},
          "output_type": "display_data"
        },
        {
          "data": {
            "image/png": "[encoded data removed]",
            "text/plain": [
              "<Figure size 1000x600 with 1 Axes>"
            ]
          },
          "metadata": {},
          "output_type": "display_data"
        }
      ],
      "source": [
        "# 1. Distribution of Similarity Scores\n",
        "plt.figure(figsize=(10, 6))\n",
        "sns.histplot(df_full['similarity_score'], bins=50, kde=True)\n",
        "plt.title('Distribution of Similarity Scores')\n",
        "plt.xlabel('Similarity Score')\n",
        "plt.ylabel('Frequency')\n",
        "plt.show()\n",
        "\n",
        "# 2. Box Plot for Similarity Scores\n",
        "plt.figure(figsize=(10, 6))\n",
        "sns.boxplot(x=df_full['similarity_score'])\n",
        "plt.title('Box Plot of Similarity Scores')\n",
        "plt.xlabel('Similarity Score')\n",
        "plt.show()\n"
      ]
    },
    {
      "cell_type": "markdown",
      "metadata": {
        "id": "Oosz8w4vqaKD"
      },
      "source": [
        "## UA string similarity score Analysis\n",
        "\n",
        "### **1. Distribution of Similarity Scores**  \n",
        "\n",
        "#### **Observations**:  \n",
        "- **Primary Peak**: Majority of scores cluster around **0.75** (frequency ~8,000).  \n",
        "- **Secondary Peaks**: Smaller spikes at **0.70** and **0.80**.  \n",
        "- **Low-Score Tail**: Non-trivial counts (~2,000) at **0.60–0.65**.  \n",
        "\n",
        "#### **Abnormality Insights**:  \n",
        "- **0.75 Peak**: Represents **normal traffic** where user-agent (UA) and device metadata (OS, model, etc.) align.  \n",
        "- **Low Scores (0.60–0.65)**:  \n",
        "  - Indicate **UA-metadata mismatches**, e.g.:  \n",
        "    - Spoofed UAs (e.g., `Chrome` UA paired with `iOS` metadata).  \n",
        "    - Malware/botnets using randomized UA strings to evade detection.  \n",
        "  - Could signal **credential stuffing** (tools like Sentry MBA generate mismatched headers).  \n",
        "\n",
        "---\n",
        "\n",
        "### **2. Box Plot of Similarity Scores**  \n",
        "\n",
        "#### **Observations**:  \n",
        "- **Median**: ~0.75 (matches distribution peak).  \n",
        "- **IQR**: 0.70–0.80 (interquartile range).  \n",
        "- **Outliers**: Scores below **0.65** (beyond the lower whisker).  \n",
        "\n",
        "#### **Abnormality Insights**:  \n",
        "- **Outliers (<0.65)**:  \n",
        "  - **Advanced Threats**: Likely **malicious automation** (e.g., headless browsers with mismatched metadata).  \n",
        "- **Tight IQR**: Most legitimate traffic has consistent UA-metadata pairs.  \n",
        "\n",
        "### **Summary**  \n",
        "The data reveals **two distinct populations**:  \n",
        "- **Legitimate Traffic**: Tightly clustered around 0.75 (UA-metadata consistency).  \n",
        "- **Anomalous Traffic**: Low-score outliers (0.60–0.65) indicating **spoofing, bots, or credential-stuffing tools**.  "
      ]
    },
    {
      "cell_type": "markdown",
      "metadata": {
        "id": "HUF1-A8_qaKE"
      },
      "source": []
    }
  ],
  "metadata": {
    "accelerator": "GPU",
    "colab": {
      "gpuType": "T4",
      "provenance": []
    },
    "kernelspec": {
      "display_name": ".venv",
      "language": "python",
      "name": "python3"
    },
    "language_info": {
      "codemirror_mode": {
        "name": "ipython",
        "version": 3
      },
      "file_extension": ".py",
      "mimetype": "text/x-python",
      "name": "python",
      "nbconvert_exporter": "python",
      "pygments_lexer": "ipython3",
      "version": "3.13.1"
    }
  },
  "nbformat": 4,
  "nbformat_minor": 0
}
